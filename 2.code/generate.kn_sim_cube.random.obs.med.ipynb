{
 "cells": [
  {
   "cell_type": "markdown",
   "metadata": {},
   "source": [
    "# Generate random observation data for 7DT and KMTNet\n",
    "- Gregory S.H. Paek\n",
    "- 22.09.29\n",
    "- medium-band, ugri, BVRI\n"
   ]
  },
  {
   "cell_type": "code",
   "execution_count": 1,
   "metadata": {},
   "outputs": [],
   "source": [
    "import glob, os\n",
    "from astropy.io import ascii\n",
    "import matplotlib.pyplot as plt\n",
    "import numpy as np\n",
    "from astropy.table import Table, vstack\n",
    "import matplotlib as mpl\n",
    "from astropy import units as u\n",
    "import speclite.filters\n",
    "import time\n",
    "import multiprocessing\n",
    "from itertools import repeat"
   ]
  },
  {
   "cell_type": "code",
   "execution_count": 2,
   "metadata": {},
   "outputs": [],
   "source": [
    "from IPython.core.interactiveshell import InteractiveShell\n",
    "InteractiveShell.ast_node_interactivity = \"last_expr\"\n",
    "\n",
    "mpl.rcParams[\"axes.titlesize\"] = 14\n",
    "mpl.rcParams[\"axes.labelsize\"] = 20\n",
    "plt.rcParams['savefig.dpi'] = 200\n",
    "plt.rc('font', family='serif')"
   ]
  },
  {
   "cell_type": "markdown",
   "metadata": {},
   "source": [
    "## Useful functions"
   ]
  },
  {
   "cell_type": "code",
   "execution_count": 3,
   "metadata": {},
   "outputs": [],
   "source": [
    "from helper import makeSpecColors\n",
    "from helper import convert_flam2fnu\n",
    "from helper import get_wollaeger\n",
    "from helper import convert_app2abs\n",
    "from helper import convert_abs2app\n",
    "kncbtbl = get_wollaeger()\n",
    "from helper import get_bandwidth_table\n",
    "bdwtbl = get_bandwidth_table()\n",
    "#\tspeclite\n",
    "from helper import get_speclite_med\n",
    "meds = get_speclite_med()\n",
    "mlam = meds.effective_wavelengths\n",
    "mbdw = bdwtbl['bandwidth'][bdwtbl['group']=='Med']*u.Angstrom\n",
    "from helper import get_speclite_sdss\n",
    "sdss = get_speclite_sdss()\n",
    "slam = sdss.effective_wavelengths\n",
    "sbdw = bdwtbl['bandwidth'][bdwtbl['group']=='SDSS']*u.Angstrom\n",
    "from helper import get_speclite_jc\n",
    "jc = get_speclite_jc()\n",
    "jclam = jc.effective_wavelengths\n",
    "jcbdw = bdwtbl['bandwidth'][bdwtbl['group']=='Johnson Cousin']*u.Angstrom\n",
    "#\n",
    "from helper import get_7dt_depth\n",
    "dptbl = get_7dt_depth(exptime=180)"
   ]
  },
  {
   "cell_type": "code",
   "execution_count": 4,
   "metadata": {},
   "outputs": [],
   "source": [
    "magoffset = -4.3"
   ]
  },
  {
   "cell_type": "markdown",
   "metadata": {},
   "source": [
    "- Synphot Table"
   ]
  },
  {
   "cell_type": "code",
   "execution_count": 5,
   "metadata": {},
   "outputs": [
    {
     "data": {
      "text/html": [
       "<div><i>Table length=15</i>\n",
       "<table id=\"table4586676592\" class=\"table-striped table-bordered table-condensed\">\n",
       "<thead><tr><th>t</th><th>m400</th><th>m425</th><th>m450</th><th>m475</th><th>m500</th><th>m525</th><th>m550</th><th>m575</th><th>m600</th><th>m625</th><th>m650</th><th>m675</th><th>m700</th><th>m725</th><th>m750</th><th>m775</th><th>m800</th><th>m825</th><th>m850</th><th>m875</th></tr></thead>\n",
       "<thead><tr><th>d</th><th>mag(AB)</th><th>mag(AB)</th><th>mag(AB)</th><th>mag(AB)</th><th>mag(AB)</th><th>mag(AB)</th><th>mag(AB)</th><th>mag(AB)</th><th>mag(AB)</th><th>mag(AB)</th><th>mag(AB)</th><th>mag(AB)</th><th>mag(AB)</th><th>mag(AB)</th><th>mag(AB)</th><th>mag(AB)</th><th>mag(AB)</th><th>mag(AB)</th><th>mag(AB)</th><th>mag(AB)</th></tr></thead>\n",
       "<thead><tr><th>float64</th><th>float64</th><th>float64</th><th>float64</th><th>float64</th><th>float64</th><th>float64</th><th>float64</th><th>float64</th><th>float64</th><th>float64</th><th>float64</th><th>float64</th><th>float64</th><th>float64</th><th>float64</th><th>float64</th><th>float64</th><th>float64</th><th>float64</th><th>float64</th></tr></thead>\n",
       "<tr><td>0.297</td><td>-14.019</td><td>-13.942</td><td>-13.855</td><td>-13.756</td><td>-13.654</td><td>-13.553</td><td>-13.459</td><td>-13.412</td><td>-13.405</td><td>-13.392</td><td>-13.375</td><td>-13.343</td><td>-13.295</td><td>-13.244</td><td>-13.146</td><td>-13.122</td><td>-13.076</td><td>-13.016</td><td>-12.924</td><td>-12.854</td></tr>\n",
       "<tr><td>0.324</td><td>-14.024</td><td>-13.950</td><td>-13.877</td><td>-13.782</td><td>-13.689</td><td>-13.599</td><td>-13.523</td><td>-13.468</td><td>-13.444</td><td>-13.435</td><td>-13.399</td><td>-13.386</td><td>-13.331</td><td>-13.283</td><td>-13.210</td><td>-13.148</td><td>-13.121</td><td>-13.071</td><td>-13.008</td><td>-12.939</td></tr>\n",
       "<tr><td>0.354</td><td>-14.008</td><td>-13.938</td><td>-13.878</td><td>-13.793</td><td>-13.702</td><td>-13.638</td><td>-13.568</td><td>-13.511</td><td>-13.480</td><td>-13.456</td><td>-13.431</td><td>-13.413</td><td>-13.370</td><td>-13.326</td><td>-13.267</td><td>-13.198</td><td>-13.164</td><td>-13.114</td><td>-13.042</td><td>-13.021</td></tr>\n",
       "<tr><td>0.386</td><td>-13.963</td><td>-13.890</td><td>-13.856</td><td>-13.794</td><td>-13.702</td><td>-13.652</td><td>-13.611</td><td>-13.551</td><td>-13.509</td><td>-13.475</td><td>-13.451</td><td>-13.430</td><td>-13.399</td><td>-13.346</td><td>-13.292</td><td>-13.242</td><td>-13.200</td><td>-13.160</td><td>-13.097</td><td>-13.058</td></tr>\n",
       "<tr><td>0.42</td><td>-13.874</td><td>-13.807</td><td>-13.804</td><td>-13.785</td><td>-13.703</td><td>-13.650</td><td>-13.633</td><td>-13.600</td><td>-13.558</td><td>-13.519</td><td>-13.479</td><td>-13.445</td><td>-13.424</td><td>-13.360</td><td>-13.316</td><td>-13.282</td><td>-13.228</td><td>-13.190</td><td>-13.158</td><td>-13.094</td></tr>\n",
       "<tr><td>0.459</td><td>-13.698</td><td>-13.665</td><td>-13.691</td><td>-13.740</td><td>-13.695</td><td>-13.646</td><td>-13.643</td><td>-13.637</td><td>-13.600</td><td>-13.566</td><td>-13.521</td><td>-13.478</td><td>-13.443</td><td>-13.399</td><td>-13.353</td><td>-13.308</td><td>-13.262</td><td>-13.236</td><td>-13.201</td><td>-13.167</td></tr>\n",
       "<tr><td>0.5</td><td>-13.414</td><td>-13.447</td><td>-13.507</td><td>-13.639</td><td>-13.658</td><td>-13.623</td><td>-13.637</td><td>-13.661</td><td>-13.646</td><td>-13.619</td><td>-13.576</td><td>-13.529</td><td>-13.488</td><td>-13.439</td><td>-13.397</td><td>-13.344</td><td>-13.313</td><td>-13.290</td><td>-13.257</td><td>-13.235</td></tr>\n",
       "<tr><td>0.545</td><td>-13.037</td><td>-13.138</td><td>-13.255</td><td>-13.451</td><td>-13.559</td><td>-13.561</td><td>-13.588</td><td>-13.661</td><td>-13.682</td><td>-13.676</td><td>-13.641</td><td>-13.594</td><td>-13.548</td><td>-13.498</td><td>-13.465</td><td>-13.407</td><td>-13.374</td><td>-13.347</td><td>-13.319</td><td>-13.299</td></tr>\n",
       "<tr><td>0.595</td><td>-12.627</td><td>-12.749</td><td>-12.956</td><td>-13.180</td><td>-13.374</td><td>-13.442</td><td>-13.490</td><td>-13.605</td><td>-13.679</td><td>-13.706</td><td>-13.696</td><td>-13.654</td><td>-13.611</td><td>-13.567</td><td>-13.532</td><td>-13.481</td><td>-13.441</td><td>-13.408</td><td>-13.383</td><td>-13.347</td></tr>\n",
       "<tr><td>0.648</td><td>-12.266</td><td>-12.375</td><td>-12.636</td><td>-12.885</td><td>-13.109</td><td>-13.256</td><td>-13.344</td><td>-13.490</td><td>-13.623</td><td>-13.689</td><td>-13.718</td><td>-13.690</td><td>-13.658</td><td>-13.611</td><td>-13.576</td><td>-13.529</td><td>-13.489</td><td>-13.449</td><td>-13.422</td><td>-13.386</td></tr>\n",
       "<tr><td>0.707</td><td>-11.975</td><td>-12.075</td><td>-12.331</td><td>-12.610</td><td>-12.823</td><td>-13.022</td><td>-13.162</td><td>-13.321</td><td>-13.499</td><td>-13.625</td><td>-13.690</td><td>-13.697</td><td>-13.671</td><td>-13.630</td><td>-13.594</td><td>-13.546</td><td>-13.496</td><td>-13.452</td><td>-13.431</td><td>-13.395</td></tr>\n",
       "<tr><td>0.771</td><td>-11.728</td><td>-11.832</td><td>-12.061</td><td>-12.376</td><td>-12.580</td><td>-12.778</td><td>-12.956</td><td>-13.140</td><td>-13.329</td><td>-13.505</td><td>-13.615</td><td>-13.661</td><td>-13.656</td><td>-13.621</td><td>-13.584</td><td>-13.533</td><td>-13.480</td><td>-13.437</td><td>-13.406</td><td>-13.367</td></tr>\n",
       "<tr><td>0.841</td><td>-11.499</td><td>-11.622</td><td>-11.825</td><td>-12.159</td><td>-12.386</td><td>-12.562</td><td>-12.760</td><td>-12.955</td><td>-13.159</td><td>-13.346</td><td>-13.499</td><td>-13.584</td><td>-13.609</td><td>-13.584</td><td>-13.548</td><td>-13.499</td><td>-13.440</td><td>-13.394</td><td>-13.364</td><td>-13.320</td></tr>\n",
       "<tr><td>0.917</td><td>-11.270</td><td>-11.426</td><td>-11.612</td><td>-11.950</td><td>-12.219</td><td>-12.388</td><td>-12.583</td><td>-12.775</td><td>-12.986</td><td>-13.179</td><td>-13.352</td><td>-13.472</td><td>-13.531</td><td>-13.525</td><td>-13.492</td><td>-13.444</td><td>-13.383</td><td>-13.337</td><td>-13.304</td><td>-13.263</td></tr>\n",
       "<tr><td>1.0</td><td>-10.997</td><td>-11.221</td><td>-11.417</td><td>-11.740</td><td>-12.050</td><td>-12.234</td><td>-12.416</td><td>-12.615</td><td>-12.809</td><td>-13.013</td><td>-13.194</td><td>-13.324</td><td>-13.420</td><td>-13.433</td><td>-13.417</td><td>-13.360</td><td>-13.311</td><td>-13.266</td><td>-13.225</td><td>-13.200</td></tr>\n",
       "</table></div>"
      ],
      "text/plain": [
       "<Table length=15>\n",
       "   t      m400    m425    m450    m475  ...   m800    m825    m850    m875 \n",
       "   d    mag(AB) mag(AB) mag(AB) mag(AB) ... mag(AB) mag(AB) mag(AB) mag(AB)\n",
       "float64 float64 float64 float64 float64 ... float64 float64 float64 float64\n",
       "------- ------- ------- ------- ------- ... ------- ------- ------- -------\n",
       "  0.297 -14.019 -13.942 -13.855 -13.756 ... -13.076 -13.016 -12.924 -12.854\n",
       "  0.324 -14.024 -13.950 -13.877 -13.782 ... -13.121 -13.071 -13.008 -12.939\n",
       "  0.354 -14.008 -13.938 -13.878 -13.793 ... -13.164 -13.114 -13.042 -13.021\n",
       "  0.386 -13.963 -13.890 -13.856 -13.794 ... -13.200 -13.160 -13.097 -13.058\n",
       "   0.42 -13.874 -13.807 -13.804 -13.785 ... -13.228 -13.190 -13.158 -13.094\n",
       "  0.459 -13.698 -13.665 -13.691 -13.740 ... -13.262 -13.236 -13.201 -13.167\n",
       "    0.5 -13.414 -13.447 -13.507 -13.639 ... -13.313 -13.290 -13.257 -13.235\n",
       "  0.545 -13.037 -13.138 -13.255 -13.451 ... -13.374 -13.347 -13.319 -13.299\n",
       "  0.595 -12.627 -12.749 -12.956 -13.180 ... -13.441 -13.408 -13.383 -13.347\n",
       "  0.648 -12.266 -12.375 -12.636 -12.885 ... -13.489 -13.449 -13.422 -13.386\n",
       "  0.707 -11.975 -12.075 -12.331 -12.610 ... -13.496 -13.452 -13.431 -13.395\n",
       "  0.771 -11.728 -11.832 -12.061 -12.376 ... -13.480 -13.437 -13.406 -13.367\n",
       "  0.841 -11.499 -11.622 -11.825 -12.159 ... -13.440 -13.394 -13.364 -13.320\n",
       "  0.917 -11.270 -11.426 -11.612 -11.950 ... -13.383 -13.337 -13.304 -13.263\n",
       "    1.0 -10.997 -11.221 -11.417 -11.740 ... -13.311 -13.266 -13.225 -13.200"
      ]
     },
     "execution_count": 5,
     "metadata": {},
     "output_type": "execute_result"
    }
   ],
   "source": [
    "knsp = '../3.table/kn_sim_cube_synphot/Run_TS_dyn_all_lanth_wind2_all_md0.1_vd0.3_mw0.1_vw0.3_angle0_synphot_med.ecsv'\n",
    "intbl = ascii.read(knsp)\n",
    "intbl[10:25]"
   ]
  },
  {
   "cell_type": "code",
   "execution_count": 6,
   "metadata": {},
   "outputs": [],
   "source": [
    "def extract_param_kn_sim_cube(knsp):\n",
    "\tpart = os.path.basename(knsp).split('_')\n",
    "\n",
    "\tif part[1] == 'TP':\n",
    "\t\tdshape = 'toroidal'\n",
    "\telif part[1] == 'TS':\n",
    "\t\tdshape = 'spherical'\n",
    "\telse:\n",
    "\t\tdshape = ''\n",
    "\n",
    "\t#\tLatitude\n",
    "\tif part[5] == 'wind1':\n",
    "\t\tlat = 'Axial'\n",
    "\telif part[5] == 'wind2':\n",
    "\t\tlat = 'Edge'\n",
    "\telse:\n",
    "\t\tlat = ''\n",
    "\n",
    "\t#\tEjecta mass for low-Ye [solar mass]\n",
    "\tmd = float(part[7].replace('md', ''))\n",
    "\n",
    "\t#\tEjecta velocity for low-Ye [N*c]\n",
    "\tvd = float(part[8].replace('vd', ''))\n",
    "\n",
    "\t#\tEjecta mass for high-Ye [solar mass]\n",
    "\tmw = float(part[9].replace('mw', ''))\n",
    "\n",
    "\t#\tEjecta velocity for high-Ye [N*c]\n",
    "\tvw = float(part[10].replace('vw', ''))\n",
    "\n",
    "\t#\tAngle\n",
    "\tangle = float(part[11].replace('angle', ''))\n",
    "\n",
    "\treturn dshape, lat, md, vd, mw, vw, angle"
   ]
  },
  {
   "cell_type": "code",
   "execution_count": 7,
   "metadata": {},
   "outputs": [
    {
     "name": "stdout",
     "output_type": "stream",
     "text": [
      "spherical Edge 0.1 0.3 0.1 0.3 0.0\n"
     ]
    }
   ],
   "source": [
    "dshape, lat, md, vd, mw, vw, angle = extract_param_kn_sim_cube(knsp)\n",
    "print(dshape, lat, md, vd, mw, vw, angle)"
   ]
  },
  {
   "cell_type": "markdown",
   "metadata": {},
   "source": [
    "- Depth Table"
   ]
  },
  {
   "cell_type": "code",
   "execution_count": 8,
   "metadata": {},
   "outputs": [
    {
     "data": {
      "text/html": [
       "<div><i>Table length=3</i>\n",
       "<table id=\"table4958804512\" class=\"table-striped table-bordered table-condensed\">\n",
       "<thead><tr><th>index</th><th>name</th><th>center_wavelength</th><th>fwhm</th><th>min_wavelength</th><th>max_wavelength</th><th>noise_countrate</th><th>surface_brightness</th><th>5sigma_depth</th></tr></thead>\n",
       "<thead><tr><th></th><th></th><th>Angstrom</th><th>Angstrom</th><th>Angstrom</th><th>Angstrom</th><th>electron / s</th><th>mag / arcsec2</th><th>mag</th></tr></thead>\n",
       "<thead><tr><th>int64</th><th>str4</th><th>float64</th><th>float64</th><th>float64</th><th>float64</th><th>float64</th><th>float64</th><th>float64</th></tr></thead>\n",
       "<tr><td>0</td><td>m400</td><td>4000.0</td><td>250.0</td><td>3875.0</td><td>4125.0</td><td>0.1455</td><td>20.73</td><td>20.81</td></tr>\n",
       "<tr><td>1</td><td>m425</td><td>4250.0</td><td>250.0</td><td>4125.0</td><td>4375.0</td><td>0.2042</td><td>20.85</td><td>20.93</td></tr>\n",
       "<tr><td>2</td><td>m450</td><td>4500.0</td><td>250.0</td><td>4375.0</td><td>4625.0</td><td>0.2812</td><td>20.89</td><td>20.97</td></tr>\n",
       "</table></div>"
      ],
      "text/plain": [
       "<Table length=3>\n",
       "index name center_wavelength ... noise_countrate surface_brightness 5sigma_depth\n",
       "                Angstrom     ...   electron / s    mag / arcsec2        mag     \n",
       "int64 str4      float64      ...     float64          float64         float64   \n",
       "----- ---- ----------------- ... --------------- ------------------ ------------\n",
       "    0 m400            4000.0 ...          0.1455              20.73        20.81\n",
       "    1 m425            4250.0 ...          0.2042              20.85        20.93\n",
       "    2 m450            4500.0 ...          0.2812              20.89        20.97"
      ]
     },
     "execution_count": 8,
     "metadata": {},
     "output_type": "execute_result"
    }
   ],
   "source": [
    "dptbl[:3]"
   ]
  },
  {
   "cell_type": "code",
   "execution_count": 9,
   "metadata": {},
   "outputs": [],
   "source": [
    "def calc_snr(m, ul, sigma=5):\n",
    "\tsnr = sigma*10**((ul-m)/5)\n",
    "\treturn snr\n",
    "\n",
    "def convert_snr2magerr(snr):\n",
    "\tmerr = 2.5*np.log10(1+1/snr)\n",
    "\treturn merr\n",
    "\n",
    "def calc_GaussianFraction(seeing, optfactor=0.6731, path_plot=None):\n",
    "\timport numpy as np\n",
    "\timport matplotlib.pyplot as plt\n",
    "\tfrom scipy.special import erf\n",
    "\n",
    "\t# seeing, optfactor= 1.5, 0.6731\n",
    "\n",
    "\tmu = 0.0\n",
    "\t# sigma = fwhm_seeing/2.355\n",
    "\tfwhm2sigma = seeing*2.355\n",
    "\t# optfactor = 0.6731\n",
    "\tsigma = fwhm2sigma*optfactor\n",
    "\n",
    "\tx = np.linspace(-8, 8, 1000)\n",
    "\ty = (1 / np.sqrt(2 * np.pi * sigma**2)) * np.exp(-(x-mu)**2 / (2 * sigma**2))\n",
    "\ty_cum = 0.5 * (1 + erf((x - mu)/(np.sqrt(2 * sigma**2))))\n",
    "\n",
    "\tindx_aperture = np.where(\n",
    "\t\t(x>-sigma*optfactor) &\n",
    "\t\t(x<+sigma*optfactor)\n",
    "\t)\n",
    "\txaper = x[indx_aperture]\n",
    "\tyaper = y[indx_aperture]\n",
    "\n",
    "\tfrac = np.sum(yaper)/np.sum(y) \n",
    "\t# print(np.sum(y), np.sum(yaper), frac)\n",
    "\n",
    "\tif path_plot != None:\n",
    "\t\tplt.plot(x, y, alpha=0.5, label=f'PDF of N(0, {sigma:1.3f})', lw=5)\n",
    "\t\tplt.plot(xaper, yaper, alpha=1.0, label=f'Aperture ({frac*1e2:.1f}%)', lw=5,)\n",
    "\t\tplt.xlabel('x', fontsize=20)\n",
    "\t\tplt.ylabel('f(x)', fontsize=20)\n",
    "\t\tplt.legend(loc='lower center', fontsize=14)\n",
    "\t\t# plt.show()\n",
    "\t\tplt.savefig(path_plot, overwrite=True)\n",
    "\telse:\n",
    "\t\tpass\n",
    "\n",
    "\treturn frac\n",
    "\n",
    "def add_noise(mu, sigma, nseed, n=10, path_plot=None):\n",
    "\t\"\"\"\n",
    "\tmu, sigma = 17.5, 0.1\n",
    "\tn = 10\n",
    "\t\"\"\"\n",
    "\tfrom scipy.stats import norm\n",
    "\timport numpy as np\n",
    "\t\n",
    "\tx = np.arange(mu-sigma*n, mu+sigma*n, sigma*1e-3)\n",
    "\ty = norm(mu, sigma).pdf(x)\n",
    "\n",
    "\tif path_plot != None:\n",
    "\t\tresultlist = []\n",
    "\t\tfor i in range(10000):\n",
    "\t\t\txobs = np.random.choice(x, p=y/np.sum(y))\n",
    "\t\t\t# print(xobs)\n",
    "\t\t\tresultlist.append(xobs)\n",
    "\t\tplt.axvspan(xmin=mu-sigma, xmax=mu+sigma, alpha=0.5, color='tomato',)\n",
    "\t\tplt.axvline(x=mu, ls='--', alpha=1.0, color='tomato', lw=3)\n",
    "\t\tplt.plot(x, y, lw=3, alpha=0.75, color='grey')\n",
    "\t\tplt.hist(resultlist, lw=3, alpha=0.75, color='k', histtype='step', density=True)\n",
    "\t\tplt.xlabel(r'$\\rm m_{obs}$')\n",
    "\t\tplt.plot(x, y)\n",
    "\t\tplt.savefig(path_plot, overwrite=True)\n",
    "\telse:\n",
    "\t\tpass\n",
    "\t#\tmore complicated choice with the fixed random seed\n",
    "\tnp.random.seed(int((nseed+1)+(mu*1e2)))\n",
    "\treturn np.random.choice(x, p=y/np.sum(y))"
   ]
  },
  {
   "cell_type": "code",
   "execution_count": 10,
   "metadata": {},
   "outputs": [
    {
     "data": {
      "text/plain": [
       "Text(0.5, 0, '$\\\\rm m_{obs}$')"
      ]
     },
     "execution_count": 10,
     "metadata": {},
     "output_type": "execute_result"
    },
    {
     "data": {
      "image/png": "[encoded data removed]",
      "text/plain": [
       "<Figure size 640x480 with 1 Axes>"
      ]
     },
     "metadata": {},
     "output_type": "display_data"
    }
   ],
   "source": [
    "mu, sigma = 17.5, 0.1\n",
    "n = 10\n",
    "\n",
    "from scipy.stats import norm\n",
    "import numpy as np\n",
    "\n",
    "x = np.arange(mu-sigma*n, mu+sigma*n, sigma*1e-3)\n",
    "y = norm(mu, sigma).pdf(x)\n",
    "\n",
    "resultlist = []\n",
    "for i in range(10000):\n",
    "\txobs = np.random.choice(x, p=y/np.sum(y))\n",
    "\t# print(xobs)\n",
    "\tresultlist.append(xobs)\n",
    "plt.axvspan(xmin=mu-sigma, xmax=mu+sigma, alpha=0.5, color='tomato',)\n",
    "plt.axvline(x=mu, ls='--', alpha=1.0, color='tomato', lw=3)\n",
    "plt.plot(x, y, lw=3, alpha=0.75, color='grey')\n",
    "plt.hist(resultlist, lw=3, alpha=0.75, color='k', histtype='step', density=True)\n",
    "rdval = np.random.choice(x, p=y/np.sum(y))\n",
    "plt.xlabel(r'$\\rm m_{obs}$')\n"
   ]
  },
  {
   "cell_type": "code",
   "execution_count": 11,
   "metadata": {},
   "outputs": [],
   "source": [
    "aperfrac = calc_GaussianFraction(seeing=1.5, optfactor=0.6731, path_plot=None)"
   ]
  },
  {
   "cell_type": "code",
   "execution_count": 12,
   "metadata": {},
   "outputs": [
    {
     "data": {
      "text/plain": [
       "9.948786966171316"
      ]
     },
     "execution_count": 12,
     "metadata": {},
     "output_type": "execute_result"
    }
   ],
   "source": [
    "calc_snr(m=17, ul=20, sigma=5)*aperfrac"
   ]
  },
  {
   "cell_type": "code",
   "execution_count": 13,
   "metadata": {},
   "outputs": [],
   "source": [
    "#\tSetting\n",
    "niteration = 10\n",
    "d = 40*u.Mpc\n",
    "aperfrac = calc_GaussianFraction(seeing=1.5, optfactor=0.6731, path_plot=None)\n",
    "times = np.unique(intbl['t'])\n",
    "mfilterlist = [filte for filte in intbl.keys() if filte != 't']\n",
    "\n",
    "t0 = time.time()\n",
    "tablelist = []\n",
    "# for nseed in range(niteration):\n",
    "\n",
    "# \toutbl = Table()\n",
    "# \t# outbl.meta['distance'] = d\n",
    "# \toutbl['seed'] = [nseed]*len(times)\n",
    "# \toutbl['t'] = times\n",
    "\n",
    "# \tfor filte in mfilterlist:\n",
    "# \t\tdepth = dptbl['5sigma_depth'][dptbl['name']==filte].item()*u.ABmag\n",
    "# \t\t# outbl.meta[f'depth_{filte}'] = depth\n",
    "\n",
    "# \t\toutbl[f'magabs_{filte}'] = (intbl[filte]+magoffset)*u.ABmag\n",
    "# \t\toutbl[f'magapp_{filte}'] = convert_abs2app(outbl[f'magabs_{filte}'], d.to(u.pc).value)*u.ABmag\n",
    "# \t\toutbl[f'snr_{filte}'] = calc_snr(outbl[f'magapp_{filte}'], depth.value)*aperfrac\n",
    "# \t\toutbl[f'magerr_{filte}'] = convert_snr2magerr(outbl[f'snr_{filte}'])*u.ABmag\n",
    "# \t\toutbl[f'magobs_{filte}'] = [add_noise(mu=m, sigma=merr, nseed=nseed, n=10, path_plot=None) for m, merr in zip(outbl[f'magapp_{filte}'], outbl[f'magerr_{filte}'])]*u.ABmag\n",
    "\t\t\n",
    "# \t\toutbl[f'fnu_{filte}'] = outbl[f'magapp_{filte}'].to(u.uJy)\n",
    "# \t\toutbl[f'fnuobs_{filte}'] = outbl[f'magobs_{filte}'].to(u.uJy)\n",
    "# \t\toutbl[f'fnuerr_{filte}'] = outbl[f'fnu_{filte}']/outbl[f'snr_{filte}']\n",
    "\n",
    "# \t\toutbl[f'detection_{filte}'] = [True if m<=depth.value else False for m in outbl[f'magobs_{filte}']]\n",
    "\n",
    "# \t\toutbl[f'magabs_{filte}'].format = '1.3f'\n",
    "# \t\toutbl[f'magapp_{filte}'].format = '1.3f'\n",
    "# \t\toutbl[f'magerr_{filte}'].format = '1.3f'\n",
    "# \t\toutbl[f'magobs_{filte}'].format = '1.3f'\n",
    "# \t\toutbl[f'fnu_{filte}'].format = '1.3f'\n",
    "# \t\toutbl[f'fnuobs_{filte}'].format = '1.3f'\n",
    "# \t\toutbl[f'fnuerr_{filte}'].format = '1.3f'\n",
    "# \t\toutbl[f'snr_{filte}'].format = '1.3f'\n",
    "\n",
    "# \t#\tTable of results --> tabelist\n",
    "# \ttablelist.append(outbl)\n",
    "\n",
    "# comtbl = vstack(tablelist)\n",
    "# comtbl.meta['name'] = os.path.basename(knsp)\n",
    "# for filte in mfilterlist: comtbl.meta[f'depth_{filte}'] = dptbl['5sigma_depth'][dptbl['name']==filte].item()*u.ABmag\n",
    "# comtbl.meta['distance'] = d\n",
    "# comtbl.meta['dshape'] = dshape\n",
    "# comtbl.meta['lat'] = lat\n",
    "# comtbl.meta['md'] = md\n",
    "# comtbl.meta['vd'] = vd\n",
    "# comtbl.meta['mw'] = mw\n",
    "# comtbl.meta['vw'] = vw\n",
    "# comtbl.meta['angle'] = angle\n",
    "\n",
    "# delt = time.time() - t0\n",
    "# print(f\"Time ({niteration} iter.) : {delt:1.3f} sec\")\n",
    "# print(f\"Time/iteration  : {delt/niteration:1.3f} sec/iter.\")"
   ]
  },
  {
   "cell_type": "markdown",
   "metadata": {},
   "source": [
    "- Expected time"
   ]
  },
  {
   "cell_type": "code",
   "execution_count": 14,
   "metadata": {},
   "outputs": [],
   "source": [
    "# ndelt = delt/niteration\n",
    "# for nn in np.arange(0, 6+1, 1):\n",
    "# \tprint(f\"10^{nn} iter. : {(ndelt*10**nn)/60:1.3f} min\")"
   ]
  },
  {
   "cell_type": "code",
   "execution_count": 15,
   "metadata": {},
   "outputs": [],
   "source": [
    "# comtbl[10:30]\n",
    "# comtbl.meta"
   ]
  },
  {
   "cell_type": "code",
   "execution_count": 16,
   "metadata": {},
   "outputs": [],
   "source": [
    "# t = times[0]\n",
    "# # seeds = np.arange(0, 99+1, 1)\n",
    "# seeds = np.arange(0, 9+1, 1)\n",
    "# nseed = len(seeds)\n",
    "# colors = makeSpecColors(nseed)\n",
    "\n",
    "# for ii, nseed in enumerate(seeds):\n",
    "# \tmagobslist = [comtbl[key][(comtbl['t']==t) & (comtbl['seed']==nseed)].item() for key in comtbl.keys() if 'magobs' in key]\n",
    "# \tmagerrlist = [comtbl[key][(comtbl['t']==t) & (comtbl['seed']==nseed)].item() for key in comtbl.keys() if 'magerr' in key]\n",
    "# \tif ii == 0:\n",
    "# \t\tmagapplist = [comtbl[key][(comtbl['t']==t) & (comtbl['seed']==nseed)].item() for key in comtbl.keys() if 'magapp' in key]\n",
    "# \t\tplt.errorbar(mlam, magapplist, xerr=mbdw/2, yerr=magerrlist, marker='.', ms=10, capsize=3, elinewidth=2, c='red', label='Truth', ls='None', alpha=1.0)\n",
    "# \telse:\n",
    "# \t\tpass\n",
    "\n",
    "# \tplt.errorbar(mlam, magobslist, xerr=mbdw/2, yerr=magerrlist, ls='None', alpha=0.05, c='grey',)\n",
    "# \t# plt.errorbar(mlam, magobslist, xerr=mbdw/2, yerr=magerrlist, label=f'{nseed}th obs', ls='None', alpha=0.5, c=colors[ii])\n",
    "# \t# plt.errorbar(mlam, magobslist, xerr=mbdw/2, yerr=magerrlist, label=f'{nseed}th obs', ls='None', alpha=0.05, c='dodgerblue')\n",
    "\n",
    "# xl, xr = plt.xlim()\n",
    "# yl, yu = plt.ylim()\n",
    "\n",
    "# plt.errorbar(0, 0, xerr=0, yerr=0, ls='None', alpha=1.0, c='grey', label='Obs')\n",
    "\n",
    "# plt.legend(loc='upper center', ncol=4, fontsize=14)\n",
    "# plt.xlim([xl, xr])\n",
    "# plt.ylim([yu, yl])\n",
    "# plt.xlabel(r'Wavelength [$\\rm \\AA$]', fontsize=14)\n",
    "# plt.ylabel('App. mag [AB]', fontsize=14)\n",
    "# plt.title(f't={t:1.3f} days')"
   ]
  },
  {
   "cell_type": "markdown",
   "metadata": {},
   "source": [
    "# Iteration"
   ]
  },
  {
   "cell_type": "markdown",
   "metadata": {},
   "source": [
    "- Setting"
   ]
  },
  {
   "cell_type": "code",
   "execution_count": 17,
   "metadata": {},
   "outputs": [
    {
     "name": "stderr",
     "output_type": "stream",
     "text": [
      "mkdir: ../5.result/kn_sim_cube_obs: File exists\n"
     ]
    }
   ],
   "source": [
    "path_result = \"../5.result/kn_sim_cube_obs\"\n",
    "if ~os.path.exists(path_result): os.system(f\"mkdir {path_result}\")"
   ]
  },
  {
   "cell_type": "code",
   "execution_count": 18,
   "metadata": {},
   "outputs": [],
   "source": [
    "niteration = int(1e2)\n",
    "d = 40*u.Mpc\n",
    "aperfrac = calc_GaussianFraction(seeing=1.5, optfactor=0.6731, path_plot=None)"
   ]
  },
  {
   "cell_type": "code",
   "execution_count": 19,
   "metadata": {},
   "outputs": [
    {
     "data": {
      "text/plain": [
       "['../3.table/kn_sim_cube_synphot/Run_TP_dyn_all_lanth_wind1_all_md0.001_vd0.05_mw0.001_vw0.05_angle0_synphot_med.ecsv',\n",
       " '../3.table/kn_sim_cube_synphot/Run_TP_dyn_all_lanth_wind1_all_md0.001_vd0.05_mw0.001_vw0.05_angle120_synphot_med.ecsv',\n",
       " '../3.table/kn_sim_cube_synphot/Run_TP_dyn_all_lanth_wind1_all_md0.001_vd0.05_mw0.001_vw0.05_angle150_synphot_med.ecsv',\n",
       " '../3.table/kn_sim_cube_synphot/Run_TP_dyn_all_lanth_wind1_all_md0.001_vd0.05_mw0.001_vw0.05_angle180_synphot_med.ecsv',\n",
       " '../3.table/kn_sim_cube_synphot/Run_TP_dyn_all_lanth_wind1_all_md0.001_vd0.05_mw0.001_vw0.05_angle30_synphot_med.ecsv']"
      ]
     },
     "execution_count": 19,
     "metadata": {},
     "output_type": "execute_result"
    }
   ],
   "source": [
    "knsplist = sorted(glob.glob(\"../3.table/kn_sim_cube_synphot/Run_*_synphot_med.ecsv\"))\n",
    "knsplist[:5]"
   ]
  },
  {
   "cell_type": "code",
   "execution_count": 20,
   "metadata": {},
   "outputs": [
    {
     "name": "stderr",
     "output_type": "stream",
     "text": [
      "mkdir: ../5.result/kn_sim_cube_obs: File exists\n"
     ]
    }
   ],
   "source": [
    "path_result = \"../5.result/kn_sim_cube_obs\"\n",
    "if ~os.path.exists(path_result): os.system(f\"mkdir {path_result}\")\n",
    "\n",
    "aperfrac = calc_GaussianFraction(seeing=1.5, optfactor=0.6731, path_plot=None)\n",
    "niteration = int(1e0)\n",
    "ncores = 3\n",
    "\n",
    "tag = '7dt'\n",
    "exptime = 180\n",
    "filterliststr = 'med'"
   ]
  },
  {
   "cell_type": "code",
   "execution_count": 21,
   "metadata": {},
   "outputs": [
    {
     "name": "stdout",
     "output_type": "stream",
     "text": [
      "40.0 Mpc\n",
      "Done (laps : 30.5 min)\n",
      "80.0 Mpc\n",
      "Done (laps : 54.0 min)\n",
      "120.0 Mpc\n",
      "Done (laps : 77.0 min)\n",
      "160.0 Mpc\n",
      "Done (laps : 111.4 min)\n",
      "200.0 Mpc\n",
      "Done (laps : 141.3 min)\n",
      "Time : 8476.381 sec\n"
     ]
    }
   ],
   "source": [
    "import test\n",
    "\n",
    "niteration = int(1e0)\n",
    "\n",
    "t0 = time.time()\n",
    "ncores = 3\n",
    "# knsplist0 = knsplist[:5]\n",
    "\n",
    "# d = 40*u.Mpc\n",
    "\n",
    "for d in np.arange(40, 200+40, 40)*u.Mpc:\n",
    "    print(f\"{d}\")\n",
    "    if __name__ == '__main__':\n",
    "        pool = multiprocessing.Pool(processes=ncores)  # 현재 시스템에서 사용 할 프로세스 개수\n",
    "        pool.starmap(test.run_table_routine, zip(knsplist, repeat(d), repeat(niteration), repeat(aperfrac), repeat(magoffset), repeat(dptbl), repeat(mlam), repeat(mbdw)))\n",
    "\n",
    "        pool.close()\n",
    "        pool.join()\n",
    "\n",
    "\n",
    "    folder = f\"{path_result}/{tag}_{filterliststr}_{exptime}s_iter{niteration}_{int(d.value)}Mpc\"\n",
    "    os.system(f\"mkdir {folder}\")\n",
    "    mvcom = f\"mv {path_result}/Run*.ecsv {folder}\"\n",
    "    os.system(mvcom)\n",
    "    delt = time.time() - t0\n",
    "    print(f'Done (laps : {delt/60:1.1f} min)')\n",
    "\n",
    "delt = time.time() - t0\n",
    "print(f\"Time : {delt:1.3f} sec\")\n"
   ]
  }
 ],
 "metadata": {
  "kernelspec": {
   "display_name": "Python 3.10.6 ('kn')",
   "language": "python",
   "name": "python3"
  },
  "language_info": {
   "codemirror_mode": {
    "name": "ipython",
    "version": 3
   },
   "file_extension": ".py",
   "mimetype": "text/x-python",
   "name": "python",
   "nbconvert_exporter": "python",
   "pygments_lexer": "ipython3",
   "version": "3.10.6"
  },
  "orig_nbformat": 4,
  "vscode": {
   "interpreter": {
    "hash": "0fa65c9a91e45692839231d985ed151f2fe21fa37e863d955851b77a1cee7351"
   }
  }
 },
 "nbformat": 4,
 "nbformat_minor": 2
}
