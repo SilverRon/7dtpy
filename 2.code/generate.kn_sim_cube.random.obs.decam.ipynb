{
 "cells": [
  {
   "cell_type": "markdown",
   "metadata": {},
   "source": [
    "# Generate random observation data for ZTF broad-band (gri)\n",
    "- Gregory S.H. Paek\n",
    "- 22.10.05"
   ]
  },
  {
   "cell_type": "code",
   "execution_count": 1,
   "metadata": {},
   "outputs": [],
   "source": [
    "import glob, os\n",
    "from astropy.io import ascii\n",
    "import matplotlib.pyplot as plt\n",
    "import numpy as np\n",
    "from astropy.table import Table, vstack\n",
    "import matplotlib as mpl\n",
    "from astropy import units as u\n",
    "import speclite.filters\n",
    "import time\n",
    "import multiprocessing\n",
    "from itertools import repeat"
   ]
  },
  {
   "cell_type": "code",
   "execution_count": 2,
   "metadata": {},
   "outputs": [],
   "source": [
    "from IPython.core.interactiveshell import InteractiveShell\n",
    "InteractiveShell.ast_node_interactivity = \"last_expr\"\n",
    "\n",
    "mpl.rcParams[\"axes.titlesize\"] = 14\n",
    "mpl.rcParams[\"axes.labelsize\"] = 20\n",
    "plt.rcParams['savefig.dpi'] = 200\n",
    "plt.rc('font', family='serif')"
   ]
  },
  {
   "cell_type": "markdown",
   "metadata": {},
   "source": [
    "## Useful functions"
   ]
  },
  {
   "cell_type": "code",
   "execution_count": 3,
   "metadata": {},
   "outputs": [],
   "source": [
    "from helper import makeSpecColors\n",
    "from helper import convert_flam2fnu\n",
    "from helper import get_wollaeger\n",
    "from helper import convert_app2abs\n",
    "from helper import convert_abs2app\n",
    "kncbtbl = get_wollaeger()\n",
    "from helper import get_bandwidth_table\n",
    "bdwtbl = get_bandwidth_table()\n",
    "#\tspeclite\n",
    "from helper import get_speclite_med\n",
    "meds = get_speclite_med()\n",
    "mlam = meds.effective_wavelengths\n",
    "mbdw = bdwtbl['bandwidth'][bdwtbl['group']=='Med']*u.Angstrom\n",
    "from helper import get_speclite_sdss\n",
    "sdss = get_speclite_sdss()\n",
    "slam = sdss.effective_wavelengths\n",
    "sbdw = bdwtbl['bandwidth'][bdwtbl['group']=='SDSS']*u.Angstrom\n",
    "from helper import get_speclite_jc\n",
    "jc = get_speclite_jc()\n",
    "jclam = jc.effective_wavelengths\n",
    "jcbdw = bdwtbl['bandwidth'][bdwtbl['group']=='Johnson Cousin']*u.Angstrom\n",
    "from helper import get_speclite_lsst\n",
    "from helper import get_lsst_bandwidth\n",
    "lsstbdw = get_lsst_bandwidth()\n",
    "lsst = get_speclite_lsst()\n",
    "lsstlam = lsst.effective_wavelengths\n",
    "from helper import get_ztf_depth\n",
    "\n",
    "# lsstbdw = bdwtbl['bandwidth'][bdwtbl['group']\n",
    "#\n",
    "from helper import get_7dt_depth\n",
    "from helper import get_7dt_broadband_depth\n",
    "# dptbl = get_7dt_depth(exptime=180)\n",
    "dptbl = get_7dt_broadband_depth(exptime=180)"
   ]
  },
  {
   "cell_type": "code",
   "execution_count": 4,
   "metadata": {},
   "outputs": [],
   "source": [
    "magoffset = -4.3"
   ]
  },
  {
   "cell_type": "code",
   "execution_count": 5,
   "metadata": {},
   "outputs": [
    {
     "data": {
      "text/html": [
       "<div><i>Table length=15</i>\n",
       "<table id=\"table4397360816\" class=\"table-striped table-bordered table-condensed\">\n",
       "<thead><tr><th>t</th><th>u</th><th>g</th><th>r</th><th>i</th><th>z</th><th>y</th></tr></thead>\n",
       "<thead><tr><th>d</th><th>mag(AB)</th><th>mag(AB)</th><th>mag(AB)</th><th>mag(AB)</th><th>mag(AB)</th><th>mag(AB)</th></tr></thead>\n",
       "<thead><tr><th>float64</th><th>float64</th><th>float64</th><th>float64</th><th>float64</th><th>float64</th><th>float64</th></tr></thead>\n",
       "<tr><td>0.297</td><td>-14.058</td><td>-13.748</td><td>-13.390</td><td>-13.173</td><td>-12.890</td><td>-12.622</td></tr>\n",
       "<tr><td>0.324</td><td>-14.038</td><td>-13.776</td><td>-13.433</td><td>-13.215</td><td>-12.963</td><td>-12.728</td></tr>\n",
       "<tr><td>0.354</td><td>-13.981</td><td>-13.786</td><td>-13.466</td><td>-13.262</td><td>-13.022</td><td>-12.812</td></tr>\n",
       "<tr><td>0.386</td><td>-13.875</td><td>-13.776</td><td>-13.494</td><td>-13.292</td><td>-13.075</td><td>-12.894</td></tr>\n",
       "<tr><td>0.42</td><td>-13.699</td><td>-13.747</td><td>-13.530</td><td>-13.318</td><td>-13.123</td><td>-12.990</td></tr>\n",
       "<tr><td>0.459</td><td>-13.430</td><td>-13.685</td><td>-13.568</td><td>-13.350</td><td>-13.183</td><td>-13.065</td></tr>\n",
       "<tr><td>0.5</td><td>-13.067</td><td>-13.578</td><td>-13.609</td><td>-13.393</td><td>-13.245</td><td>-13.129</td></tr>\n",
       "<tr><td>0.545</td><td>-12.635</td><td>-13.411</td><td>-13.646</td><td>-13.456</td><td>-13.307</td><td>-13.199</td></tr>\n",
       "<tr><td>0.595</td><td>-12.199</td><td>-13.187</td><td>-13.655</td><td>-13.523</td><td>-13.366</td><td>-13.262</td></tr>\n",
       "<tr><td>0.648</td><td>-11.817</td><td>-12.929</td><td>-13.624</td><td>-13.569</td><td>-13.405</td><td>-13.304</td></tr>\n",
       "<tr><td>0.707</td><td>-11.485</td><td>-12.667</td><td>-13.548</td><td>-13.584</td><td>-13.406</td><td>-13.302</td></tr>\n",
       "<tr><td>0.771</td><td>-11.178</td><td>-12.426</td><td>-13.435</td><td>-13.571</td><td>-13.379</td><td>-13.276</td></tr>\n",
       "<tr><td>0.841</td><td>-10.878</td><td>-12.216</td><td>-13.299</td><td>-13.532</td><td>-13.336</td><td>-13.234</td></tr>\n",
       "<tr><td>0.917</td><td>-10.576</td><td>-12.029</td><td>-13.148</td><td>-13.471</td><td>-13.279</td><td>-13.181</td></tr>\n",
       "<tr><td>1.0</td><td>-10.214</td><td>-11.849</td><td>-12.989</td><td>-13.385</td><td>-13.212</td><td>-13.135</td></tr>\n",
       "</table></div>"
      ],
      "text/plain": [
       "<Table length=15>\n",
       "   t       u       g       r       i       z       y   \n",
       "   d    mag(AB) mag(AB) mag(AB) mag(AB) mag(AB) mag(AB)\n",
       "float64 float64 float64 float64 float64 float64 float64\n",
       "------- ------- ------- ------- ------- ------- -------\n",
       "  0.297 -14.058 -13.748 -13.390 -13.173 -12.890 -12.622\n",
       "  0.324 -14.038 -13.776 -13.433 -13.215 -12.963 -12.728\n",
       "  0.354 -13.981 -13.786 -13.466 -13.262 -13.022 -12.812\n",
       "  0.386 -13.875 -13.776 -13.494 -13.292 -13.075 -12.894\n",
       "   0.42 -13.699 -13.747 -13.530 -13.318 -13.123 -12.990\n",
       "  0.459 -13.430 -13.685 -13.568 -13.350 -13.183 -13.065\n",
       "    0.5 -13.067 -13.578 -13.609 -13.393 -13.245 -13.129\n",
       "  0.545 -12.635 -13.411 -13.646 -13.456 -13.307 -13.199\n",
       "  0.595 -12.199 -13.187 -13.655 -13.523 -13.366 -13.262\n",
       "  0.648 -11.817 -12.929 -13.624 -13.569 -13.405 -13.304\n",
       "  0.707 -11.485 -12.667 -13.548 -13.584 -13.406 -13.302\n",
       "  0.771 -11.178 -12.426 -13.435 -13.571 -13.379 -13.276\n",
       "  0.841 -10.878 -12.216 -13.299 -13.532 -13.336 -13.234\n",
       "  0.917 -10.576 -12.029 -13.148 -13.471 -13.279 -13.181\n",
       "    1.0 -10.214 -11.849 -12.989 -13.385 -13.212 -13.135"
      ]
     },
     "execution_count": 5,
     "metadata": {},
     "output_type": "execute_result"
    }
   ],
   "source": [
    "knsp = '../3.table/kn_sim_cube_synphot/Run_TS_dyn_all_lanth_wind2_all_md0.1_vd0.3_mw0.1_vw0.3_angle0_synphot_lsst.ecsv'\n",
    "intbl = ascii.read(knsp)\n",
    "intbl[10:25]"
   ]
  },
  {
   "cell_type": "markdown",
   "metadata": {},
   "source": [
    "- Synphot Table"
   ]
  },
  {
   "cell_type": "code",
   "execution_count": 6,
   "metadata": {},
   "outputs": [],
   "source": [
    "def extract_param_kn_sim_cube(knsp):\n",
    "\tpart = os.path.basename(knsp).split('_')\n",
    "\n",
    "\tif part[1] == 'TP':\n",
    "\t\tdshape = 'toroidal'\n",
    "\telif part[1] == 'TS':\n",
    "\t\tdshape = 'spherical'\n",
    "\telse:\n",
    "\t\tdshape = ''\n",
    "\n",
    "\t#\tLatitude\n",
    "\tif part[5] == 'wind1':\n",
    "\t\tlat = 'Axial'\n",
    "\telif part[5] == 'wind2':\n",
    "\t\tlat = 'Edge'\n",
    "\telse:\n",
    "\t\tlat = ''\n",
    "\n",
    "\t#\tEjecta mass for low-Ye [solar mass]\n",
    "\tmd = float(part[7].replace('md', ''))\n",
    "\n",
    "\t#\tEjecta velocity for low-Ye [N*c]\n",
    "\tvd = float(part[8].replace('vd', ''))\n",
    "\n",
    "\t#\tEjecta mass for high-Ye [solar mass]\n",
    "\tmw = float(part[9].replace('mw', ''))\n",
    "\n",
    "\t#\tEjecta velocity for high-Ye [N*c]\n",
    "\tvw = float(part[10].replace('vw', ''))\n",
    "\n",
    "\t#\tAngle\n",
    "\tangle = float(part[11].replace('angle', ''))\n",
    "\n",
    "\treturn dshape, lat, md, vd, mw, vw, angle"
   ]
  },
  {
   "cell_type": "code",
   "execution_count": 7,
   "metadata": {},
   "outputs": [],
   "source": [
    "def calc_snr(m, ul, sigma=5):\n",
    "\tsnr = sigma*10**((ul-m)/5)\n",
    "\treturn snr\n",
    "\n",
    "def convert_snr2magerr(snr):\n",
    "\tmerr = 2.5*np.log10(1+1/snr)\n",
    "\treturn merr\n",
    "\n",
    "def calc_GaussianFraction(seeing, optfactor=0.6731, path_plot=None):\n",
    "\timport numpy as np\n",
    "\timport matplotlib.pyplot as plt\n",
    "\tfrom scipy.special import erf\n",
    "\n",
    "\t# seeing, optfactor= 1.5, 0.6731\n",
    "\n",
    "\tmu = 0.0\n",
    "\t# sigma = fwhm_seeing/2.355\n",
    "\tfwhm2sigma = seeing*2.355\n",
    "\t# optfactor = 0.6731\n",
    "\tsigma = fwhm2sigma*optfactor\n",
    "\n",
    "\tx = np.linspace(-8, 8, 1000)\n",
    "\ty = (1 / np.sqrt(2 * np.pi * sigma**2)) * np.exp(-(x-mu)**2 / (2 * sigma**2))\n",
    "\ty_cum = 0.5 * (1 + erf((x - mu)/(np.sqrt(2 * sigma**2))))\n",
    "\n",
    "\tindx_aperture = np.where(\n",
    "\t\t(x>-sigma*optfactor) &\n",
    "\t\t(x<+sigma*optfactor)\n",
    "\t)\n",
    "\txaper = x[indx_aperture]\n",
    "\tyaper = y[indx_aperture]\n",
    "\n",
    "\tfrac = np.sum(yaper)/np.sum(y) \n",
    "\t# print(np.sum(y), np.sum(yaper), frac)\n",
    "\n",
    "\tif path_plot != None:\n",
    "\t\tplt.plot(x, y, alpha=0.5, label=f'PDF of N(0, {sigma:1.3f})', lw=5)\n",
    "\t\tplt.plot(xaper, yaper, alpha=1.0, label=f'Aperture ({frac*1e2:.1f}%)', lw=5,)\n",
    "\t\tplt.xlabel('x', fontsize=20)\n",
    "\t\tplt.ylabel('f(x)', fontsize=20)\n",
    "\t\tplt.legend(loc='lower center', fontsize=14)\n",
    "\t\t# plt.show()\n",
    "\t\tplt.savefig(path_plot, overwrite=True)\n",
    "\telse:\n",
    "\t\tpass\n",
    "\n",
    "\treturn frac\n",
    "\n",
    "def add_noise(mu, sigma, nseed, n=10, path_plot=None):\n",
    "\t\"\"\"\n",
    "\tmu, sigma = 17.5, 0.1\n",
    "\tn = 10\n",
    "\t\"\"\"\n",
    "\tfrom scipy.stats import norm\n",
    "\timport numpy as np\n",
    "\t\n",
    "\ttry:\n",
    "\t\tx = np.arange(mu-sigma*n, mu+sigma*n, sigma*1e-3)\n",
    "\t\ty = norm(mu, sigma).pdf(x)\n",
    "\n",
    "\t\tif path_plot != None:\n",
    "\t\t\tresultlist = []\n",
    "\t\t\tfor i in range(10000):\n",
    "\t\t\t\txobs = np.random.choice(x, p=y/np.sum(y))\n",
    "\t\t\t\t# print(xobs)\n",
    "\t\t\t\tresultlist.append(xobs)\n",
    "\t\t\tplt.axvspan(xmin=mu-sigma, xmax=mu+sigma, alpha=0.5, color='tomato',)\n",
    "\t\t\tplt.axvline(x=mu, ls='--', alpha=1.0, color='tomato', lw=3)\n",
    "\t\t\tplt.plot(x, y, lw=3, alpha=0.75, color='grey')\n",
    "\t\t\tplt.hist(resultlist, lw=3, alpha=0.75, color='k', histtype='step', density=True)\n",
    "\t\t\tplt.xlabel(r'$\\rm m_{obs}$')\n",
    "\t\t\tplt.plot(x, y)\n",
    "\t\t\tplt.savefig(path_plot, overwrite=True)\n",
    "\t\telse:\n",
    "\t\t\tpass\n",
    "\t\t#\tmore complicated choice with the fixed random seed\n",
    "\t\tnp.random.seed(int((nseed+1)+(mu*1e2)))\n",
    "\t\treturn np.random.choice(x, p=y/np.sum(y))\n",
    "\texcept:\n",
    "\t\t# print('Something goes wrong (add_noise function)')\n",
    "\t\treturn None"
   ]
  },
  {
   "cell_type": "markdown",
   "metadata": {},
   "source": [
    "# Iteration"
   ]
  },
  {
   "cell_type": "markdown",
   "metadata": {},
   "source": [
    "- Setting"
   ]
  },
  {
   "cell_type": "code",
   "execution_count": 8,
   "metadata": {},
   "outputs": [
    {
     "name": "stderr",
     "output_type": "stream",
     "text": [
      "mkdir: ../5.result/kn_sim_cube_obs: File exists\n"
     ]
    }
   ],
   "source": [
    "path_result = \"../5.result/kn_sim_cube_obs\"\n",
    "if ~os.path.exists(path_result): os.system(f\"mkdir {path_result}\")\n",
    "\n",
    "aperfrac = calc_GaussianFraction(seeing=1.5, optfactor=0.6731, path_plot=None)\n",
    "niteration = int(1e0)\n",
    "ncores = 3\n",
    "\n",
    "tag = 'decam'\n",
    "exptime = 90\n",
    "filterliststr = 'iz'"
   ]
  },
  {
   "cell_type": "code",
   "execution_count": 9,
   "metadata": {},
   "outputs": [
    {
     "data": {
      "text/plain": [
       "['../3.table/kn_sim_cube_synphot/Run_TP_dyn_all_lanth_wind1_all_md0.001_vd0.05_mw0.001_vw0.05_angle0_synphot_lsst.ecsv',\n",
       " '../3.table/kn_sim_cube_synphot/Run_TP_dyn_all_lanth_wind1_all_md0.001_vd0.05_mw0.001_vw0.05_angle120_synphot_lsst.ecsv',\n",
       " '../3.table/kn_sim_cube_synphot/Run_TP_dyn_all_lanth_wind1_all_md0.001_vd0.05_mw0.001_vw0.05_angle150_synphot_lsst.ecsv',\n",
       " '../3.table/kn_sim_cube_synphot/Run_TP_dyn_all_lanth_wind1_all_md0.001_vd0.05_mw0.001_vw0.05_angle180_synphot_lsst.ecsv',\n",
       " '../3.table/kn_sim_cube_synphot/Run_TP_dyn_all_lanth_wind1_all_md0.001_vd0.05_mw0.001_vw0.05_angle30_synphot_lsst.ecsv']"
      ]
     },
     "execution_count": 9,
     "metadata": {},
     "output_type": "execute_result"
    }
   ],
   "source": [
    "knsplist = sorted(glob.glob(\"../3.table/kn_sim_cube_synphot/Run_*_synphot_lsst.ecsv\"))\n",
    "knsplist[:5]"
   ]
  },
  {
   "cell_type": "code",
   "execution_count": 10,
   "metadata": {},
   "outputs": [
    {
     "name": "stdout",
     "output_type": "stream",
     "text": [
      "40.0 Mpc\n",
      "Done (laps : 4.2 min)\n",
      "80.0 Mpc\n",
      "Done (laps : 8.0 min)\n",
      "120.0 Mpc\n",
      "Done (laps : 12.0 min)\n",
      "160.0 Mpc\n",
      "Done (laps : 15.9 min)\n",
      "200.0 Mpc\n",
      "Done (laps : 19.6 min)\n",
      "Time : 1175.078 sec\n"
     ]
    }
   ],
   "source": [
    "import test\n",
    "\n",
    "niteration = int(1e0)\n",
    "\n",
    "t0 = time.time()\n",
    "ncores = 3\n",
    "# knsplist0 = knsplist[:5]\n",
    "\n",
    "# d = 40*u.Mpc\n",
    "\n",
    "for d in np.arange(40, 200+40, 40):\n",
    "    d = d*u.Mpc\n",
    "    print(f\"{d}\")\n",
    "    if __name__ == '__main__':\n",
    "        pool = multiprocessing.Pool(processes=ncores)  # 현재 시스템에서 사용 할 프로세스 개수\n",
    "        pool.starmap(test.run_table_routine4decam, zip(knsplist, repeat(d), repeat(niteration), repeat(aperfrac), repeat(magoffset), repeat(lsstlam), repeat(lsstbdw)))\n",
    "\n",
    "        pool.close()\n",
    "        pool.join()\n",
    "\n",
    "    folder = f\"{path_result}/{tag}_{filterliststr}_{exptime}s_iter{niteration}_{int(d.value)}Mpc\"\n",
    "    os.system(f\"mkdir {folder}\")\n",
    "    mvcom = f\"mv {path_result}/Run*.ecsv {folder}\"\n",
    "    os.system(mvcom)\n",
    "    delt = time.time() - t0\n",
    "    print(f'Done (laps : {delt/60:1.1f} min)')\n",
    "\n",
    "delt = time.time() - t0\n",
    "print(f\"Time : {delt:1.3f} sec\")\n"
   ]
  }
 ],
 "metadata": {
  "kernelspec": {
   "display_name": "Python 3.10.6 ('kn')",
   "language": "python",
   "name": "python3"
  },
  "language_info": {
   "codemirror_mode": {
    "name": "ipython",
    "version": 3
   },
   "file_extension": ".py",
   "mimetype": "text/x-python",
   "name": "python",
   "nbconvert_exporter": "python",
   "pygments_lexer": "ipython3",
   "version": "3.10.6"
  },
  "orig_nbformat": 4,
  "vscode": {
   "interpreter": {
    "hash": "0fa65c9a91e45692839231d985ed151f2fe21fa37e863d955851b77a1cee7351"
   }
  }
 },
 "nbformat": 4,
 "nbformat_minor": 2
}
