{
 "cells": [
  {
   "cell_type": "code",
   "execution_count": 1,
   "metadata": {},
   "outputs": [],
   "source": [
    "import glob, os\n",
    "from astropy.io import ascii\n",
    "import matplotlib.pyplot as plt\n",
    "import numpy as np\n",
    "from astropy.table import Table, vstack\n",
    "import matplotlib as mpl\n",
    "from astropy import units as u\n",
    "import speclite.filters"
   ]
  },
  {
   "cell_type": "code",
   "execution_count": 2,
   "metadata": {},
   "outputs": [],
   "source": [
    "from IPython.core.interactiveshell import InteractiveShell\n",
    "InteractiveShell.ast_node_interactivity = \"last_expr\"\n",
    "\n",
    "mpl.rcParams[\"axes.titlesize\"] = 14\n",
    "mpl.rcParams[\"axes.labelsize\"] = 20\n",
    "plt.rcParams['savefig.dpi'] = 200\n",
    "plt.rc('font', family='serif')"
   ]
  },
  {
   "cell_type": "code",
   "execution_count": 3,
   "metadata": {},
   "outputs": [],
   "source": [
    "spMdlList = sorted(glob.glob('../3.table/kn_sim_cube_lite/Run*.fits'))"
   ]
  },
  {
   "cell_type": "code",
   "execution_count": 9,
   "metadata": {},
   "outputs": [
    {
     "data": {
      "text/html": [
       "<div><i>Table length=900</i>\n",
       "<table id=\"table4398379984\" class=\"table-striped table-bordered table-condensed\">\n",
       "<thead><tr><th>number</th><th>model</th><th>shape</th><th>latitude</th><th>md</th><th>vd</th><th>mw</th><th>vw</th><th>type</th></tr></thead>\n",
       "<thead><tr><th>int64</th><th>str81</th><th>str9</th><th>str5</th><th>float64</th><th>float64</th><th>float64</th><th>float64</th><th>str4</th></tr></thead>\n",
       "<tr><td>0</td><td>Run_TP_dyn_all_lanth_wind1_all_md0.001_vd0.05_mw0.001_vw0.05_spec_2020-03-19.fits</td><td>toroidal</td><td>Axial</td><td>0.001</td><td>0.05</td><td>0.001</td><td>0.05</td><td>spec</td></tr>\n",
       "<tr><td>1</td><td>Run_TP_dyn_all_lanth_wind1_all_md0.001_vd0.05_mw0.001_vw0.15_spec_2020-05-24.fits</td><td>toroidal</td><td>Axial</td><td>0.001</td><td>0.05</td><td>0.001</td><td>0.15</td><td>spec</td></tr>\n",
       "<tr><td>2</td><td>Run_TP_dyn_all_lanth_wind1_all_md0.001_vd0.05_mw0.001_vw0.3_spec_2020-03-10.fits</td><td>toroidal</td><td>Axial</td><td>0.001</td><td>0.05</td><td>0.001</td><td>0.3</td><td>spec</td></tr>\n",
       "<tr><td>3</td><td>Run_TP_dyn_all_lanth_wind1_all_md0.001_vd0.05_mw0.003_vw0.05_spec_2020-04-09.fits</td><td>toroidal</td><td>Axial</td><td>0.001</td><td>0.05</td><td>0.003</td><td>0.05</td><td>spec</td></tr>\n",
       "<tr><td>4</td><td>Run_TP_dyn_all_lanth_wind1_all_md0.001_vd0.05_mw0.003_vw0.15_spec_2020-05-24.fits</td><td>toroidal</td><td>Axial</td><td>0.001</td><td>0.05</td><td>0.003</td><td>0.15</td><td>spec</td></tr>\n",
       "<tr><td>5</td><td>Run_TP_dyn_all_lanth_wind1_all_md0.001_vd0.05_mw0.003_vw0.3_spec_2020-04-09.fits</td><td>toroidal</td><td>Axial</td><td>0.001</td><td>0.05</td><td>0.003</td><td>0.3</td><td>spec</td></tr>\n",
       "<tr><td>6</td><td>Run_TP_dyn_all_lanth_wind1_all_md0.001_vd0.05_mw0.01_vw0.05_spec_2020-03-19.fits</td><td>toroidal</td><td>Axial</td><td>0.001</td><td>0.05</td><td>0.01</td><td>0.05</td><td>spec</td></tr>\n",
       "<tr><td>7</td><td>Run_TP_dyn_all_lanth_wind1_all_md0.001_vd0.05_mw0.01_vw0.15_spec_2020-05-24.fits</td><td>toroidal</td><td>Axial</td><td>0.001</td><td>0.05</td><td>0.01</td><td>0.15</td><td>spec</td></tr>\n",
       "<tr><td>8</td><td>Run_TP_dyn_all_lanth_wind1_all_md0.001_vd0.05_mw0.01_vw0.3_spec_2020-03-10.fits</td><td>toroidal</td><td>Axial</td><td>0.001</td><td>0.05</td><td>0.01</td><td>0.3</td><td>spec</td></tr>\n",
       "<tr><td>9</td><td>Run_TP_dyn_all_lanth_wind1_all_md0.001_vd0.05_mw0.03_vw0.05_spec_2020-04-09.fits</td><td>toroidal</td><td>Axial</td><td>0.001</td><td>0.05</td><td>0.03</td><td>0.05</td><td>spec</td></tr>\n",
       "<tr><td>...</td><td>...</td><td>...</td><td>...</td><td>...</td><td>...</td><td>...</td><td>...</td><td>...</td></tr>\n",
       "<tr><td>890</td><td>Run_TS_dyn_all_lanth_wind2_all_md0.1_vd0.3_mw0.003_vw0.3_spec_2020-05-01.fits</td><td>spherical</td><td>Edge</td><td>0.1</td><td>0.3</td><td>0.003</td><td>0.3</td><td>spec</td></tr>\n",
       "<tr><td>891</td><td>Run_TS_dyn_all_lanth_wind2_all_md0.1_vd0.3_mw0.01_vw0.05_spec_2020-03-30.fits</td><td>spherical</td><td>Edge</td><td>0.1</td><td>0.3</td><td>0.01</td><td>0.05</td><td>spec</td></tr>\n",
       "<tr><td>892</td><td>Run_TS_dyn_all_lanth_wind2_all_md0.1_vd0.3_mw0.01_vw0.15_spec_2020-06-05.fits</td><td>spherical</td><td>Edge</td><td>0.1</td><td>0.3</td><td>0.01</td><td>0.15</td><td>spec</td></tr>\n",
       "<tr><td>893</td><td>Run_TS_dyn_all_lanth_wind2_all_md0.1_vd0.3_mw0.01_vw0.3_spec_2020-02-29.fits</td><td>spherical</td><td>Edge</td><td>0.1</td><td>0.3</td><td>0.01</td><td>0.3</td><td>spec</td></tr>\n",
       "<tr><td>894</td><td>Run_TS_dyn_all_lanth_wind2_all_md0.1_vd0.3_mw0.03_vw0.05_spec_2020-05-01.fits</td><td>spherical</td><td>Edge</td><td>0.1</td><td>0.3</td><td>0.03</td><td>0.05</td><td>spec</td></tr>\n",
       "<tr><td>895</td><td>Run_TS_dyn_all_lanth_wind2_all_md0.1_vd0.3_mw0.03_vw0.15_spec_2020-06-05.fits</td><td>spherical</td><td>Edge</td><td>0.1</td><td>0.3</td><td>0.03</td><td>0.15</td><td>spec</td></tr>\n",
       "<tr><td>896</td><td>Run_TS_dyn_all_lanth_wind2_all_md0.1_vd0.3_mw0.03_vw0.3_spec_2020-05-01.fits</td><td>spherical</td><td>Edge</td><td>0.1</td><td>0.3</td><td>0.03</td><td>0.3</td><td>spec</td></tr>\n",
       "<tr><td>897</td><td>Run_TS_dyn_all_lanth_wind2_all_md0.1_vd0.3_mw0.1_vw0.05_spec_2020-03-30.fits</td><td>spherical</td><td>Edge</td><td>0.1</td><td>0.3</td><td>0.1</td><td>0.05</td><td>spec</td></tr>\n",
       "<tr><td>898</td><td>Run_TS_dyn_all_lanth_wind2_all_md0.1_vd0.3_mw0.1_vw0.15_spec_2020-06-01.fits</td><td>spherical</td><td>Edge</td><td>0.1</td><td>0.3</td><td>0.1</td><td>0.15</td><td>spec</td></tr>\n",
       "<tr><td>899</td><td>Run_TS_dyn_all_lanth_wind2_all_md0.1_vd0.3_mw0.1_vw0.3_spec_2020-02-29.fits</td><td>spherical</td><td>Edge</td><td>0.1</td><td>0.3</td><td>0.1</td><td>0.3</td><td>spec</td></tr>\n",
       "</table></div>"
      ],
      "text/plain": [
       "<Table length=900>\n",
       "number ... type\n",
       "int64  ... str4\n",
       "------ ... ----\n",
       "     0 ... spec\n",
       "     1 ... spec\n",
       "     2 ... spec\n",
       "     3 ... spec\n",
       "     4 ... spec\n",
       "     5 ... spec\n",
       "     6 ... spec\n",
       "     7 ... spec\n",
       "     8 ... spec\n",
       "     9 ... spec\n",
       "   ... ...  ...\n",
       "   890 ... spec\n",
       "   891 ... spec\n",
       "   892 ... spec\n",
       "   893 ... spec\n",
       "   894 ... spec\n",
       "   895 ... spec\n",
       "   896 ... spec\n",
       "   897 ... spec\n",
       "   898 ... spec\n",
       "   899 ... spec"
      ]
     },
     "execution_count": 9,
     "metadata": {},
     "output_type": "execute_result"
    }
   ],
   "source": [
    "sptblList = []\n",
    "\n",
    "for ii, spmdl in enumerate(spMdlList):\n",
    "\n",
    "\tpart = os.path.basename(spmdl).split('_')\n",
    "\n",
    "\t#\tShape\n",
    "\tif part[1] == 'TP':\n",
    "\t\tdshape = 'toroidal'\n",
    "\telif part[1] == 'TS':\n",
    "\t\tdshape = 'spherical'\n",
    "\telse:\n",
    "\t\tdshape = ''\n",
    "\n",
    "\t#\tLatitude\n",
    "\tif part[5] == 'wind1':\n",
    "\t\tlat = 'Axial'\n",
    "\telif part[5] == 'wind2':\n",
    "\t\tlat = 'Edge'\n",
    "\telse:\n",
    "\t\tlat = ''\n",
    "\n",
    "\t#\tEjecta mass for low-Ye [solar mass]\n",
    "\tmd = float(part[7].replace('md', ''))\n",
    "\n",
    "\t#\tEjecta velocity for low-Ye [N*c]\n",
    "\tvd = float(part[8].replace('vd', ''))\n",
    "\n",
    "\t#\tEjecta mass for high-Ye [solar mass]\n",
    "\tmw = float(part[9].replace('mw', ''))\n",
    "\n",
    "\t#\tEjecta velocity for high-Ye [N*c]\n",
    "\tvw = float(part[10].replace('vw', ''))\n",
    "\n",
    "\t#\tTable type\n",
    "\ttableType = part[11]\n",
    "\n",
    "\tsptbl = Table(\n",
    "\t\tdata = [[ii], [os.path.basename(spmdl)], [dshape], [lat], [md], [vd], [mw], [vw], [tableType],],\n",
    "\t\tnames = ('number', 'model', 'shape', 'latitude', 'md', 'vd', 'mw', 'vw', 'type'),\n",
    "\t\t)\n",
    "\tsptblList.append(sptbl)\n",
    "\n",
    "from astropy.table import vstack\n",
    "alsptbl = vstack(sptblList)\n",
    "alsptbl.write(f\"../3.table/kn_cube.lite.spectrum.summary.fits\", format='fits', overwrite=True)\n",
    "alsptbl"
   ]
  }
 ],
 "metadata": {
  "kernelspec": {
   "display_name": "Python 3.10.6 ('kn')",
   "language": "python",
   "name": "python3"
  },
  "language_info": {
   "codemirror_mode": {
    "name": "ipython",
    "version": 3
   },
   "file_extension": ".py",
   "mimetype": "text/x-python",
   "name": "python",
   "nbconvert_exporter": "python",
   "pygments_lexer": "ipython3",
   "version": "3.10.6"
  },
  "orig_nbformat": 4,
  "vscode": {
   "interpreter": {
    "hash": "0fa65c9a91e45692839231d985ed151f2fe21fa37e863d955851b77a1cee7351"
   }
  }
 },
 "nbformat": 4,
 "nbformat_minor": 2
}
