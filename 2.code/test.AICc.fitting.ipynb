{
 "cells": [
  {
   "cell_type": "code",
   "execution_count": 2,
   "metadata": {},
   "outputs": [
    {
     "name": "stderr",
     "output_type": "stream",
     "text": [
      "WARNING: AstropyDeprecationWarning: The update_default_config function is deprecated and may be removed in a future version. [sncosmo]\n"
     ]
    }
   ],
   "source": [
    "import glob, os\n",
    "from astropy.io import ascii\n",
    "import matplotlib.pyplot as plt\n",
    "import numpy as np\n",
    "from astropy.table import Table, vstack\n",
    "import matplotlib as mpl\n",
    "from astropy import units as u\n",
    "import speclite.filters\n",
    "import time\n",
    "import sncosmo"
   ]
  },
  {
   "cell_type": "code",
   "execution_count": 3,
   "metadata": {},
   "outputs": [],
   "source": [
    "from IPython.core.interactiveshell import InteractiveShell\n",
    "InteractiveShell.ast_node_interactivity = \"last_expr\"\n",
    "\n",
    "mpl.rcParams[\"axes.titlesize\"] = 14\n",
    "mpl.rcParams[\"axes.labelsize\"] = 20\n",
    "plt.rcParams['savefig.dpi'] = 200\n",
    "plt.rc('font', family='serif')"
   ]
  },
  {
   "cell_type": "code",
   "execution_count": 30,
   "metadata": {},
   "outputs": [],
   "source": [
    "from helper import makeSpecColors\n",
    "from helper import convert_flam2fnu\n",
    "from helper import get_wollaeger\n",
    "from helper import convert_app2abs\n",
    "from helper import convert_abs2app\n",
    "kncbtbl = get_wollaeger()\n",
    "from helper import get_bandwidth_table\n",
    "bdwtbl = get_bandwidth_table()\n",
    "#\tspeclite\n",
    "from helper import get_speclite_med\n",
    "meds = get_speclite_med()\n",
    "mlam = meds.effective_wavelengths\n",
    "mbdw = bdwtbl['bandwidth'][bdwtbl['group']=='Med']*u.Angstrom\n",
    "from helper import get_speclite_sdss\n",
    "sdss = get_speclite_sdss()\n",
    "slam = sdss.effective_wavelengths\n",
    "sbdw = bdwtbl['bandwidth'][bdwtbl['group']=='SDSS']*u.Angstrom\n",
    "from helper import get_speclite_jc\n",
    "jc = get_speclite_jc()\n",
    "jclam = jc.effective_wavelengths\n",
    "jcbdw = bdwtbl['bandwidth'][bdwtbl['group']=='Johnson Cousin']*u.Angstrom\n",
    "from helper import get_speclite_lsst\n",
    "lsst = get_speclite_lsst()\n",
    "lsstlam = lsst.effective_wavelengths\n",
    "from helper import get_lsst_depth\n",
    "from helper import get_kmtnet_depth\n",
    "from helper import get_7dt_depth\n",
    "dptbl = get_7dt_depth()\n",
    "from helper import get_7dt_broadband_depth\n",
    "\n",
    "from helper import get_speclite_lsst\n",
    "lsst = get_speclite_lsst()\n",
    "lsstlam = lsst.effective_wavelengths\n",
    "from helper import get_lsst_depth\n",
    "from helper import get_kmtnet_depth\n",
    "from helper import get_lsst_bandwidth\n",
    "lsstbdw = get_lsst_bandwidth()"
   ]
  },
  {
   "cell_type": "code",
   "execution_count": 5,
   "metadata": {},
   "outputs": [],
   "source": [
    "from scipy.optimize import curve_fit\n",
    "\n",
    "def func(x, a):\n",
    "\treturn a*x\n",
    "\n",
    "def calc_chisquare(obs, exp):\n",
    "\treturn np.sum((obs-exp)**2/exp)\n",
    "\n",
    "def calc_redchisquare(obs, exp, dof):\n",
    "\treturn calc_chisquare(obs, exp)/dof\n",
    "\n",
    "def calc_AIC(k, L):\n",
    "\t\"\"\"\n",
    "\tL : likelihood\n",
    "\tk : the number of free parameters\n",
    "\t\"\"\"\n",
    "\tAIC = 2*k-2*np.log(L)\n",
    "\treturn AIC\n",
    "\n",
    "def calc_AICc(AIC, k, n):\n",
    "\t\"\"\"\n",
    "\tn : the number of filters\n",
    "\tk : the number of free parameters\n",
    "\t\"\"\"\n",
    "\tAICc = AIC+(2*k*(k+1))/(n-k-1)\n",
    "\treturn AICc\n",
    "\n",
    "def calc_chisq_det(fobs, fobserr, fmdl):\n",
    "\t\"\"\"\n",
    "\tChisquare calculcation for detection\n",
    "\tfobs     : the observed flux in the nth band\n",
    "\tfobsderr : the uncentainty of fobs\n",
    "\tfmdl     : the model flux\n",
    "\t\"\"\"\n",
    "\tchisq = ((fobs-fmdl)/fobserr)**2\n",
    "\treturn chisq\n",
    "\n",
    "def calc_chisq_nd(fobs, fobserr, fmdl, flim):\n",
    "\t\"\"\"\n",
    "\tChisquare calculcation for non-detection\n",
    "\tfobs     : the observed flux in the nth band\n",
    "\tfobsderr : the uncentainty of fobs\n",
    "\tfmdl     : the model flux\n",
    "\tflim     : the upper limit of flux in the nth band\n",
    "\t\"\"\"\n",
    "\tfrom scipy import special\n",
    "\tchisq = -2*np.log(np.sqrt(np.pi/2)*fobserr*(1+special.erf((flim-fmdl)/(np.sqrt(2)*fobserr))))\n",
    "\treturn chisq\n",
    "\n",
    "\n",
    "def calc_mchisquare(fobs, fobserr, fmdl, flim):\n",
    "\t\"\"\"\n",
    "\tModified chisquare\n",
    "\t\"\"\"\n",
    "\tmchisq = np.sum(calc_chisq_det(fobs, fobserr, fmdl))+np.sum(calc_chisq_nd(fobs, fobserr, fmdl, flim))\n",
    "\treturn mchisq\n",
    "\n",
    "def calc_l(AICc0, AICc1):\n",
    "\tl = np.exp(-0.5*(AICc0-np.array([AICc0, AICc1]).min()))\n",
    "\treturn l\n",
    "\n",
    "def calc_AICc_weight(AICc0, AICc1):\n",
    "\t\"\"\"\n",
    "\tl0 : standard\n",
    "\tw>0.99 : case 0 is 100 times more likey to be the best model than case 1\n",
    "\t\"\"\"\n",
    "\tl0 = calc_l(AICc0, AICc1)\n",
    "\tl1 = calc_l(AICc1, AICc1)\n",
    "\tw = l0/(l0+l1)\n",
    "\treturn w\n"
   ]
  },
  {
   "cell_type": "code",
   "execution_count": 41,
   "metadata": {},
   "outputs": [],
   "source": [
    "def extract_fnu_from_simulation(psimtbl):\n",
    "\tfnuabs = np.array([(psimtbl[f\"{filte}\"].item()*u.ABmag).to(u.uJy).value for filte in psimtbl.keys() if 'm' in filte])\n",
    "\treturn fnuabs\n",
    "\n",
    "def extract_fnu_anwr_from_observation(pobstbl):\n",
    "\tfnuabs_anwr = np.array([(pobstbl[f\"{filte}\"].item()*u.ABmag).to(u.uJy).value for filte in pobstbl.keys() if 'magabs' in filte])\n",
    "\treturn fnuabs_anwr\n",
    "\n",
    "def extract_fnu_from_observation(pobstbl):\n",
    "\tfnuobs = np.array([pobstbl[f\"{filte}\"].item() for filte in pobstbl.keys() if 'fnuobs_' in filte])\n",
    "\tfnuobserr = np.array([pobstbl[f\"{filte}\"].item() for filte in pobstbl.keys() if 'fnuerr_' in filte])\n",
    "\treturn fnuobs, fnuobserr\n"
   ]
  },
  {
   "cell_type": "markdown",
   "metadata": {},
   "source": [
    "# Main"
   ]
  },
  {
   "cell_type": "markdown",
   "metadata": {},
   "source": [
    "- Initical setting"
   ]
  },
  {
   "cell_type": "code",
   "execution_count": 36,
   "metadata": {},
   "outputs": [],
   "source": [
    "d = 40 # [Mpc]\n",
    "mfilterlist = [f\"m{n}\" for n in np.arange(400, 875+25, 25)]\n",
    "mdepthlist = (dptbl['5sigma_depth'].value*u.ABmag).to(u.uJy)"
   ]
  },
  {
   "cell_type": "code",
   "execution_count": 8,
   "metadata": {},
   "outputs": [
    {
     "name": "stdout",
     "output_type": "stream",
     "text": [
      "KN obs. data    : 6300\n",
      "Other sim. data : 50\n"
     ]
    }
   ],
   "source": [
    "obsphtlist = sorted(glob.glob(f\"../5.result/kn_sim_cube_obs/med_iter100_{d}Mpc/Run*med.ecsv\"))\n",
    "cmpphtlist = sorted(glob.glob('../3.table/sn_sim_sncosmo_synphot/*_med.ecsv'))\n",
    "\n",
    "print(f'KN obs. data    : {len(obsphtlist)}')\n",
    "print(f'Other sim. data : {len(cmpphtlist)}')"
   ]
  },
  {
   "cell_type": "code",
   "execution_count": 11,
   "metadata": {},
   "outputs": [
    {
     "name": "stdout",
     "output_type": "stream",
     "text": [
      "[-8] Input obs   : Run_TS_dyn_all_lanth_wind2_all_md0.1_vd0.3_mw0.1_vw0.15_angle90_synphot_med_obs_d40_iter100.med.ecsv\n",
      "[-1] Comp. Model : v19-2009ip-corr_v1.0_type_IIn_sn_z1.0_synphot_med.ecsv\n"
     ]
    }
   ],
   "source": [
    "ii = -8\n",
    "jj = -1\n",
    "\n",
    "obspht = obsphtlist[ii]\n",
    "cmppht = cmpphtlist[jj]\n",
    "\n",
    "print(f\"[{ii}] Input obs   : {os.path.basename(obspht)}\")\n",
    "print(f\"[{jj}] Comp. Model : {os.path.basename(cmppht)}\")\n",
    "\n",
    "#\tRead tables\n",
    "obstbl = ascii.read(obspht)\n",
    "cmptbl = ascii.read(cmppht)"
   ]
  },
  {
   "cell_type": "code",
   "execution_count": 76,
   "metadata": {},
   "outputs": [
    {
     "name": "stdout",
     "output_type": "stream",
     "text": [
      "Detection : [ 0  1  2  3  4  5  6  7  8  9 10 11 12 13]\n",
      "n/d       : [14 15 16 17 18 19]\n"
     ]
    },
    {
     "data": {
      "text/plain": [
       "279.96211434696835"
      ]
     },
     "execution_count": 76,
     "metadata": {},
     "output_type": "execute_result"
    }
   ],
   "source": [
    "t = 1.0\n",
    "seed = 1\n",
    "t_cmp = 10\n",
    "\n",
    "#\tPart obs. Table\n",
    "pobstbl = obstbl[\n",
    "\t(obstbl['t']==t) &\n",
    "\t(obstbl['seed']==seed)\n",
    "]\n",
    "\n",
    "pcmptbl = cmptbl[\n",
    "\t#\tSupernova Type Ia\n",
    "\t(cmptbl['t']==t_cmp)\n",
    "]\n",
    "\n",
    "fnuabs = extract_fnu_from_simulation(pcmptbl)\n",
    "fnuabs_anwr = extract_fnu_anwr_from_observation(pobstbl)\n",
    "fnuobs, fnuobserr = extract_fnu_from_observation(pobstbl)\n",
    "\n",
    "indx_dt = np.array([],  dtype=np.int8)\n",
    "indx_nd = np.array([],  dtype=np.int8)\n",
    "\n",
    "for ff, filte in enumerate(mfilterlist):\n",
    "\tsnr = pobstbl[f'snr_{filte}'].item()\n",
    "\tif snr < 5:\n",
    "\t\tindx_nd = np.append(indx_nd, int(ff))\n",
    "\telse:\n",
    "\t\tindx_dt = np.append(indx_dt, int(ff))\n",
    "\n",
    "print(f\"Detection : {indx_dt}\")\n",
    "print(f\"n/d       : {indx_nd}\")\n",
    "\n",
    "\n",
    "fobs = fnuobs[indx_dt]\n",
    "fobserr = fnuobserr[indx_dt]\n",
    "fmdl = fnuabs[indx_dt]\n",
    "\n",
    "ainit = np.median(fobs)/np.median(fmdl)\n",
    "\n",
    "\n",
    "# np.median(fnuobs[indx_dt])\n",
    "\n",
    "# def calc_mchisquare(fobs, fobserr, fmdl, flim):\n",
    "# \t\"\"\"\n",
    "# \tModified chisquare\n",
    "# \t\"\"\"\n",
    "# \tmchisq = np.sum(calc_chisq_det(fobs, fobserr, fmdl))+np.sum(calc_chisq_nd(fobs, fobserr, fmdl, flim))\n",
    "# \treturn mchisq"
   ]
  },
  {
   "cell_type": "code",
   "execution_count": 70,
   "metadata": {},
   "outputs": [
    {
     "data": {
      "text/plain": [
       "(array([0]),)"
      ]
     },
     "execution_count": 70,
     "metadata": {},
     "output_type": "execute_result"
    }
   ],
   "source": [
    "aa = np.array([0, 1, 2])\n",
    "np.where(aa==0)"
   ]
  }
 ],
 "metadata": {
  "kernelspec": {
   "display_name": "Python 3.10.6 ('kn')",
   "language": "python",
   "name": "python3"
  },
  "language_info": {
   "codemirror_mode": {
    "name": "ipython",
    "version": 3
   },
   "file_extension": ".py",
   "mimetype": "text/x-python",
   "name": "python",
   "nbconvert_exporter": "python",
   "pygments_lexer": "ipython3",
   "version": "3.10.6"
  },
  "orig_nbformat": 4,
  "vscode": {
   "interpreter": {
    "hash": "0fa65c9a91e45692839231d985ed151f2fe21fa37e863d955851b77a1cee7351"
   }
  }
 },
 "nbformat": 4,
 "nbformat_minor": 2
}
