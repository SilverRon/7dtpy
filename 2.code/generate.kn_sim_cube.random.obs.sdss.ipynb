{
 "cells": [
  {
   "cell_type": "markdown",
   "metadata": {},
   "source": [
    "# Generate random observation data for 7DT broad-band (gri)\n",
    "- Gregory S.H. Paek\n",
    "- 22.09.29\n",
    "- medium-band, ugri, BVRI\n"
   ]
  },
  {
   "cell_type": "code",
   "execution_count": 1,
   "metadata": {},
   "outputs": [],
   "source": [
    "import glob, os\n",
    "from astropy.io import ascii\n",
    "import matplotlib.pyplot as plt\n",
    "import numpy as np\n",
    "from astropy.table import Table, vstack\n",
    "import matplotlib as mpl\n",
    "from astropy import units as u\n",
    "import speclite.filters\n",
    "import time\n",
    "import multiprocessing\n",
    "from itertools import repeat"
   ]
  },
  {
   "cell_type": "code",
   "execution_count": 2,
   "metadata": {},
   "outputs": [],
   "source": [
    "from IPython.core.interactiveshell import InteractiveShell\n",
    "InteractiveShell.ast_node_interactivity = \"last_expr\"\n",
    "\n",
    "mpl.rcParams[\"axes.titlesize\"] = 14\n",
    "mpl.rcParams[\"axes.labelsize\"] = 20\n",
    "plt.rcParams['savefig.dpi'] = 200\n",
    "plt.rc('font', family='serif')"
   ]
  },
  {
   "cell_type": "markdown",
   "metadata": {},
   "source": [
    "## Useful functions"
   ]
  },
  {
   "cell_type": "code",
   "execution_count": 3,
   "metadata": {},
   "outputs": [],
   "source": [
    "from helper import makeSpecColors\n",
    "from helper import convert_flam2fnu\n",
    "from helper import get_wollaeger\n",
    "from helper import convert_app2abs\n",
    "from helper import convert_abs2app\n",
    "kncbtbl = get_wollaeger()\n",
    "from helper import get_bandwidth_table\n",
    "bdwtbl = get_bandwidth_table()\n",
    "#\tspeclite\n",
    "from helper import get_speclite_med\n",
    "meds = get_speclite_med()\n",
    "mlam = meds.effective_wavelengths\n",
    "mbdw = bdwtbl['bandwidth'][bdwtbl['group']=='Med']*u.Angstrom\n",
    "from helper import get_speclite_sdss\n",
    "sdss = get_speclite_sdss()\n",
    "slam = sdss.effective_wavelengths\n",
    "sbdw = bdwtbl['bandwidth'][bdwtbl['group']=='SDSS']*u.Angstrom\n",
    "from helper import get_speclite_jc\n",
    "jc = get_speclite_jc()\n",
    "jclam = jc.effective_wavelengths\n",
    "jcbdw = bdwtbl['bandwidth'][bdwtbl['group']=='Johnson Cousin']*u.Angstrom\n",
    "from helper import get_speclite_lsst\n",
    "lsst = get_speclite_lsst()\n",
    "lsstlam = lsst.effective_wavelengths\n",
    "# lsstbdw = bdwtbl['bandwidth'][bdwtbl['group']\n",
    "#\n",
    "from helper import get_7dt_depth\n",
    "from helper import get_7dt_broadband_depth\n",
    "# dptbl = get_7dt_depth(exptime=180)\n",
    "dptbl = get_7dt_broadband_depth(exptime=180)"
   ]
  },
  {
   "cell_type": "code",
   "execution_count": 4,
   "metadata": {},
   "outputs": [],
   "source": [
    "magoffset = -4.3"
   ]
  },
  {
   "cell_type": "code",
   "execution_count": 5,
   "metadata": {},
   "outputs": [
    {
     "data": {
      "text/html": [
       "<div><i>Table length=15</i>\n",
       "<table id=\"table4392514944\" class=\"table-striped table-bordered table-condensed\">\n",
       "<thead><tr><th>t</th><th>g</th><th>i</th><th>r</th><th>u</th></tr></thead>\n",
       "<thead><tr><th>d</th><th>mag(AB)</th><th>mag(AB)</th><th>mag(AB)</th><th>mag(AB)</th></tr></thead>\n",
       "<thead><tr><th>float64</th><th>float64</th><th>float64</th><th>float64</th><th>float64</th></tr></thead>\n",
       "<tr><td>0.297</td><td>-13.751</td><td>-13.189</td><td>-13.390</td><td>-14.057</td></tr>\n",
       "<tr><td>0.324</td><td>-13.778</td><td>-13.231</td><td>-13.432</td><td>-14.023</td></tr>\n",
       "<tr><td>0.354</td><td>-13.788</td><td>-13.277</td><td>-13.464</td><td>-13.948</td></tr>\n",
       "<tr><td>0.386</td><td>-13.777</td><td>-13.307</td><td>-13.492</td><td>-13.813</td></tr>\n",
       "<tr><td>0.42</td><td>-13.749</td><td>-13.332</td><td>-13.531</td><td>-13.602</td></tr>\n",
       "<tr><td>0.459</td><td>-13.688</td><td>-13.363</td><td>-13.571</td><td>-13.298</td></tr>\n",
       "<tr><td>0.5</td><td>-13.580</td><td>-13.407</td><td>-13.615</td><td>-12.902</td></tr>\n",
       "<tr><td>0.545</td><td>-13.412</td><td>-13.469</td><td>-13.655</td><td>-12.452</td></tr>\n",
       "<tr><td>0.595</td><td>-13.185</td><td>-13.535</td><td>-13.665</td><td>-12.010</td></tr>\n",
       "<tr><td>0.648</td><td>-12.923</td><td>-13.581</td><td>-13.632</td><td>-11.620</td></tr>\n",
       "<tr><td>0.707</td><td>-12.656</td><td>-13.595</td><td>-13.553</td><td>-11.270</td></tr>\n",
       "<tr><td>0.771</td><td>-12.413</td><td>-13.582</td><td>-13.436</td><td>-10.940</td></tr>\n",
       "<tr><td>0.841</td><td>-12.202</td><td>-13.543</td><td>-13.295</td><td>-10.616</td></tr>\n",
       "<tr><td>0.917</td><td>-12.015</td><td>-13.481</td><td>-13.141</td><td>-10.295</td></tr>\n",
       "<tr><td>1.0</td><td>-11.835</td><td>-13.391</td><td>-12.980</td><td>-9.910</td></tr>\n",
       "</table></div>"
      ],
      "text/plain": [
       "<Table length=15>\n",
       "   t       g       i       r       u   \n",
       "   d    mag(AB) mag(AB) mag(AB) mag(AB)\n",
       "float64 float64 float64 float64 float64\n",
       "------- ------- ------- ------- -------\n",
       "  0.297 -13.751 -13.189 -13.390 -14.057\n",
       "  0.324 -13.778 -13.231 -13.432 -14.023\n",
       "  0.354 -13.788 -13.277 -13.464 -13.948\n",
       "  0.386 -13.777 -13.307 -13.492 -13.813\n",
       "   0.42 -13.749 -13.332 -13.531 -13.602\n",
       "  0.459 -13.688 -13.363 -13.571 -13.298\n",
       "    0.5 -13.580 -13.407 -13.615 -12.902\n",
       "  0.545 -13.412 -13.469 -13.655 -12.452\n",
       "  0.595 -13.185 -13.535 -13.665 -12.010\n",
       "  0.648 -12.923 -13.581 -13.632 -11.620\n",
       "  0.707 -12.656 -13.595 -13.553 -11.270\n",
       "  0.771 -12.413 -13.582 -13.436 -10.940\n",
       "  0.841 -12.202 -13.543 -13.295 -10.616\n",
       "  0.917 -12.015 -13.481 -13.141 -10.295\n",
       "    1.0 -11.835 -13.391 -12.980  -9.910"
      ]
     },
     "execution_count": 5,
     "metadata": {},
     "output_type": "execute_result"
    }
   ],
   "source": [
    "knsp = '../3.table/kn_sim_cube_synphot/Run_TS_dyn_all_lanth_wind2_all_md0.1_vd0.3_mw0.1_vw0.3_angle0_synphot_sdss.ecsv'\n",
    "intbl = ascii.read(knsp)\n",
    "intbl[10:25]"
   ]
  },
  {
   "cell_type": "markdown",
   "metadata": {},
   "source": [
    "- Synphot Table"
   ]
  },
  {
   "cell_type": "code",
   "execution_count": 6,
   "metadata": {},
   "outputs": [],
   "source": [
    "def extract_param_kn_sim_cube(knsp):\n",
    "\tpart = os.path.basename(knsp).split('_')\n",
    "\n",
    "\tif part[1] == 'TP':\n",
    "\t\tdshape = 'toroidal'\n",
    "\telif part[1] == 'TS':\n",
    "\t\tdshape = 'spherical'\n",
    "\telse:\n",
    "\t\tdshape = ''\n",
    "\n",
    "\t#\tLatitude\n",
    "\tif part[5] == 'wind1':\n",
    "\t\tlat = 'Axial'\n",
    "\telif part[5] == 'wind2':\n",
    "\t\tlat = 'Edge'\n",
    "\telse:\n",
    "\t\tlat = ''\n",
    "\n",
    "\t#\tEjecta mass for low-Ye [solar mass]\n",
    "\tmd = float(part[7].replace('md', ''))\n",
    "\n",
    "\t#\tEjecta velocity for low-Ye [N*c]\n",
    "\tvd = float(part[8].replace('vd', ''))\n",
    "\n",
    "\t#\tEjecta mass for high-Ye [solar mass]\n",
    "\tmw = float(part[9].replace('mw', ''))\n",
    "\n",
    "\t#\tEjecta velocity for high-Ye [N*c]\n",
    "\tvw = float(part[10].replace('vw', ''))\n",
    "\n",
    "\t#\tAngle\n",
    "\tangle = float(part[11].replace('angle', ''))\n",
    "\n",
    "\treturn dshape, lat, md, vd, mw, vw, angle"
   ]
  },
  {
   "cell_type": "code",
   "execution_count": 7,
   "metadata": {},
   "outputs": [
    {
     "name": "stdout",
     "output_type": "stream",
     "text": [
      "spherical Edge 0.1 0.3 0.1 0.3 0.0\n"
     ]
    }
   ],
   "source": [
    "dshape, lat, md, vd, mw, vw, angle = extract_param_kn_sim_cube(knsp)\n",
    "print(dshape, lat, md, vd, mw, vw, angle)"
   ]
  },
  {
   "cell_type": "markdown",
   "metadata": {},
   "source": [
    "- Depth Table"
   ]
  },
  {
   "cell_type": "code",
   "execution_count": 8,
   "metadata": {},
   "outputs": [
    {
     "data": {
      "text/html": [
       "<div><i>Table length=4</i>\n",
       "<table id=\"table5465826128\" class=\"table-striped table-bordered table-condensed\">\n",
       "<thead><tr><th>index</th><th>name</th><th>center_wavelength</th><th>fwhm</th><th>min_wavelength</th><th>max_wavelength</th><th>noise_countrate</th><th>surface_brightness</th><th>5sigma_depth</th></tr></thead>\n",
       "<thead><tr><th></th><th></th><th>Angstrom</th><th>Angstrom</th><th>Angstrom</th><th>Angstrom</th><th>electron / s</th><th>mag / arcsec2</th><th>mag</th></tr></thead>\n",
       "<thead><tr><th>int64</th><th>str1</th><th>float64</th><th>float64</th><th>float64</th><th>float64</th><th>float64</th><th>float64</th><th>float64</th></tr></thead>\n",
       "<tr><td>0</td><td>u</td><td>3573.89</td><td>250.0</td><td>3448.89</td><td>3698.89</td><td>0.103991</td><td>20.943</td><td>21.027</td></tr>\n",
       "<tr><td>1</td><td>g</td><td>4723.55</td><td>250.0</td><td>4598.55</td><td>4848.55</td><td>1.666986</td><td>21.948</td><td>22.032</td></tr>\n",
       "<tr><td>2</td><td>r</td><td>6202.46</td><td>250.0</td><td>6077.46</td><td>6327.46</td><td>1.331368</td><td>21.500</td><td>21.585</td></tr>\n",
       "<tr><td>3</td><td>i</td><td>7522.43</td><td>250.0</td><td>7397.43</td><td>7647.43</td><td>0.751287</td><td>20.656</td><td>20.740</td></tr>\n",
       "</table></div>"
      ],
      "text/plain": [
       "<Table length=4>\n",
       "index name center_wavelength ... noise_countrate surface_brightness 5sigma_depth\n",
       "                Angstrom     ...   electron / s    mag / arcsec2        mag     \n",
       "int64 str1      float64      ...     float64          float64         float64   \n",
       "----- ---- ----------------- ... --------------- ------------------ ------------\n",
       "    0    u           3573.89 ...        0.103991             20.943       21.027\n",
       "    1    g           4723.55 ...        1.666986             21.948       22.032\n",
       "    2    r           6202.46 ...        1.331368             21.500       21.585\n",
       "    3    i           7522.43 ...        0.751287             20.656       20.740"
      ]
     },
     "execution_count": 8,
     "metadata": {},
     "output_type": "execute_result"
    }
   ],
   "source": [
    "dptbl"
   ]
  },
  {
   "cell_type": "code",
   "execution_count": 9,
   "metadata": {},
   "outputs": [],
   "source": [
    "def calc_snr(m, ul, sigma=5):\n",
    "\tsnr = sigma*10**((ul-m)/5)\n",
    "\treturn snr\n",
    "\n",
    "def convert_snr2magerr(snr):\n",
    "\tmerr = 2.5*np.log10(1+1/snr)\n",
    "\treturn merr\n",
    "\n",
    "def calc_GaussianFraction(seeing, optfactor=0.6731, path_plot=None):\n",
    "\timport numpy as np\n",
    "\timport matplotlib.pyplot as plt\n",
    "\tfrom scipy.special import erf\n",
    "\n",
    "\t# seeing, optfactor= 1.5, 0.6731\n",
    "\n",
    "\tmu = 0.0\n",
    "\t# sigma = fwhm_seeing/2.355\n",
    "\tfwhm2sigma = seeing*2.355\n",
    "\t# optfactor = 0.6731\n",
    "\tsigma = fwhm2sigma*optfactor\n",
    "\n",
    "\tx = np.linspace(-8, 8, 1000)\n",
    "\ty = (1 / np.sqrt(2 * np.pi * sigma**2)) * np.exp(-(x-mu)**2 / (2 * sigma**2))\n",
    "\ty_cum = 0.5 * (1 + erf((x - mu)/(np.sqrt(2 * sigma**2))))\n",
    "\n",
    "\tindx_aperture = np.where(\n",
    "\t\t(x>-sigma*optfactor) &\n",
    "\t\t(x<+sigma*optfactor)\n",
    "\t)\n",
    "\txaper = x[indx_aperture]\n",
    "\tyaper = y[indx_aperture]\n",
    "\n",
    "\tfrac = np.sum(yaper)/np.sum(y) \n",
    "\t# print(np.sum(y), np.sum(yaper), frac)\n",
    "\n",
    "\tif path_plot != None:\n",
    "\t\tplt.plot(x, y, alpha=0.5, label=f'PDF of N(0, {sigma:1.3f})', lw=5)\n",
    "\t\tplt.plot(xaper, yaper, alpha=1.0, label=f'Aperture ({frac*1e2:.1f}%)', lw=5,)\n",
    "\t\tplt.xlabel('x', fontsize=20)\n",
    "\t\tplt.ylabel('f(x)', fontsize=20)\n",
    "\t\tplt.legend(loc='lower center', fontsize=14)\n",
    "\t\t# plt.show()\n",
    "\t\tplt.savefig(path_plot, overwrite=True)\n",
    "\telse:\n",
    "\t\tpass\n",
    "\n",
    "\treturn frac\n",
    "\n",
    "def add_noise(mu, sigma, nseed, n=10, path_plot=None):\n",
    "\t\"\"\"\n",
    "\tmu, sigma = 17.5, 0.1\n",
    "\tn = 10\n",
    "\t\"\"\"\n",
    "\tfrom scipy.stats import norm\n",
    "\timport numpy as np\n",
    "\t\n",
    "\ttry:\n",
    "\t\tx = np.arange(mu-sigma*n, mu+sigma*n, sigma*1e-3)\n",
    "\t\ty = norm(mu, sigma).pdf(x)\n",
    "\n",
    "\t\tif path_plot != None:\n",
    "\t\t\tresultlist = []\n",
    "\t\t\tfor i in range(10000):\n",
    "\t\t\t\txobs = np.random.choice(x, p=y/np.sum(y))\n",
    "\t\t\t\t# print(xobs)\n",
    "\t\t\t\tresultlist.append(xobs)\n",
    "\t\t\tplt.axvspan(xmin=mu-sigma, xmax=mu+sigma, alpha=0.5, color='tomato',)\n",
    "\t\t\tplt.axvline(x=mu, ls='--', alpha=1.0, color='tomato', lw=3)\n",
    "\t\t\tplt.plot(x, y, lw=3, alpha=0.75, color='grey')\n",
    "\t\t\tplt.hist(resultlist, lw=3, alpha=0.75, color='k', histtype='step', density=True)\n",
    "\t\t\tplt.xlabel(r'$\\rm m_{obs}$')\n",
    "\t\t\tplt.plot(x, y)\n",
    "\t\t\tplt.savefig(path_plot, overwrite=True)\n",
    "\t\telse:\n",
    "\t\t\tpass\n",
    "\t\t#\tmore complicated choice with the fixed random seed\n",
    "\t\tnp.random.seed(int((nseed+1)+(mu*1e2)))\n",
    "\t\treturn np.random.choice(x, p=y/np.sum(y))\n",
    "\texcept:\n",
    "\t\t# print('Something goes wrong (add_noise function)')\n",
    "\t\treturn None"
   ]
  },
  {
   "cell_type": "code",
   "execution_count": 10,
   "metadata": {},
   "outputs": [
    {
     "name": "stdout",
     "output_type": "stream",
     "text": [
      "Time (10 iter.) : 1.177 sec\n",
      "Time/iteration  : 0.118 sec/iter.\n"
     ]
    }
   ],
   "source": [
    "#\tSetting\n",
    "niteration = 10\n",
    "d = 40*u.Mpc\n",
    "aperfrac = calc_GaussianFraction(seeing=1.5, optfactor=0.6731, path_plot=None)\n",
    "times = np.unique(intbl['t'])\n",
    "bfilterlist = [filte for filte in intbl.keys() if filte != 't']\n",
    "# bfilterlist = ['g', 'r', 'i']\n",
    "\n",
    "t0 = time.time()\n",
    "tablelist = []\n",
    "for nseed in range(niteration):\n",
    "\n",
    "\toutbl = Table()\n",
    "\t# outbl.meta['distance'] = d\n",
    "\toutbl['seed'] = [nseed]*len(times)\n",
    "\toutbl['t'] = times\n",
    "\n",
    "\tfor filte in bfilterlist:\n",
    "\t\tdepth = dptbl['5sigma_depth'][dptbl['name']==filte].item()*u.ABmag\n",
    "\t\t# outbl.meta[f'depth_{filte}'] = depth\n",
    "\n",
    "\t\toutbl[f'magabs_{filte}'] = (intbl[filte]+magoffset)*u.ABmag\n",
    "\t\toutbl[f'magapp_{filte}'] = convert_abs2app(outbl[f'magabs_{filte}'], d.to(u.pc).value)*u.ABmag\n",
    "\t\toutbl[f'snr_{filte}'] = calc_snr(outbl[f'magapp_{filte}'], depth.value)*aperfrac\n",
    "\t\toutbl[f'magerr_{filte}'] = convert_snr2magerr(outbl[f'snr_{filte}'])*u.ABmag\n",
    "\t\toutbl[f'magobs_{filte}'] = [add_noise(mu=m, sigma=merr, nseed=nseed, n=10, path_plot=None) for m, merr in zip(outbl[f'magapp_{filte}'], outbl[f'magerr_{filte}'])]*u.ABmag\n",
    "\t\t\n",
    "\t\toutbl[f'fnu_{filte}'] = outbl[f'magapp_{filte}'].to(u.uJy)\n",
    "\t\toutbl[f'fnuobs_{filte}'] = outbl[f'magobs_{filte}'].to(u.uJy)\n",
    "\t\toutbl[f'fnuerr_{filte}'] = outbl[f'fnu_{filte}']/outbl[f'snr_{filte}']\n",
    "\n",
    "\t\toutbl[f'detection_{filte}'] = [True if m<=depth.value else False for m in outbl[f'magobs_{filte}']]\n",
    "\n",
    "\t\toutbl[f'magabs_{filte}'].format = '1.3f'\n",
    "\t\toutbl[f'magapp_{filte}'].format = '1.3f'\n",
    "\t\toutbl[f'magerr_{filte}'].format = '1.3f'\n",
    "\t\toutbl[f'magobs_{filte}'].format = '1.3f'\n",
    "\t\toutbl[f'fnu_{filte}'].format = '1.3f'\n",
    "\t\toutbl[f'fnuobs_{filte}'].format = '1.3f'\n",
    "\t\toutbl[f'fnuerr_{filte}'].format = '1.3f'\n",
    "\t\toutbl[f'snr_{filte}'].format = '1.3f'\n",
    "\n",
    "\t#\tTable of results --> tabelist\n",
    "\ttablelist.append(outbl)\n",
    "\n",
    "comtbl = vstack(tablelist)\n",
    "comtbl.meta['name'] = os.path.basename(knsp)\n",
    "for filte in bfilterlist: comtbl.meta[f'depth_{filte}'] = dptbl['5sigma_depth'][dptbl['name']==filte].item()*u.ABmag\n",
    "comtbl.meta['distance'] = d\n",
    "comtbl.meta['dshape'] = dshape\n",
    "comtbl.meta['lat'] = lat\n",
    "comtbl.meta['md'] = md\n",
    "comtbl.meta['vd'] = vd\n",
    "comtbl.meta['mw'] = mw\n",
    "comtbl.meta['vw'] = vw\n",
    "comtbl.meta['angle'] = angle\n",
    "\n",
    "delt = time.time() - t0\n",
    "print(f\"Time ({niteration} iter.) : {delt:1.3f} sec\")\n",
    "print(f\"Time/iteration  : {delt/niteration:1.3f} sec/iter.\")"
   ]
  },
  {
   "cell_type": "markdown",
   "metadata": {},
   "source": [
    "- Expected time"
   ]
  },
  {
   "cell_type": "code",
   "execution_count": 11,
   "metadata": {},
   "outputs": [
    {
     "name": "stdout",
     "output_type": "stream",
     "text": [
      "10^0 iter. : 0.002 min\n",
      "10^1 iter. : 0.020 min\n",
      "10^2 iter. : 0.196 min\n",
      "10^3 iter. : 1.962 min\n",
      "10^4 iter. : 19.620 min\n",
      "10^5 iter. : 196.200 min\n",
      "10^6 iter. : 1961.997 min\n"
     ]
    }
   ],
   "source": [
    "ndelt = delt/niteration\n",
    "for nn in np.arange(0, 6+1, 1):\n",
    "\tprint(f\"10^{nn} iter. : {(ndelt*10**nn)/60:1.3f} min\")"
   ]
  },
  {
   "cell_type": "code",
   "execution_count": 12,
   "metadata": {},
   "outputs": [
    {
     "data": {
      "text/html": [
       "<div><i>Table length=20</i>\n",
       "<table id=\"table5465832176\" class=\"table-striped table-bordered table-condensed\">\n",
       "<thead><tr><th>seed</th><th>t</th><th>magabs_g</th><th>magapp_g</th><th>snr_g</th><th>magerr_g</th><th>magobs_g</th><th>fnu_g</th><th>fnuobs_g</th><th>fnuerr_g</th><th>detection_g</th><th>magabs_i</th><th>magapp_i</th><th>snr_i</th><th>magerr_i</th><th>magobs_i</th><th>fnu_i</th><th>fnuobs_i</th><th>fnuerr_i</th><th>detection_i</th><th>magabs_r</th><th>magapp_r</th><th>snr_r</th><th>magerr_r</th><th>magobs_r</th><th>fnu_r</th><th>fnuobs_r</th><th>fnuerr_r</th><th>detection_r</th><th>magabs_u</th><th>magapp_u</th><th>snr_u</th><th>magerr_u</th><th>magobs_u</th><th>fnu_u</th><th>fnuobs_u</th><th>fnuerr_u</th><th>detection_u</th></tr></thead>\n",
       "<thead><tr><th></th><th>d</th><th>mag(AB)</th><th>mag(AB)</th><th>mag(AB)</th><th>mag(AB)</th><th>mag(AB)</th><th>uJy</th><th>uJy</th><th>uJy</th><th></th><th>mag(AB)</th><th>mag(AB)</th><th>mag(AB)</th><th>mag(AB)</th><th>mag(AB)</th><th>uJy</th><th>uJy</th><th>uJy</th><th></th><th>mag(AB)</th><th>mag(AB)</th><th>mag(AB)</th><th>mag(AB)</th><th>mag(AB)</th><th>uJy</th><th>uJy</th><th>uJy</th><th></th><th>mag(AB)</th><th>mag(AB)</th><th>mag(AB)</th><th>mag(AB)</th><th>mag(AB)</th><th>uJy</th><th>uJy</th><th>uJy</th><th></th></tr></thead>\n",
       "<thead><tr><th>int64</th><th>float64</th><th>float64</th><th>float64</th><th>float64</th><th>float64</th><th>float64</th><th>float64</th><th>float64</th><th>float64</th><th>bool</th><th>float64</th><th>float64</th><th>float64</th><th>float64</th><th>float64</th><th>float64</th><th>float64</th><th>float64</th><th>bool</th><th>float64</th><th>float64</th><th>float64</th><th>float64</th><th>float64</th><th>float64</th><th>float64</th><th>float64</th><th>bool</th><th>float64</th><th>float64</th><th>float64</th><th>float64</th><th>float64</th><th>float64</th><th>float64</th><th>float64</th><th>bool</th></tr></thead>\n",
       "<tr><td>0</td><td>0.297</td><td>-18.051</td><td>14.959</td><td>64.917</td><td>0.017</td><td>14.946</td><td>3770.117</td><td>3814.524</td><td>58.076</td><td>True</td><td>-17.489</td><td>15.522</td><td>27.638</td><td>0.039</td><td>15.538</td><td>2245.750</td><td>2212.475</td><td>81.256</td><td>True</td><td>-17.690</td><td>15.321</td><td>44.729</td><td>0.024</td><td>15.348</td><td>2702.312</td><td>2634.816</td><td>60.415</td><td>True</td><td>-18.357</td><td>14.654</td><td>47.040</td><td>0.023</td><td>14.647</td><td>4995.510</td><td>5023.752</td><td>106.197</td><td>True</td></tr>\n",
       "<tr><td>0</td><td>0.324</td><td>-18.078</td><td>14.932</td><td>65.727</td><td>0.016</td><td>14.929</td><td>3864.827</td><td>3875.931</td><td>58.801</td><td>True</td><td>-17.531</td><td>15.479</td><td>28.188</td><td>0.038</td><td>15.536</td><td>2335.985</td><td>2216.969</td><td>82.873</td><td>True</td><td>-17.732</td><td>15.279</td><td>45.600</td><td>0.024</td><td>15.321</td><td>2808.573</td><td>2702.309</td><td>61.592</td><td>True</td><td>-18.323</td><td>14.687</td><td>46.320</td><td>0.023</td><td>14.670</td><td>4843.814</td><td>4918.565</td><td>104.572</td><td>True</td></tr>\n",
       "<tr><td>0</td><td>0.354</td><td>-18.088</td><td>14.923</td><td>66.017</td><td>0.016</td><td>14.912</td><td>3898.938</td><td>3938.055</td><td>59.060</td><td>True</td><td>-17.577</td><td>15.433</td><td>28.788</td><td>0.037</td><td>15.428</td><td>2436.530</td><td>2446.952</td><td>84.637</td><td>True</td><td>-17.764</td><td>15.246</td><td>46.296</td><td>0.023</td><td>15.264</td><td>2894.922</td><td>2848.162</td><td>62.531</td><td>True</td><td>-18.248</td><td>14.763</td><td>44.732</td><td>0.024</td><td>14.752</td><td>4517.334</td><td>4563.915</td><td>100.986</td><td>True</td></tr>\n",
       "<tr><td>0</td><td>0.386</td><td>-18.077</td><td>14.933</td><td>65.702</td><td>0.016</td><td>14.930</td><td>3861.840</td><td>3872.940</td><td>58.778</td><td>True</td><td>-17.607</td><td>15.403</td><td>29.187</td><td>0.037</td><td>15.375</td><td>2504.631</td><td>2570.363</td><td>85.812</td><td>True</td><td>-17.792</td><td>15.219</td><td>46.880</td><td>0.023</td><td>15.224</td><td>2968.419</td><td>2954.792</td><td>63.320</td><td>True</td><td>-18.113</td><td>14.897</td><td>42.044</td><td>0.026</td><td>14.867</td><td>3990.708</td><td>4102.563</td><td>94.918</td><td>True</td></tr>\n",
       "<tr><td>0</td><td>0.42</td><td>-18.049</td><td>14.962</td><td>64.842</td><td>0.017</td><td>14.964</td><td>3761.398</td><td>3753.405</td><td>58.009</td><td>True</td><td>-17.632</td><td>15.379</td><td>29.518</td><td>0.036</td><td>15.310</td><td>2561.684</td><td>2728.721</td><td>86.784</td><td>True</td><td>-17.831</td><td>15.179</td><td>47.738</td><td>0.023</td><td>15.158</td><td>3078.148</td><td>3138.330</td><td>64.480</td><td>True</td><td>-17.902</td><td>15.109</td><td>38.147</td><td>0.028</td><td>15.106</td><td>3285.277</td><td>3293.193</td><td>86.121</td><td>True</td></tr>\n",
       "<tr><td>0</td><td>0.459</td><td>-17.988</td><td>15.023</td><td>63.045</td><td>0.017</td><td>15.014</td><td>3555.800</td><td>3585.131</td><td>56.401</td><td>True</td><td>-17.663</td><td>15.347</td><td>29.951</td><td>0.036</td><td>15.395</td><td>2637.459</td><td>2523.822</td><td>88.058</td><td>True</td><td>-17.871</td><td>15.139</td><td>48.632</td><td>0.022</td><td>15.172</td><td>3194.556</td><td>3098.561</td><td>65.688</td><td>True</td><td>-17.598</td><td>15.412</td><td>33.173</td><td>0.032</td><td>15.394</td><td>2484.418</td><td>2526.159</td><td>74.892</td><td>True</td></tr>\n",
       "<tr><td>0</td><td>0.5</td><td>-17.880</td><td>15.130</td><td>60.002</td><td>0.018</td><td>15.157</td><td>3220.852</td><td>3142.030</td><td>53.679</td><td>True</td><td>-17.707</td><td>15.303</td><td>30.559</td><td>0.035</td><td>15.301</td><td>2745.532</td><td>2751.816</td><td>89.844</td><td>True</td><td>-17.915</td><td>15.095</td><td>49.620</td><td>0.022</td><td>15.073</td><td>3325.644</td><td>3393.681</td><td>67.022</td><td>True</td><td>-17.202</td><td>15.808</td><td>27.639</td><td>0.039</td><td>15.763</td><td>1724.625</td><td>1797.981</td><td>62.398</td><td>True</td></tr>\n",
       "<tr><td>0</td><td>0.545</td><td>-17.712</td><td>15.298</td><td>55.529</td><td>0.019</td><td>15.286</td><td>2758.574</td><td>2790.913</td><td>49.678</td><td>True</td><td>-17.769</td><td>15.242</td><td>31.441</td><td>0.034</td><td>15.268</td><td>2906.264</td><td>2837.745</td><td>92.437</td><td>True</td><td>-17.955</td><td>15.055</td><td>50.539</td><td>0.021</td><td>15.066</td><td>3449.926</td><td>3415.490</td><td>68.263</td><td>True</td><td>-16.752</td><td>16.258</td><td>22.467</td><td>0.047</td><td>16.203</td><td>1139.599</td><td>1199.427</td><td>50.722</td><td>True</td></tr>\n",
       "<tr><td>0</td><td>0.595</td><td>-17.485</td><td>15.525</td><td>50.021</td><td>0.021</td><td>15.534</td><td>2238.437</td><td>2219.905</td><td>44.750</td><td>True</td><td>-17.835</td><td>15.175</td><td>32.415</td><td>0.033</td><td>15.145</td><td>3089.219</td><td>3178.141</td><td>95.302</td><td>True</td><td>-17.965</td><td>15.046</td><td>50.771</td><td>0.021</td><td>15.053</td><td>3481.743</td><td>3458.527</td><td>68.577</td><td>True</td><td>-16.310</td><td>16.700</td><td>18.327</td><td>0.058</td><td>16.780</td><td>758.289</td><td>704.796</td><td>41.375</td><td>True</td></tr>\n",
       "<tr><td>0</td><td>0.648</td><td>-17.223</td><td>15.787</td><td>44.334</td><td>0.024</td><td>15.793</td><td>1758.390</td><td>1749.822</td><td>39.662</td><td>True</td><td>-17.881</td><td>15.130</td><td>33.106</td><td>0.032</td><td>15.079</td><td>3222.399</td><td>3375.218</td><td>97.334</td><td>True</td><td>-17.932</td><td>15.078</td><td>50.018</td><td>0.021</td><td>15.091</td><td>3379.122</td><td>3337.704</td><td>67.559</td><td>True</td><td>-15.920</td><td>17.091</td><td>15.312</td><td>0.069</td><td>17.203</td><td>529.330</td><td>477.345</td><td>34.569</td><td>True</td></tr>\n",
       "<tr><td>0</td><td>0.707</td><td>-16.956</td><td>16.054</td><td>39.203</td><td>0.027</td><td>16.108</td><td>1374.899</td><td>1308.966</td><td>35.072</td><td>True</td><td>-17.895</td><td>15.115</td><td>33.331</td><td>0.032</td><td>15.067</td><td>3266.238</td><td>3414.831</td><td>97.994</td><td>True</td><td>-17.853</td><td>15.158</td><td>48.213</td><td>0.022</td><td>15.170</td><td>3139.756</td><td>3103.995</td><td>65.122</td><td>True</td><td>-15.570</td><td>17.440</td><td>13.038</td><td>0.080</td><td>17.500</td><td>383.768</td><td>362.942</td><td>29.434</td><td>True</td></tr>\n",
       "<tr><td>0</td><td>0.771</td><td>-16.713</td><td>16.297</td><td>35.054</td><td>0.031</td><td>16.256</td><td>1099.294</td><td>1142.322</td><td>31.360</td><td>True</td><td>-17.882</td><td>15.128</td><td>33.132</td><td>0.032</td><td>15.078</td><td>3227.460</td><td>3380.398</td><td>97.411</td><td>True</td><td>-17.736</td><td>15.275</td><td>45.684</td><td>0.024</td><td>15.317</td><td>2819.008</td><td>2712.541</td><td>61.706</td><td>True</td><td>-15.240</td><td>17.771</td><td>11.195</td><td>0.093</td><td>17.562</td><td>282.963</td><td>342.912</td><td>25.275</td><td>True</td></tr>\n",
       "<tr><td>0</td><td>0.841</td><td>-16.502</td><td>16.508</td><td>31.808</td><td>0.034</td><td>16.459</td><td>905.111</td><td>947.513</td><td>28.456</td><td>True</td><td>-17.843</td><td>15.167</td><td>32.538</td><td>0.033</td><td>15.090</td><td>3112.629</td><td>3342.723</td><td>95.662</td><td>True</td><td>-17.595</td><td>15.415</td><td>42.819</td><td>0.025</td><td>15.401</td><td>2476.493</td><td>2508.775</td><td>57.836</td><td>True</td><td>-14.916</td><td>18.094</td><td>9.647</td><td>0.107</td><td>17.902</td><td>210.086</td><td>250.729</td><td>21.778</td><td>True</td></tr>\n",
       "<tr><td>0</td><td>0.917</td><td>-16.315</td><td>16.695</td><td>29.184</td><td>0.037</td><td>16.694</td><td>761.952</td><td>762.902</td><td>26.109</td><td>True</td><td>-17.781</td><td>15.230</td><td>31.616</td><td>0.034</td><td>15.240</td><td>2938.709</td><td>2910.296</td><td>92.951</td><td>True</td><td>-17.441</td><td>15.570</td><td>39.886</td><td>0.027</td><td>15.574</td><td>2148.789</td><td>2140.186</td><td>53.874</td><td>True</td><td>-14.595</td><td>18.415</td><td>8.322</td><td>0.123</td><td>18.600</td><td>156.341</td><td>131.826</td><td>18.787</td><td>True</td></tr>\n",
       "<tr><td>0</td><td>1.0</td><td>-16.135</td><td>16.875</td><td>26.861</td><td>0.040</td><td>16.802</td><td>645.474</td><td>690.480</td><td>24.030</td><td>True</td><td>-17.691</td><td>15.319</td><td>30.338</td><td>0.035</td><td>15.356</td><td>2706.044</td><td>2615.874</td><td>89.196</td><td>True</td><td>-17.280</td><td>15.730</td><td>37.048</td><td>0.029</td><td>15.760</td><td>1853.866</td><td>1802.258</td><td>50.040</td><td>True</td><td>-14.210</td><td>18.801</td><td>6.967</td><td>0.146</td><td>18.781</td><td>109.590</td><td>111.622</td><td>15.729</td><td>True</td></tr>\n",
       "<tr><td>0</td><td>1.091</td><td>-15.952</td><td>17.059</td><td>24.685</td><td>0.043</td><td>17.147</td><td>545.138</td><td>502.677</td><td>22.084</td><td>True</td><td>-17.576</td><td>15.435</td><td>28.767</td><td>0.037</td><td>15.430</td><td>2433.052</td><td>2443.467</td><td>84.577</td><td>True</td><td>-17.107</td><td>15.904</td><td>34.195</td><td>0.031</td><td>15.897</td><td>1579.395</td><td>1589.534</td><td>46.188</td><td>True</td><td>-13.668</td><td>19.342</td><td>5.430</td><td>0.184</td><td>19.373</td><td>66.553</td><td>64.700</td><td>12.258</td><td>True</td></tr>\n",
       "<tr><td>0</td><td>1.189</td><td>-15.728</td><td>17.282</td><td>22.268</td><td>0.048</td><td>17.244</td><td>443.609</td><td>459.455</td><td>19.921</td><td>True</td><td>-17.418</td><td>15.592</td><td>26.755</td><td>0.040</td><td>15.609</td><td>2104.521</td><td>2072.259</td><td>78.660</td><td>True</td><td>-16.889</td><td>16.121</td><td>30.940</td><td>0.035</td><td>16.100</td><td>1293.025</td><td>1318.401</td><td>41.791</td><td>True</td><td>-12.853</td><td>20.157</td><td>3.730</td><td>0.258</td><td>20.483</td><td>31.411</td><td>23.271</td><td>8.421</td><td>True</td></tr>\n",
       "<tr><td>0</td><td>1.297</td><td>-15.440</td><td>17.570</td><td>19.503</td><td>0.054</td><td>17.611</td><td>340.298</td><td>327.773</td><td>17.448</td><td>True</td><td>-17.188</td><td>15.823</td><td>24.060</td><td>0.044</td><td>15.817</td><td>1701.928</td><td>1711.240</td><td>70.737</td><td>True</td><td>-16.625</td><td>16.385</td><td>27.397</td><td>0.039</td><td>16.378</td><td>1013.803</td><td>1020.367</td><td>37.005</td><td>True</td><td>-11.808</td><td>21.203</td><td>2.305</td><td>0.391</td><td>20.945</td><td>11.992</td><td>15.212</td><td>5.203</td><td>True</td></tr>\n",
       "<tr><td>0</td><td>1.414</td><td>-15.056</td><td>17.954</td><td>16.345</td><td>0.064</td><td>17.953</td><td>239.019</td><td>239.275</td><td>14.623</td><td>True</td><td>-16.847</td><td>16.164</td><td>20.564</td><td>0.052</td><td>16.157</td><td>1243.277</td><td>1251.094</td><td>60.459</td><td>True</td><td>-16.284</td><td>16.726</td><td>23.415</td><td>0.045</td><td>16.710</td><td>740.529</td><td>751.448</td><td>31.626</td><td>True</td><td>-10.893</td><td>22.118</td><td>1.512</td><td>0.551</td><td>22.668</td><td>5.163</td><td>3.110</td><td>3.414</td><td>False</td></tr>\n",
       "<tr><td>0</td><td>1.542</td><td>-14.474</td><td>18.536</td><td>12.501</td><td>0.084</td><td>18.645</td><td>139.816</td><td>126.437</td><td>11.184</td><td>True</td><td>-16.359</td><td>16.651</td><td>16.430</td><td>0.064</td><td>16.721</td><td>793.676</td><td>743.822</td><td>48.306</td><td>True</td><td>-15.783</td><td>17.227</td><td>18.591</td><td>0.057</td><td>17.266</td><td>466.819</td><td>450.196</td><td>25.110</td><td>True</td><td>-10.126</td><td>22.884</td><td>1.063</td><td>0.720</td><td>23.885</td><td>2.550</td><td>1.014</td><td>2.399</td><td>False</td></tr>\n",
       "</table></div>"
      ],
      "text/plain": [
       "<Table length=20>\n",
       " seed    t    magabs_g magapp_g ...  fnu_u   fnuobs_u fnuerr_u detection_u\n",
       "         d    mag(AB)  mag(AB)  ...   uJy      uJy      uJy               \n",
       "int64 float64 float64  float64  ... float64  float64  float64      bool   \n",
       "----- ------- -------- -------- ... -------- -------- -------- -----------\n",
       "    0   0.297  -18.051   14.959 ... 4995.510 5023.752  106.197        True\n",
       "    0   0.324  -18.078   14.932 ... 4843.814 4918.565  104.572        True\n",
       "    0   0.354  -18.088   14.923 ... 4517.334 4563.915  100.986        True\n",
       "    0   0.386  -18.077   14.933 ... 3990.708 4102.563   94.918        True\n",
       "    0    0.42  -18.049   14.962 ... 3285.277 3293.193   86.121        True\n",
       "    0   0.459  -17.988   15.023 ... 2484.418 2526.159   74.892        True\n",
       "    0     0.5  -17.880   15.130 ... 1724.625 1797.981   62.398        True\n",
       "    0   0.545  -17.712   15.298 ... 1139.599 1199.427   50.722        True\n",
       "    0   0.595  -17.485   15.525 ...  758.289  704.796   41.375        True\n",
       "    0   0.648  -17.223   15.787 ...  529.330  477.345   34.569        True\n",
       "    0   0.707  -16.956   16.054 ...  383.768  362.942   29.434        True\n",
       "    0   0.771  -16.713   16.297 ...  282.963  342.912   25.275        True\n",
       "    0   0.841  -16.502   16.508 ...  210.086  250.729   21.778        True\n",
       "    0   0.917  -16.315   16.695 ...  156.341  131.826   18.787        True\n",
       "    0     1.0  -16.135   16.875 ...  109.590  111.622   15.729        True\n",
       "    0   1.091  -15.952   17.059 ...   66.553   64.700   12.258        True\n",
       "    0   1.189  -15.728   17.282 ...   31.411   23.271    8.421        True\n",
       "    0   1.297  -15.440   17.570 ...   11.992   15.212    5.203        True\n",
       "    0   1.414  -15.056   17.954 ...    5.163    3.110    3.414       False\n",
       "    0   1.542  -14.474   18.536 ...    2.550    1.014    2.399       False"
      ]
     },
     "execution_count": 12,
     "metadata": {},
     "output_type": "execute_result"
    }
   ],
   "source": [
    "comtbl[10:30]\n",
    "# comtbl.meta"
   ]
  },
  {
   "cell_type": "code",
   "execution_count": 13,
   "metadata": {},
   "outputs": [
    {
     "data": {
      "text/plain": [
       "Text(0.5, 1.0, 't=0.125 days')"
      ]
     },
     "execution_count": 13,
     "metadata": {},
     "output_type": "execute_result"
    },
    {
     "data": {
      "image/png": "[encoded data removed]",
      "text/plain": [
       "<Figure size 640x480 with 1 Axes>"
      ]
     },
     "metadata": {},
     "output_type": "display_data"
    }
   ],
   "source": [
    "t = times[0]\n",
    "# seeds = np.arange(0, 99+1, 1)\n",
    "seeds = np.arange(0, 9, 1)\n",
    "nseed = len(seeds)\n",
    "# colors = makeSpecColors(nseed)\n",
    "\n",
    "for ii, nseed in enumerate(seeds):\n",
    "\tmagobslist = [comtbl[key][(comtbl['t']==t) & (comtbl['seed']==nseed)].item() for key in comtbl.keys() if 'magobs' in key]\n",
    "\tmagerrlist = [comtbl[key][(comtbl['t']==t) & (comtbl['seed']==nseed)].item() for key in comtbl.keys() if 'magerr' in key]\n",
    "\tif ii == 0:\n",
    "\t\tmagapplist = [comtbl[key][(comtbl['t']==t) & (comtbl['seed']==nseed)].item() for key in comtbl.keys() if 'magapp' in key]\n",
    "\t\tplt.errorbar(slam, magapplist, xerr=sbdw/2, yerr=magerrlist, marker='.', ms=10, capsize=3, elinewidth=2, c='red', label='Truth', ls='None', alpha=1.0)\n",
    "\telse:\n",
    "\t\tpass\n",
    "\n",
    "\tplt.errorbar(slam, magobslist, xerr=sbdw/2, yerr=magerrlist, ls='None', alpha=0.05, c='grey',)\n",
    "\n",
    "xl, xr = plt.xlim()\n",
    "yl, yu = plt.ylim()\n",
    "\n",
    "plt.errorbar(0, 0, xerr=0, yerr=0, ls='None', alpha=1.0, c='grey', label='Obs')\n",
    "\n",
    "plt.legend(loc='upper center', ncol=4, fontsize=14)\n",
    "plt.xlim([xl, xr])\n",
    "plt.ylim([yu, yl])\n",
    "plt.xlabel(r'Wavelength [$\\rm \\AA$]', fontsize=14)\n",
    "plt.ylabel('App. mag [AB]', fontsize=14)\n",
    "plt.title(f't={t:1.3f} days')"
   ]
  },
  {
   "cell_type": "markdown",
   "metadata": {},
   "source": [
    "# Iteration"
   ]
  },
  {
   "cell_type": "markdown",
   "metadata": {},
   "source": [
    "- Setting"
   ]
  },
  {
   "cell_type": "code",
   "execution_count": 14,
   "metadata": {},
   "outputs": [
    {
     "name": "stderr",
     "output_type": "stream",
     "text": [
      "mkdir: ../5.result/kn_sim_cube_obs: File exists\n"
     ]
    }
   ],
   "source": [
    "path_result = \"../5.result/kn_sim_cube_obs\"\n",
    "if ~os.path.exists(path_result): os.system(f\"mkdir {path_result}\")"
   ]
  },
  {
   "cell_type": "code",
   "execution_count": 15,
   "metadata": {},
   "outputs": [],
   "source": [
    "niteration = int(1e2)\n",
    "d = 40*u.Mpc\n",
    "aperfrac = calc_GaussianFraction(seeing=1.5, optfactor=0.6731, path_plot=None)"
   ]
  },
  {
   "cell_type": "code",
   "execution_count": 16,
   "metadata": {},
   "outputs": [
    {
     "data": {
      "text/plain": [
       "['../3.table/kn_sim_cube_synphot/Run_TP_dyn_all_lanth_wind1_all_md0.001_vd0.05_mw0.001_vw0.05_angle0_synphot_sdss.ecsv',\n",
       " '../3.table/kn_sim_cube_synphot/Run_TP_dyn_all_lanth_wind1_all_md0.001_vd0.05_mw0.001_vw0.05_angle120_synphot_sdss.ecsv',\n",
       " '../3.table/kn_sim_cube_synphot/Run_TP_dyn_all_lanth_wind1_all_md0.001_vd0.05_mw0.001_vw0.05_angle150_synphot_sdss.ecsv',\n",
       " '../3.table/kn_sim_cube_synphot/Run_TP_dyn_all_lanth_wind1_all_md0.001_vd0.05_mw0.001_vw0.05_angle180_synphot_sdss.ecsv',\n",
       " '../3.table/kn_sim_cube_synphot/Run_TP_dyn_all_lanth_wind1_all_md0.001_vd0.05_mw0.001_vw0.05_angle30_synphot_sdss.ecsv']"
      ]
     },
     "execution_count": 16,
     "metadata": {},
     "output_type": "execute_result"
    }
   ],
   "source": [
    "knsplist = sorted(glob.glob(\"../3.table/kn_sim_cube_synphot/Run_*_synphot_sdss.ecsv\"))\n",
    "knsplist[:5]"
   ]
  },
  {
   "cell_type": "code",
   "execution_count": 17,
   "metadata": {},
   "outputs": [],
   "source": [
    "# ii = 0\n",
    "# #\tSingle kilonova spectrum\n",
    "# knsp = knsplist[ii]\n",
    "\n",
    "# for ii, knsp in enumerate(knsplist[:5]):\n",
    "# \t#\tNew kilonova file name\n",
    "# \tnknsp = f\"{path_result}/{os.path.basename(knsp).replace('.ecsv', f'_obs_d{int(d.value)}_iter{niteration}.sdss.ecsv')}\"\n",
    "# \tnknplot = f\"{path_result}/{os.path.basename(nknsp).replace('.ecsv', '.sdss.png')}\"\n",
    "# \t# print(nknsp, nknplot)\n",
    "# \tif not(os.path.exists(nknsp)) or not(os.path.exists(nknplot)):\n",
    "\n",
    "# \t\t# print(f\"[{ii+1}/{len(knsplist)}] {os.path.basename(knsp)}\", end='\\r')\n",
    "# \t\tintbl = ascii.read(knsp)\n",
    "# \t\t#\tExtract parameters\n",
    "# \t\tdshape, lat, md, vd, mw, vw, angle = extract_param_kn_sim_cube(knsp)\n",
    "# \t\t# print(dshape, lat, md, vd, mw, vw, angle)\n",
    "\n",
    "# \t\t#\tSetting\n",
    "# \t\ttimes = np.unique(intbl['t'])\n",
    "# \t\tbfilterlist = [filte for filte in intbl.keys() if filte != 't']\n",
    "# \t\t# bfilterlist = ['g', 'r', 'i']\n",
    "\n",
    "\n",
    "# \t\tt0 = time.time()\n",
    "# \t\ttablelist = []\n",
    "# \t\tfor nseed in range(niteration):\n",
    "# \t\t\tprint(f\"[{ii+1}/{len(knsplist)}] {int(1e2*(nseed+1)/niteration)}%\", end='\\r')\n",
    "\n",
    "# \t\t\toutbl = Table()\n",
    "# \t\t\toutbl['seed'] = [nseed]*len(times)\n",
    "# \t\t\toutbl['t'] = times\n",
    "\n",
    "# \t\t\tfor filte in bfilterlist:\n",
    "# \t\t\t\tdepth = dptbl['5sigma_depth'][dptbl['name']==filte].item()*u.ABmag\n",
    "# \t\t\t\t# outbl.meta[f'depth_{filte}'] = depth\n",
    "\n",
    "# \t\t\t\toutbl[f'magabs_{filte}'] = (intbl[filte]+magoffset)*u.ABmag\n",
    "# \t\t\t\toutbl[f'magapp_{filte}'] = convert_abs2app(outbl[f'magabs_{filte}'], d.to(u.pc).value)*u.ABmag\n",
    "# \t\t\t\toutbl[f'snr_{filte}'] = calc_snr(outbl[f'magapp_{filte}'], depth.value)*aperfrac\n",
    "# \t\t\t\toutbl[f'magerr_{filte}'] = convert_snr2magerr(outbl[f'snr_{filte}'])*u.ABmag\n",
    "# \t\t\t\toutbl[f'magobs_{filte}'] = [add_noise(mu=m, sigma=merr, nseed=nseed, n=10, path_plot=None) for m, merr in zip(outbl[f'magapp_{filte}'], outbl[f'magerr_{filte}'])]*u.ABmag\n",
    "\t\t\t\t\n",
    "# \t\t\t\toutbl[f'fnu_{filte}'] = outbl[f'magapp_{filte}'].to(u.uJy)\n",
    "# \t\t\t\toutbl[f'fnuobs_{filte}'] = outbl[f'magobs_{filte}'].to(u.uJy)\n",
    "# \t\t\t\toutbl[f'fnuerr_{filte}'] = outbl[f'fnu_{filte}']/outbl[f'snr_{filte}']\n",
    "\n",
    "# \t\t\t\toutbl[f'detection_{filte}'] = [True if m<=depth.value else False for m in outbl[f'magobs_{filte}']]\n",
    "\n",
    "# \t\t\t\toutbl[f'magabs_{filte}'].format = '1.3f'\n",
    "# \t\t\t\toutbl[f'magapp_{filte}'].format = '1.3f'\n",
    "# \t\t\t\toutbl[f'magerr_{filte}'].format = '1.3f'\n",
    "# \t\t\t\toutbl[f'magobs_{filte}'].format = '1.3f'\n",
    "# \t\t\t\toutbl[f'fnu_{filte}'].format = '1.3f'\n",
    "# \t\t\t\toutbl[f'fnuobs_{filte}'].format = '1.3f'\n",
    "# \t\t\t\toutbl[f'fnuerr_{filte}'].format = '1.3f'\n",
    "# \t\t\t\toutbl[f'snr_{filte}'].format = '1.3f'\n",
    "\n",
    "# \t\t\t#\tTable of results --> tabelist\n",
    "# \t\t\ttablelist.append(outbl)\n",
    "\n",
    "# \t\t#\tStack tables and Put header\n",
    "# \t\tcomtbl = vstack(tablelist)\n",
    "# \t\tcomtbl.meta['name'] = os.path.basename(knsp)\n",
    "# \t\tfor filte in bfilterlist: comtbl.meta[f'depth_{filte}'] = dptbl['5sigma_depth'][dptbl['name']==filte].item()*u.ABmag\n",
    "# \t\tcomtbl.meta['distance'] = d\n",
    "# \t\tcomtbl.meta['dshape'] = dshape\n",
    "# \t\tcomtbl.meta['lat'] = lat\n",
    "# \t\tcomtbl.meta['md'] = md\n",
    "# \t\tcomtbl.meta['vd'] = vd\n",
    "# \t\tcomtbl.meta['mw'] = mw\n",
    "# \t\tcomtbl.meta['vw'] = vw\n",
    "# \t\tcomtbl.meta['angle'] = angle\n",
    "\n",
    "# \t\tcomtbl.write(nknsp, format='ascii.ecsv', overwrite=True)\n",
    "\n",
    "# \t\t#\tPlot\n",
    "# \t\tseeds = np.arange(0, niteration, 1)\n",
    "# \t\tnseed = len(seeds)\n",
    "# \t\t# colors = makeSpecColors(nseed)\n",
    "\n",
    "# \t\tplt.close('all')\n",
    "# \t\tfig = plt.figure(figsize=(20, 4))\n",
    "# \t\tfor jj, tt in enumerate(np.arange(8, 32+8, 8)):\n",
    "# \t\t\tt = times[tt]\n",
    "# \t\t\tplt.subplot(1, 4, jj+1)\n",
    "\n",
    "# \t\t\tfor ii, seed in enumerate(seeds):\n",
    "# \t\t\t\tmagobslist = [comtbl[key][(comtbl['t']==t) & (comtbl['seed']==seed)].item() for key in comtbl.keys() if 'magobs' in key]\n",
    "# \t\t\t\tmagerrlist = [comtbl[key][(comtbl['t']==t) & (comtbl['seed']==seed)].item() for key in comtbl.keys() if 'magerr' in key]\n",
    "# \t\t\t\tif ii == 0:\n",
    "# \t\t\t\t\tmagapplist = [comtbl[key][(comtbl['t']==t) & (comtbl['seed']==seed)].item() for key in comtbl.keys() if 'magapp' in key]\n",
    "# \t\t\t\t\tplt.errorbar(slam, magapplist, xerr=sbdw/2, yerr=magerrlist, marker='.', ms=10, capsize=3, elinewidth=2, c='red', label='Truth', ls='None', alpha=1.0)\n",
    "# \t\t\t\telse:\n",
    "# \t\t\t\t\tpass\n",
    "\n",
    "# \t\t\t\tplt.errorbar(slam, magobslist, xerr=sbdw/2, yerr=magerrlist, ls='None', alpha=0.05, c='grey',)\n",
    "\n",
    "# \t\t\txl, xr = plt.xlim()\n",
    "# \t\t\tyl, yu = plt.ylim()\n",
    "\n",
    "# \t\t\tplt.errorbar(0, 0, xerr=0, yerr=0, ls='None', alpha=1.0, c='grey', label='Obs')\n",
    "# \t\t\tplt.legend(loc='lower center', ncol=4, fontsize=14)\n",
    "# \t\t\tplt.xlim([xl, xr])\n",
    "# \t\t\tplt.ylim([yu, yl])\n",
    "# \t\t\tplt.xlabel(r'Wavelength [$\\rm \\AA$]', fontsize=14)\n",
    "# \t\t\tplt.ylabel('App. mag [AB]', fontsize=14)\n",
    "# \t\t\tplt.title(f't={t:1.3f} days')\n",
    "# \t\tplt.tight_layout()\n",
    "# \t\tplt.savefig(nknplot)"
   ]
  },
  {
   "cell_type": "code",
   "execution_count": 21,
   "metadata": {},
   "outputs": [
    {
     "name": "stdout",
     "output_type": "stream",
     "text": [
      "40.0 Mpc\n",
      "80.0 Mpc\n",
      "120.0 Mpc\n",
      "160.0 Mpc\n",
      "200.0 Mpc\n",
      "Time : 1689.236 sec\n"
     ]
    }
   ],
   "source": [
    "niteration = int(1e0)\n",
    "\n",
    "import test\n",
    "\n",
    "t0 = time.time()\n",
    "ncores = 3\n",
    "# knsplist0 = knsplist[:5]\n",
    "\n",
    "for d in np.arange(40, 200+40, 40)*u.Mpc:\n",
    "    print(d)\n",
    "    if __name__ == '__main__':\n",
    "        pool = multiprocessing.Pool(processes=ncores)  # 현재 시스템에서 사용 할 프로세스 개수\n",
    "        # pool.map(test.run_table_routine, zip(knsplist0, repeat(niteration), repeat(magoffset), repeat(dptbl), repeat(slam), repeat(sbdw)))\n",
    "        pool.starmap(test.run_table_routine47dtugri, zip(knsplist, repeat(d), repeat(niteration), repeat(aperfrac), repeat(magoffset), repeat(dptbl), repeat(slam), repeat(sbdw)))\n",
    "\n",
    "        pool.close()\n",
    "        pool.join()\n",
    "\n",
    "delt = time.time() - t0\n",
    "print(f\"Time : {delt:1.3f} sec\")\n",
    "\n",
    "# run_table_routine(knsp, niteration, magoffset, dptbl, slam, sbdw)"
   ]
  }
 ],
 "metadata": {
  "kernelspec": {
   "display_name": "Python 3.10.6 ('kn')",
   "language": "python",
   "name": "python3"
  },
  "language_info": {
   "codemirror_mode": {
    "name": "ipython",
    "version": 3
   },
   "file_extension": ".py",
   "mimetype": "text/x-python",
   "name": "python",
   "nbconvert_exporter": "python",
   "pygments_lexer": "ipython3",
   "version": "3.10.6"
  },
  "orig_nbformat": 4,
  "vscode": {
   "interpreter": {
    "hash": "0fa65c9a91e45692839231d985ed151f2fe21fa37e863d955851b77a1cee7351"
   }
  }
 },
 "nbformat": 4,
 "nbformat_minor": 2
}
