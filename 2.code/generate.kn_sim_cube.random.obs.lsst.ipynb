{
 "cells": [
  {
   "cell_type": "markdown",
   "metadata": {},
   "source": [
    "# Generate random observation data for LSST broad-band (grizy)\n",
    "- Gregory S.H. Paek\n",
    "- 22.09.29\n",
    "- medium-band, ugri, BVRI\n"
   ]
  },
  {
   "cell_type": "code",
   "execution_count": 1,
   "metadata": {},
   "outputs": [],
   "source": [
    "import glob, os\n",
    "from astropy.io import ascii\n",
    "import matplotlib.pyplot as plt\n",
    "import numpy as np\n",
    "from astropy.table import Table, vstack\n",
    "import matplotlib as mpl\n",
    "from astropy import units as u\n",
    "import speclite.filters\n",
    "import time\n",
    "import multiprocessing\n",
    "from itertools import repeat"
   ]
  },
  {
   "cell_type": "code",
   "execution_count": 2,
   "metadata": {},
   "outputs": [],
   "source": [
    "from IPython.core.interactiveshell import InteractiveShell\n",
    "InteractiveShell.ast_node_interactivity = \"last_expr\"\n",
    "\n",
    "mpl.rcParams[\"axes.titlesize\"] = 14\n",
    "mpl.rcParams[\"axes.labelsize\"] = 20\n",
    "plt.rcParams['savefig.dpi'] = 200\n",
    "plt.rc('font', family='serif')"
   ]
  },
  {
   "cell_type": "markdown",
   "metadata": {},
   "source": [
    "## Useful functions"
   ]
  },
  {
   "cell_type": "code",
   "execution_count": 3,
   "metadata": {},
   "outputs": [],
   "source": [
    "from helper import makeSpecColors\n",
    "from helper import convert_flam2fnu\n",
    "from helper import get_wollaeger\n",
    "from helper import convert_app2abs\n",
    "from helper import convert_abs2app\n",
    "kncbtbl = get_wollaeger()\n",
    "from helper import get_bandwidth_table\n",
    "bdwtbl = get_bandwidth_table()\n",
    "#\tspeclite\n",
    "from helper import get_speclite_med\n",
    "meds = get_speclite_med()\n",
    "mlam = meds.effective_wavelengths\n",
    "mbdw = bdwtbl['bandwidth'][bdwtbl['group']=='Med']*u.Angstrom\n",
    "from helper import get_speclite_sdss\n",
    "sdss = get_speclite_sdss()\n",
    "slam = sdss.effective_wavelengths\n",
    "sbdw = bdwtbl['bandwidth'][bdwtbl['group']=='SDSS']*u.Angstrom\n",
    "from helper import get_speclite_jc\n",
    "jc = get_speclite_jc()\n",
    "jclam = jc.effective_wavelengths\n",
    "jcbdw = bdwtbl['bandwidth'][bdwtbl['group']=='Johnson Cousin']*u.Angstrom\n",
    "from helper import get_speclite_lsst\n",
    "lsst = get_speclite_lsst()\n",
    "lsstlam = lsst.effective_wavelengths\n",
    "from helper import get_lsst_bandwidth\n",
    "lsstbdw = get_lsst_bandwidth()\n",
    "\n",
    "\n",
    "from helper import get_lsst_depth\n",
    "\n",
    "# lsstbdw = bdwtbl['bandwidth'][bdwtbl['group']\n",
    "#\n",
    "from helper import get_7dt_depth\n",
    "from helper import get_7dt_broadband_depth\n",
    "# dptbl = get_7dt_depth(exptime=180)\n",
    "dptbl = get_7dt_broadband_depth(exptime=180)"
   ]
  },
  {
   "cell_type": "code",
   "execution_count": 4,
   "metadata": {},
   "outputs": [],
   "source": [
    "magoffset = -4.3"
   ]
  },
  {
   "cell_type": "markdown",
   "metadata": {},
   "source": [
    "- Synphot Table"
   ]
  },
  {
   "cell_type": "code",
   "execution_count": 5,
   "metadata": {},
   "outputs": [],
   "source": [
    "def extract_param_kn_sim_cube(knsp):\n",
    "\tpart = os.path.basename(knsp).split('_')\n",
    "\n",
    "\tif part[1] == 'TP':\n",
    "\t\tdshape = 'toroidal'\n",
    "\telif part[1] == 'TS':\n",
    "\t\tdshape = 'spherical'\n",
    "\telse:\n",
    "\t\tdshape = ''\n",
    "\n",
    "\t#\tLatitude\n",
    "\tif part[5] == 'wind1':\n",
    "\t\tlat = 'Axial'\n",
    "\telif part[5] == 'wind2':\n",
    "\t\tlat = 'Edge'\n",
    "\telse:\n",
    "\t\tlat = ''\n",
    "\n",
    "\t#\tEjecta mass for low-Ye [solar mass]\n",
    "\tmd = float(part[7].replace('md', ''))\n",
    "\n",
    "\t#\tEjecta velocity for low-Ye [N*c]\n",
    "\tvd = float(part[8].replace('vd', ''))\n",
    "\n",
    "\t#\tEjecta mass for high-Ye [solar mass]\n",
    "\tmw = float(part[9].replace('mw', ''))\n",
    "\n",
    "\t#\tEjecta velocity for high-Ye [N*c]\n",
    "\tvw = float(part[10].replace('vw', ''))\n",
    "\n",
    "\t#\tAngle\n",
    "\tangle = float(part[11].replace('angle', ''))\n",
    "\n",
    "\treturn dshape, lat, md, vd, mw, vw, angle"
   ]
  },
  {
   "cell_type": "code",
   "execution_count": 6,
   "metadata": {},
   "outputs": [],
   "source": [
    "def calc_snr(m, ul, sigma=5):\n",
    "\tsnr = sigma*10**((ul-m)/5)\n",
    "\treturn snr\n",
    "\n",
    "def convert_snr2magerr(snr):\n",
    "\tmerr = 2.5*np.log10(1+1/snr)\n",
    "\treturn merr\n",
    "\n",
    "def calc_GaussianFraction(seeing, optfactor=0.6731, path_plot=None):\n",
    "\timport numpy as np\n",
    "\timport matplotlib.pyplot as plt\n",
    "\tfrom scipy.special import erf\n",
    "\n",
    "\t# seeing, optfactor= 1.5, 0.6731\n",
    "\n",
    "\tmu = 0.0\n",
    "\t# sigma = fwhm_seeing/2.355\n",
    "\tfwhm2sigma = seeing*2.355\n",
    "\t# optfactor = 0.6731\n",
    "\tsigma = fwhm2sigma*optfactor\n",
    "\n",
    "\tx = np.linspace(-8, 8, 1000)\n",
    "\ty = (1 / np.sqrt(2 * np.pi * sigma**2)) * np.exp(-(x-mu)**2 / (2 * sigma**2))\n",
    "\ty_cum = 0.5 * (1 + erf((x - mu)/(np.sqrt(2 * sigma**2))))\n",
    "\n",
    "\tindx_aperture = np.where(\n",
    "\t\t(x>-sigma*optfactor) &\n",
    "\t\t(x<+sigma*optfactor)\n",
    "\t)\n",
    "\txaper = x[indx_aperture]\n",
    "\tyaper = y[indx_aperture]\n",
    "\n",
    "\tfrac = np.sum(yaper)/np.sum(y) \n",
    "\t# print(np.sum(y), np.sum(yaper), frac)\n",
    "\n",
    "\tif path_plot != None:\n",
    "\t\tplt.plot(x, y, alpha=0.5, label=f'PDF of N(0, {sigma:1.3f})', lw=5)\n",
    "\t\tplt.plot(xaper, yaper, alpha=1.0, label=f'Aperture ({frac*1e2:.1f}%)', lw=5,)\n",
    "\t\tplt.xlabel('x', fontsize=20)\n",
    "\t\tplt.ylabel('f(x)', fontsize=20)\n",
    "\t\tplt.legend(loc='lower center', fontsize=14)\n",
    "\t\t# plt.show()\n",
    "\t\tplt.savefig(path_plot, overwrite=True)\n",
    "\telse:\n",
    "\t\tpass\n",
    "\n",
    "\treturn frac\n",
    "\n",
    "def add_noise(mu, sigma, nseed, n=10, path_plot=None):\n",
    "\t\"\"\"\n",
    "\tmu, sigma = 17.5, 0.1\n",
    "\tn = 10\n",
    "\t\"\"\"\n",
    "\tfrom scipy.stats import norm\n",
    "\timport numpy as np\n",
    "\t\n",
    "\ttry:\n",
    "\t\tx = np.arange(mu-sigma*n, mu+sigma*n, sigma*1e-3)\n",
    "\t\ty = norm(mu, sigma).pdf(x)\n",
    "\n",
    "\t\tif path_plot != None:\n",
    "\t\t\tresultlist = []\n",
    "\t\t\tfor i in range(10000):\n",
    "\t\t\t\txobs = np.random.choice(x, p=y/np.sum(y))\n",
    "\t\t\t\t# print(xobs)\n",
    "\t\t\t\tresultlist.append(xobs)\n",
    "\t\t\tplt.axvspan(xmin=mu-sigma, xmax=mu+sigma, alpha=0.5, color='tomato',)\n",
    "\t\t\tplt.axvline(x=mu, ls='--', alpha=1.0, color='tomato', lw=3)\n",
    "\t\t\tplt.plot(x, y, lw=3, alpha=0.75, color='grey')\n",
    "\t\t\tplt.hist(resultlist, lw=3, alpha=0.75, color='k', histtype='step', density=True)\n",
    "\t\t\tplt.xlabel(r'$\\rm m_{obs}$')\n",
    "\t\t\tplt.plot(x, y)\n",
    "\t\t\tplt.savefig(path_plot, overwrite=True)\n",
    "\t\telse:\n",
    "\t\t\tpass\n",
    "\t\t#\tmore complicated choice with the fixed random seed\n",
    "\t\tnp.random.seed(int((nseed+1)+(mu*1e2)))\n",
    "\t\treturn np.random.choice(x, p=y/np.sum(y))\n",
    "\texcept:\n",
    "\t\t# print('Something goes wrong (add_noise function)')\n",
    "\t\treturn None"
   ]
  },
  {
   "cell_type": "code",
   "execution_count": 8,
   "metadata": {},
   "outputs": [
    {
     "name": "stdout",
     "output_type": "stream",
     "text": [
      "../5.result/kn_sim_cube_obs/lsst_ugrizy_30s_iter1_40Mpc\n",
      "../5.result/kn_sim_cube_obs/lsst_ugrizy_30s_iter1_80Mpc\n",
      "../5.result/kn_sim_cube_obs/lsst_ugrizy_30s_iter1_120Mpc\n",
      "../5.result/kn_sim_cube_obs/lsst_ugrizy_30s_iter1_160Mpc\n",
      "../5.result/kn_sim_cube_obs/lsst_ugrizy_30s_iter1_200Mpc\n"
     ]
    },
    {
     "name": "stderr",
     "output_type": "stream",
     "text": [
      "mkdir: ../5.result/kn_sim_cube_obs: File exists\n"
     ]
    }
   ],
   "source": [
    "path_result = \"../5.result/kn_sim_cube_obs\"\n",
    "if ~os.path.exists(path_result): os.system(f\"mkdir {path_result}\")\n",
    "\n",
    "aperfrac = calc_GaussianFraction(seeing=1.5, optfactor=0.6731, path_plot=None)\n",
    "niteration = int(1e0)\n",
    "ncores = 3\n",
    "\n",
    "tag = 'lsst'\n",
    "exptime = 30\n",
    "filterliststr = 'ugrizy'"
   ]
  },
  {
   "cell_type": "code",
   "execution_count": 9,
   "metadata": {},
   "outputs": [
    {
     "data": {
      "text/plain": [
       "['../3.table/kn_sim_cube_synphot/Run_TP_dyn_all_lanth_wind1_all_md0.001_vd0.05_mw0.001_vw0.05_angle0_synphot_lsst.ecsv',\n",
       " '../3.table/kn_sim_cube_synphot/Run_TP_dyn_all_lanth_wind1_all_md0.001_vd0.05_mw0.001_vw0.05_angle120_synphot_lsst.ecsv',\n",
       " '../3.table/kn_sim_cube_synphot/Run_TP_dyn_all_lanth_wind1_all_md0.001_vd0.05_mw0.001_vw0.05_angle150_synphot_lsst.ecsv',\n",
       " '../3.table/kn_sim_cube_synphot/Run_TP_dyn_all_lanth_wind1_all_md0.001_vd0.05_mw0.001_vw0.05_angle180_synphot_lsst.ecsv',\n",
       " '../3.table/kn_sim_cube_synphot/Run_TP_dyn_all_lanth_wind1_all_md0.001_vd0.05_mw0.001_vw0.05_angle30_synphot_lsst.ecsv']"
      ]
     },
     "execution_count": 9,
     "metadata": {},
     "output_type": "execute_result"
    }
   ],
   "source": [
    "knsplist = sorted(glob.glob(\"../3.table/kn_sim_cube_synphot/Run_*_synphot_lsst.ecsv\"))\n",
    "knsplist[:5]"
   ]
  },
  {
   "cell_type": "code",
   "execution_count": 10,
   "metadata": {},
   "outputs": [
    {
     "name": "stdout",
     "output_type": "stream",
     "text": [
      "40.0 Mpc\n",
      "Done (laps : 3.9 min)\n",
      "80.0 Mpc\n",
      "Done (laps : 8.2 min)\n",
      "120.0 Mpc\n",
      "Done (laps : 12.7 min)\n",
      "160.0 Mpc\n",
      "Done (laps : 17.1 min)\n",
      "200.0 Mpc\n",
      "Done (laps : 21.8 min)\n",
      "Time : 1310.865 sec\n"
     ]
    }
   ],
   "source": [
    "import test\n",
    "t0 = time.time()\n",
    "# knsplist0 = knsplist[:5]\n",
    "\n",
    "for d in np.arange(40, 200+40, 40)*u.Mpc:\n",
    "    print(d)\n",
    "    if __name__ == '__main__':\n",
    "        pool = multiprocessing.Pool(processes=ncores)  # 현재 시스템에서 사용 할 프로세스 개수\n",
    "        pool.starmap(test.run_table_routine4lsst, zip(knsplist, repeat(d), repeat(niteration), repeat(aperfrac), repeat(magoffset), repeat(lsstlam), repeat(lsstbdw)))\n",
    "\n",
    "        pool.close()\n",
    "        pool.join()\n",
    "\n",
    "    folder = f\"{path_result}/{tag}_{filterliststr}_{exptime}s_iter{niteration}_{int(d.value)}Mpc\"\n",
    "    os.system(f\"mkdir {folder}\")\n",
    "    mvcom = f\"mv {path_result}/Run*.ecsv {folder}\"\n",
    "    delt = time.time() - t0\n",
    "    print(f'Done (laps : {delt/60:1.1f} min)')\n",
    "\n",
    "\n",
    "delt = time.time() - t0\n",
    "print(f\"Time : {delt:1.3f} sec\")\n",
    "\n",
    "# run_table_routine(knsp, niteration, magoffset, dptbl, slam, sbdw)"
   ]
  }
 ],
 "metadata": {
  "kernelspec": {
   "display_name": "Python 3.10.6 ('kn')",
   "language": "python",
   "name": "python3"
  },
  "language_info": {
   "codemirror_mode": {
    "name": "ipython",
    "version": 3
   },
   "file_extension": ".py",
   "mimetype": "text/x-python",
   "name": "python",
   "nbconvert_exporter": "python",
   "pygments_lexer": "ipython3",
   "version": "3.10.6"
  },
  "orig_nbformat": 4,
  "vscode": {
   "interpreter": {
    "hash": "0fa65c9a91e45692839231d985ed151f2fe21fa37e863d955851b77a1cee7351"
   }
  }
 },
 "nbformat": 4,
 "nbformat_minor": 2
}
