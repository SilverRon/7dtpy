{
 "cells": [
  {
   "cell_type": "code",
   "execution_count": 1,
   "metadata": {},
   "outputs": [
    {
     "name": "stderr",
     "output_type": "stream",
     "text": [
      "WARNING: AstropyDeprecationWarning: The update_default_config function is deprecated and may be removed in a future version. [sncosmo]\n"
     ]
    }
   ],
   "source": [
    "import glob, os\n",
    "from astropy.io import ascii\n",
    "import matplotlib.pyplot as plt\n",
    "import numpy as np\n",
    "from astropy.table import Table, vstack\n",
    "import matplotlib as mpl\n",
    "from astropy import units as u\n",
    "import speclite.filters\n",
    "import time\n",
    "import sncosmo"
   ]
  },
  {
   "cell_type": "code",
   "execution_count": 2,
   "metadata": {},
   "outputs": [],
   "source": [
    "from IPython.core.interactiveshell import InteractiveShell\n",
    "InteractiveShell.ast_node_interactivity = \"last_expr\"\n",
    "\n",
    "mpl.rcParams[\"axes.titlesize\"] = 14\n",
    "mpl.rcParams[\"axes.labelsize\"] = 20\n",
    "plt.rcParams['savefig.dpi'] = 200\n",
    "plt.rc('font', family='serif')"
   ]
  },
  {
   "cell_type": "code",
   "execution_count": 4,
   "metadata": {},
   "outputs": [],
   "source": [
    "from scipy.optimize import curve_fit\n",
    "def func(x, a):\n",
    "\treturn a*x\n",
    "def calc_chisquare(obs, exp):\n",
    "\treturn np.sum((obs-exp)**2/exp)"
   ]
  },
  {
   "cell_type": "code",
   "execution_count": 8,
   "metadata": {},
   "outputs": [],
   "source": [
    "from helper import get_speclite_med\n",
    "meds = get_speclite_med()\n",
    "mlam = meds.effective_wavelengths"
   ]
  },
  {
   "cell_type": "code",
   "execution_count": 6,
   "metadata": {},
   "outputs": [
    {
     "data": {
      "text/html": [
       "<div><i>Table length=3</i>\n",
       "<table id=\"table4396102320\" class=\"table-striped table-bordered table-condensed\">\n",
       "<thead><tr><th>seed</th><th>t</th><th>magabs_m400</th><th>magapp_m400</th><th>snr_m400</th><th>magerr_m400</th><th>magobs_m400</th><th>fnu_m400</th><th>fnuobs_m400</th><th>fnuerr_m400</th><th>detection_m400</th><th>magabs_m425</th><th>magapp_m425</th><th>snr_m425</th><th>magerr_m425</th><th>magobs_m425</th><th>fnu_m425</th><th>fnuobs_m425</th><th>fnuerr_m425</th><th>detection_m425</th><th>magabs_m450</th><th>magapp_m450</th><th>snr_m450</th><th>magerr_m450</th><th>magobs_m450</th><th>fnu_m450</th><th>fnuobs_m450</th><th>fnuerr_m450</th><th>detection_m450</th><th>magabs_m475</th><th>magapp_m475</th><th>snr_m475</th><th>magerr_m475</th><th>magobs_m475</th><th>fnu_m475</th><th>fnuobs_m475</th><th>fnuerr_m475</th><th>detection_m475</th><th>magabs_m500</th><th>magapp_m500</th><th>snr_m500</th><th>magerr_m500</th><th>magobs_m500</th><th>fnu_m500</th><th>fnuobs_m500</th><th>fnuerr_m500</th><th>detection_m500</th><th>magabs_m525</th><th>magapp_m525</th><th>snr_m525</th><th>magerr_m525</th><th>magobs_m525</th><th>fnu_m525</th><th>fnuobs_m525</th><th>fnuerr_m525</th><th>detection_m525</th><th>magabs_m550</th><th>magapp_m550</th><th>snr_m550</th><th>magerr_m550</th><th>magobs_m550</th><th>fnu_m550</th><th>fnuobs_m550</th><th>fnuerr_m550</th><th>detection_m550</th><th>magabs_m575</th><th>magapp_m575</th><th>snr_m575</th><th>magerr_m575</th><th>magobs_m575</th><th>fnu_m575</th><th>fnuobs_m575</th><th>fnuerr_m575</th><th>detection_m575</th><th>magabs_m600</th><th>magapp_m600</th><th>snr_m600</th><th>magerr_m600</th><th>magobs_m600</th><th>fnu_m600</th><th>fnuobs_m600</th><th>fnuerr_m600</th><th>detection_m600</th><th>magabs_m625</th><th>magapp_m625</th><th>snr_m625</th><th>magerr_m625</th><th>magobs_m625</th><th>fnu_m625</th><th>fnuobs_m625</th><th>fnuerr_m625</th><th>detection_m625</th><th>magabs_m650</th><th>magapp_m650</th><th>snr_m650</th><th>magerr_m650</th><th>magobs_m650</th><th>fnu_m650</th><th>fnuobs_m650</th><th>fnuerr_m650</th><th>detection_m650</th><th>magabs_m675</th><th>magapp_m675</th><th>snr_m675</th><th>magerr_m675</th><th>magobs_m675</th><th>fnu_m675</th><th>fnuobs_m675</th><th>fnuerr_m675</th><th>detection_m675</th><th>magabs_m700</th><th>magapp_m700</th><th>snr_m700</th><th>magerr_m700</th><th>magobs_m700</th><th>fnu_m700</th><th>fnuobs_m700</th><th>fnuerr_m700</th><th>detection_m700</th><th>magabs_m725</th><th>magapp_m725</th><th>snr_m725</th><th>magerr_m725</th><th>magobs_m725</th><th>fnu_m725</th><th>fnuobs_m725</th><th>fnuerr_m725</th><th>detection_m725</th><th>magabs_m750</th><th>magapp_m750</th><th>snr_m750</th><th>magerr_m750</th><th>magobs_m750</th><th>fnu_m750</th><th>fnuobs_m750</th><th>fnuerr_m750</th><th>detection_m750</th><th>magabs_m775</th><th>magapp_m775</th><th>snr_m775</th><th>magerr_m775</th><th>magobs_m775</th><th>fnu_m775</th><th>fnuobs_m775</th><th>fnuerr_m775</th><th>detection_m775</th><th>magabs_m800</th><th>magapp_m800</th><th>snr_m800</th><th>magerr_m800</th><th>magobs_m800</th><th>fnu_m800</th><th>fnuobs_m800</th><th>fnuerr_m800</th><th>detection_m800</th><th>magabs_m825</th><th>magapp_m825</th><th>snr_m825</th><th>magerr_m825</th><th>magobs_m825</th><th>fnu_m825</th><th>fnuobs_m825</th><th>fnuerr_m825</th><th>detection_m825</th><th>magabs_m850</th><th>magapp_m850</th><th>snr_m850</th><th>magerr_m850</th><th>magobs_m850</th><th>fnu_m850</th><th>fnuobs_m850</th><th>fnuerr_m850</th><th>detection_m850</th><th>magabs_m875</th><th>magapp_m875</th><th>snr_m875</th><th>magerr_m875</th><th>magobs_m875</th><th>fnu_m875</th><th>fnuobs_m875</th><th>fnuerr_m875</th><th>detection_m875</th></tr></thead>\n",
       "<thead><tr><th></th><th>d</th><th>mag(AB)</th><th>mag(AB)</th><th>mag(AB)</th><th>mag(AB)</th><th>mag(AB)</th><th>uJy</th><th>uJy</th><th>uJy</th><th></th><th>mag(AB)</th><th>mag(AB)</th><th>mag(AB)</th><th>mag(AB)</th><th>mag(AB)</th><th>uJy</th><th>uJy</th><th>uJy</th><th></th><th>mag(AB)</th><th>mag(AB)</th><th>mag(AB)</th><th>mag(AB)</th><th>mag(AB)</th><th>uJy</th><th>uJy</th><th>uJy</th><th></th><th>mag(AB)</th><th>mag(AB)</th><th>mag(AB)</th><th>mag(AB)</th><th>mag(AB)</th><th>uJy</th><th>uJy</th><th>uJy</th><th></th><th>mag(AB)</th><th>mag(AB)</th><th>mag(AB)</th><th>mag(AB)</th><th>mag(AB)</th><th>uJy</th><th>uJy</th><th>uJy</th><th></th><th>mag(AB)</th><th>mag(AB)</th><th>mag(AB)</th><th>mag(AB)</th><th>mag(AB)</th><th>uJy</th><th>uJy</th><th>uJy</th><th></th><th>mag(AB)</th><th>mag(AB)</th><th>mag(AB)</th><th>mag(AB)</th><th>mag(AB)</th><th>uJy</th><th>uJy</th><th>uJy</th><th></th><th>mag(AB)</th><th>mag(AB)</th><th>mag(AB)</th><th>mag(AB)</th><th>mag(AB)</th><th>uJy</th><th>uJy</th><th>uJy</th><th></th><th>mag(AB)</th><th>mag(AB)</th><th>mag(AB)</th><th>mag(AB)</th><th>mag(AB)</th><th>uJy</th><th>uJy</th><th>uJy</th><th></th><th>mag(AB)</th><th>mag(AB)</th><th>mag(AB)</th><th>mag(AB)</th><th>mag(AB)</th><th>uJy</th><th>uJy</th><th>uJy</th><th></th><th>mag(AB)</th><th>mag(AB)</th><th>mag(AB)</th><th>mag(AB)</th><th>mag(AB)</th><th>uJy</th><th>uJy</th><th>uJy</th><th></th><th>mag(AB)</th><th>mag(AB)</th><th>mag(AB)</th><th>mag(AB)</th><th>mag(AB)</th><th>uJy</th><th>uJy</th><th>uJy</th><th></th><th>mag(AB)</th><th>mag(AB)</th><th>mag(AB)</th><th>mag(AB)</th><th>mag(AB)</th><th>uJy</th><th>uJy</th><th>uJy</th><th></th><th>mag(AB)</th><th>mag(AB)</th><th>mag(AB)</th><th>mag(AB)</th><th>mag(AB)</th><th>uJy</th><th>uJy</th><th>uJy</th><th></th><th>mag(AB)</th><th>mag(AB)</th><th>mag(AB)</th><th>mag(AB)</th><th>mag(AB)</th><th>uJy</th><th>uJy</th><th>uJy</th><th></th><th>mag(AB)</th><th>mag(AB)</th><th>mag(AB)</th><th>mag(AB)</th><th>mag(AB)</th><th>uJy</th><th>uJy</th><th>uJy</th><th></th><th>mag(AB)</th><th>mag(AB)</th><th>mag(AB)</th><th>mag(AB)</th><th>mag(AB)</th><th>uJy</th><th>uJy</th><th>uJy</th><th></th><th>mag(AB)</th><th>mag(AB)</th><th>mag(AB)</th><th>mag(AB)</th><th>mag(AB)</th><th>uJy</th><th>uJy</th><th>uJy</th><th></th><th>mag(AB)</th><th>mag(AB)</th><th>mag(AB)</th><th>mag(AB)</th><th>mag(AB)</th><th>uJy</th><th>uJy</th><th>uJy</th><th></th><th>mag(AB)</th><th>mag(AB)</th><th>mag(AB)</th><th>mag(AB)</th><th>mag(AB)</th><th>uJy</th><th>uJy</th><th>uJy</th><th></th></tr></thead>\n",
       "<thead><tr><th>int64</th><th>float64</th><th>float64</th><th>float64</th><th>float64</th><th>float64</th><th>float64</th><th>float64</th><th>float64</th><th>float64</th><th>bool</th><th>float64</th><th>float64</th><th>float64</th><th>float64</th><th>float64</th><th>float64</th><th>float64</th><th>float64</th><th>bool</th><th>float64</th><th>float64</th><th>float64</th><th>float64</th><th>float64</th><th>float64</th><th>float64</th><th>float64</th><th>bool</th><th>float64</th><th>float64</th><th>float64</th><th>float64</th><th>float64</th><th>float64</th><th>float64</th><th>float64</th><th>bool</th><th>float64</th><th>float64</th><th>float64</th><th>float64</th><th>float64</th><th>float64</th><th>float64</th><th>float64</th><th>bool</th><th>float64</th><th>float64</th><th>float64</th><th>float64</th><th>float64</th><th>float64</th><th>float64</th><th>float64</th><th>bool</th><th>float64</th><th>float64</th><th>float64</th><th>float64</th><th>float64</th><th>float64</th><th>float64</th><th>float64</th><th>bool</th><th>float64</th><th>float64</th><th>float64</th><th>float64</th><th>float64</th><th>float64</th><th>float64</th><th>float64</th><th>bool</th><th>float64</th><th>float64</th><th>float64</th><th>float64</th><th>float64</th><th>float64</th><th>float64</th><th>float64</th><th>bool</th><th>float64</th><th>float64</th><th>float64</th><th>float64</th><th>float64</th><th>float64</th><th>float64</th><th>float64</th><th>bool</th><th>float64</th><th>float64</th><th>float64</th><th>float64</th><th>float64</th><th>float64</th><th>float64</th><th>float64</th><th>bool</th><th>float64</th><th>float64</th><th>float64</th><th>float64</th><th>float64</th><th>float64</th><th>float64</th><th>float64</th><th>bool</th><th>float64</th><th>float64</th><th>float64</th><th>float64</th><th>float64</th><th>float64</th><th>float64</th><th>float64</th><th>bool</th><th>float64</th><th>float64</th><th>float64</th><th>float64</th><th>float64</th><th>float64</th><th>float64</th><th>float64</th><th>bool</th><th>float64</th><th>float64</th><th>float64</th><th>float64</th><th>float64</th><th>float64</th><th>float64</th><th>float64</th><th>bool</th><th>float64</th><th>float64</th><th>float64</th><th>float64</th><th>float64</th><th>float64</th><th>float64</th><th>float64</th><th>bool</th><th>float64</th><th>float64</th><th>float64</th><th>float64</th><th>float64</th><th>float64</th><th>float64</th><th>float64</th><th>bool</th><th>float64</th><th>float64</th><th>float64</th><th>float64</th><th>float64</th><th>float64</th><th>float64</th><th>float64</th><th>bool</th><th>float64</th><th>float64</th><th>float64</th><th>float64</th><th>float64</th><th>float64</th><th>float64</th><th>float64</th><th>bool</th><th>float64</th><th>float64</th><th>float64</th><th>float64</th><th>float64</th><th>float64</th><th>float64</th><th>float64</th><th>bool</th></tr></thead>\n",
       "<tr><td>0</td><td>0.125</td><td>-10.062</td><td>22.948</td><td>0.935</td><td>0.790</td><td>22.939</td><td>2.402</td><td>2.423</td><td>2.569</td><td>False</td><td>-9.992</td><td>23.019</td><td>0.957</td><td>0.777</td><td>22.923</td><td>2.252</td><td>2.459</td><td>2.353</td><td>False</td><td>-9.691</td><td>23.319</td><td>0.849</td><td>0.845</td><td>23.309</td><td>1.707</td><td>1.723</td><td>2.012</td><td>False</td><td>-9.780</td><td>23.230</td><td>0.895</td><td>0.814</td><td>23.055</td><td>1.853</td><td>2.178</td><td>2.070</td><td>False</td><td>-9.968</td><td>23.043</td><td>0.984</td><td>0.761</td><td>23.483</td><td>2.203</td><td>1.469</td><td>2.238</td><td>False</td><td>-10.435</td><td>22.575</td><td>1.193</td><td>0.661</td><td>22.886</td><td>3.389</td><td>2.544</td><td>2.841</td><td>False</td><td>-10.570</td><td>22.441</td><td>1.163</td><td>0.674</td><td>22.263</td><td>3.835</td><td>4.515</td><td>3.297</td><td>False</td><td>-10.446</td><td>22.564</td><td>1.107</td><td>0.699</td><td>22.896</td><td>3.422</td><td>2.522</td><td>3.090</td><td>False</td><td>-10.506</td><td>22.504</td><td>1.084</td><td>0.710</td><td>23.374</td><td>3.616</td><td>1.624</td><td>3.335</td><td>False</td><td>-10.503</td><td>22.507</td><td>0.990</td><td>0.758</td><td>23.436</td><td>3.606</td><td>1.533</td><td>3.642</td><td>False</td><td>-10.335</td><td>22.675</td><td>0.920</td><td>0.799</td><td>21.960</td><td>3.090</td><td>5.970</td><td>3.359</td><td>False</td><td>-10.378</td><td>22.632</td><td>0.899</td><td>0.812</td><td>21.622</td><td>3.214</td><td>8.149</td><td>3.576</td><td>False</td><td>-9.891</td><td>23.120</td><td>0.672</td><td>0.990</td><td>23.434</td><td>2.052</td><td>1.535</td><td>3.056</td><td>False</td><td>-9.964</td><td>23.047</td><td>0.600</td><td>1.065</td><td>23.662</td><td>2.195</td><td>1.245</td><td>3.657</td><td>False</td><td>-9.719</td><td>23.292</td><td>0.503</td><td>1.188</td><td>24.967</td><td>1.751</td><td>0.374</td><td>3.481</td><td>False</td><td>-10.033</td><td>22.977</td><td>0.482</td><td>1.219</td><td>22.394</td><td>2.340</td><td>4.002</td><td>4.852</td><td>False</td><td>-10.492</td><td>22.518</td><td>0.554</td><td>1.120</td><td>21.814</td><td>3.570</td><td>6.831</td><td>6.447</td><td>False</td><td>-10.391</td><td>22.620</td><td>0.475</td><td>1.230</td><td>23.511</td><td>3.252</td><td>1.430</td><td>6.845</td><td>False</td><td>-10.372</td><td>22.639</td><td>0.422</td><td>1.319</td><td>20.997</td><td>3.195</td><td>14.491</td><td>7.577</td><td>False</td><td>-10.541</td><td>22.469</td><td>0.390</td><td>1.380</td><td>24.353</td><td>3.735</td><td>0.659</td><td>9.580</td><td>False</td></tr>\n",
       "<tr><td>0</td><td>0.136</td><td>-10.722</td><td>22.288</td><td>1.267</td><td>0.632</td><td>22.528</td><td>4.412</td><td>3.537</td><td>3.481</td><td>False</td><td>-10.687</td><td>22.323</td><td>1.318</td><td>0.613</td><td>22.869</td><td>4.272</td><td>2.585</td><td>3.241</td><td>False</td><td>-10.604</td><td>22.406</td><td>1.292</td><td>0.622</td><td>22.191</td><td>3.958</td><td>4.826</td><td>3.063</td><td>False</td><td>-10.632</td><td>22.378</td><td>1.325</td><td>0.610</td><td>22.138</td><td>4.062</td><td>5.069</td><td>3.065</td><td>False</td><td>-10.644</td><td>22.367</td><td>1.343</td><td>0.604</td><td>21.169</td><td>4.105</td><td>12.372</td><td>3.055</td><td>False</td><td>-10.879</td><td>22.131</td><td>1.463</td><td>0.566</td><td>22.284</td><td>5.098</td><td>4.429</td><td>3.485</td><td>False</td><td>-10.968</td><td>22.042</td><td>1.398</td><td>0.586</td><td>21.393</td><td>5.535</td><td>10.061</td><td>3.961</td><td>False</td><td>-10.888</td><td>22.122</td><td>1.357</td><td>0.599</td><td>22.212</td><td>5.141</td><td>4.733</td><td>3.787</td><td>False</td><td>-10.860</td><td>22.150</td><td>1.277</td><td>0.628</td><td>21.082</td><td>5.012</td><td>13.400</td><td>3.926</td><td>False</td><td>-10.859</td><td>22.151</td><td>1.167</td><td>0.672</td><td>21.008</td><td>5.007</td><td>14.342</td><td>4.292</td><td>False</td><td>-10.709</td><td>22.302</td><td>1.093</td><td>0.706</td><td>22.419</td><td>4.359</td><td>3.913</td><td>3.989</td><td>False</td><td>-10.797</td><td>22.213</td><td>1.090</td><td>0.707</td><td>22.640</td><td>4.729</td><td>3.192</td><td>4.337</td><td>False</td><td>-10.583</td><td>22.428</td><td>0.923</td><td>0.797</td><td>22.880</td><td>3.881</td><td>2.558</td><td>4.202</td><td>False</td><td>-10.554</td><td>22.456</td><td>0.788</td><td>0.890</td><td>22.221</td><td>3.781</td><td>4.694</td><td>4.800</td><td>False</td><td>-10.384</td><td>22.627</td><td>0.683</td><td>0.979</td><td>23.280</td><td>3.231</td><td>1.769</td><td>4.729</td><td>False</td><td>-10.490</td><td>22.520</td><td>0.595</td><td>1.070</td><td>21.231</td><td>3.564</td><td>11.680</td><td>5.988</td><td>False</td><td>-10.939</td><td>22.071</td><td>0.680</td><td>0.982</td><td>21.952</td><td>5.389</td><td>6.017</td><td>7.921</td><td>False</td><td>-10.736</td><td>22.275</td><td>0.557</td><td>1.116</td><td>24.389</td><td>4.468</td><td>0.637</td><td>8.023</td><td>False</td><td>-10.864</td><td>22.146</td><td>0.529</td><td>1.152</td><td>21.533</td><td>5.030</td><td>8.846</td><td>9.506</td><td>False</td><td>-10.943</td><td>22.067</td><td>0.469</td><td>1.239</td><td>18.577</td><td>5.409</td><td>134.617</td><td>11.529</td><td>False</td></tr>\n",
       "<tr><td>0</td><td>0.149</td><td>-11.027</td><td>21.984</td><td>1.458</td><td>0.567</td><td>21.303</td><td>5.842</td><td>10.932</td><td>4.006</td><td>False</td><td>-11.007</td><td>22.003</td><td>1.527</td><td>0.547</td><td>22.283</td><td>5.737</td><td>4.435</td><td>3.756</td><td>False</td><td>-10.990</td><td>22.020</td><td>1.543</td><td>0.542</td><td>21.508</td><td>5.649</td><td>9.052</td><td>3.660</td><td>False</td><td>-11.005</td><td>22.006</td><td>1.573</td><td>0.534</td><td>22.279</td><td>5.724</td><td>4.452</td><td>3.638</td><td>False</td><td>-10.963</td><td>22.048</td><td>1.556</td><td>0.539</td><td>21.451</td><td>5.507</td><td>9.539</td><td>3.539</td><td>False</td><td>-11.021</td><td>21.989</td><td>1.562</td><td>0.537</td><td>21.344</td><td>5.814</td><td>10.527</td><td>3.721</td><td>False</td><td>-11.125</td><td>21.886</td><td>1.502</td><td>0.554</td><td>22.059</td><td>6.393</td><td>5.449</td><td>4.257</td><td>False</td><td>-11.004</td><td>22.007</td><td>1.432</td><td>0.575</td><td>22.301</td><td>5.719</td><td>4.363</td><td>3.995</td><td>False</td><td>-10.976</td><td>22.034</td><td>1.346</td><td>0.603</td><td>21.140</td><td>5.575</td><td>12.706</td><td>4.141</td><td>False</td><td>-11.008</td><td>22.002</td><td>1.250</td><td>0.638</td><td>22.328</td><td>5.744</td><td>4.254</td><td>4.597</td><td>False</td><td>-10.866</td><td>22.144</td><td>1.175</td><td>0.669</td><td>21.789</td><td>5.037</td><td>6.990</td><td>4.288</td><td>False</td><td>-10.977</td><td>22.034</td><td>1.184</td><td>0.665</td><td>21.048</td><td>5.579</td><td>13.831</td><td>4.711</td><td>False</td><td>-10.839</td><td>22.171</td><td>1.039</td><td>0.732</td><td>20.510</td><td>4.915</td><td>22.702</td><td>4.729</td><td>False</td><td>-10.787</td><td>22.224</td><td>0.877</td><td>0.826</td><td>22.497</td><td>4.683</td><td>3.640</td><td>5.342</td><td>False</td><td>-10.671</td><td>22.339</td><td>0.780</td><td>0.896</td><td>22.313</td><td>4.210</td><td>4.312</td><td>5.398</td><td>False</td><td>-10.734</td><td>22.277</td><td>0.666</td><td>0.996</td><td>24.162</td><td>4.461</td><td>0.785</td><td>6.699</td><td>False</td><td>-11.182</td><td>21.829</td><td>0.761</td><td>0.911</td><td>20.629</td><td>6.739</td><td>20.351</td><td>8.858</td><td>False</td><td>-10.983</td><td>22.027</td><td>0.624</td><td>1.038</td><td>21.047</td><td>5.611</td><td>13.842</td><td>8.992</td><td>False</td><td>-11.021</td><td>21.990</td><td>0.569</td><td>1.102</td><td>20.668</td><td>5.809</td><td>19.632</td><td>10.217</td><td>False</td><td>-11.101</td><td>21.909</td><td>0.505</td><td>1.186</td><td>22.252</td><td>6.256</td><td>4.562</td><td>12.398</td><td>False</td></tr>\n",
       "</table></div>"
      ],
      "text/plain": [
       "<Table length=3>\n",
       " seed    t    magabs_m400 magapp_m400 ... fnuobs_m875 fnuerr_m875 detection_m875\n",
       "         d      mag(AB)     mag(AB)   ...     uJy         uJy                   \n",
       "int64 float64   float64     float64   ...   float64     float64        bool     \n",
       "----- ------- ----------- ----------- ... ----------- ----------- --------------\n",
       "    0   0.125     -10.062      22.948 ...       0.659       9.580          False\n",
       "    0   0.136     -10.722      22.288 ...     134.617      11.529          False\n",
       "    0   0.149     -11.027      21.984 ...       4.562      12.398          False"
      ]
     },
     "execution_count": 6,
     "metadata": {},
     "output_type": "execute_result"
    }
   ],
   "source": [
    "intbl = ascii.read(f\"../5.result/kn_sim_cube_obs/7dt_med_180s_iter1_40Mpc/Run_TP_dyn_all_lanth_wind1_all_md0.001_vd0.05_mw0.001_vw0.05_angle0_synphot_med_obs_d40_iter1.7dtmed.ecsv\")\n",
    "intbl[:3]"
   ]
  },
  {
   "cell_type": "code",
   "execution_count": 17,
   "metadata": {},
   "outputs": [],
   "source": [
    "t = 0.125\n",
    "\n",
    "mfilterlist = [f\"m{lam}\" for lam in np.arange(400, 875+25, 25)]\n",
    "yobs = np.array([intbl[f\"fnuobs_{filte}\"][(intbl['t']==t)].item() for filte in mfilterlist])\n",
    "yobserr = np.array([intbl[f\"fnuerr_{filte}\"][(intbl['t']==t)].item() for filte in mfilterlist])"
   ]
  },
  {
   "cell_type": "code",
   "execution_count": 50,
   "metadata": {},
   "outputs": [],
   "source": [
    "t_sn = 0.0\n",
    "\n",
    "sntbl = ascii.read(\"../3.table/sn_sim_sncosmo_synphot/hsiao_v3.0_type_Ia_sn_z0.0001_synphot_med.ecsv\")\n",
    "\n",
    "xsim = np.array([sntbl[filte][sntbl['t']==t_sn].to(u.uJy).value.item() for filte in mfilterlist])\n"
   ]
  },
  {
   "cell_type": "code",
   "execution_count": 83,
   "metadata": {},
   "outputs": [
    {
     "name": "stdout",
     "output_type": "stream",
     "text": [
      "0.068 +/- 0.014ms\n"
     ]
    }
   ],
   "source": [
    "niter = int(1e4)\n",
    "deltlist = []\n",
    "for ii in range(niter):\n",
    "\tt0 = time.time()\n",
    "\tpopt, pcov = curve_fit(\n",
    "\t\tf=func,\n",
    "\t\txdata=xsim,\n",
    "\t\tydata=yobs,\n",
    "\t\tsigma=yobserr,\n",
    "\t\tabsolute_sigma=True,\n",
    "\t\tcheck_finite=True,\n",
    "\t)\n",
    "\tdelt = time.time()-t0\n",
    "\t# print(f\"{delt:1.10f} sec\")\n",
    "\tdeltlist.append(delt)\n",
    "\n",
    "print(f\"{np.median(deltlist)*1e3:1.3f} +/- {np.std(deltlist)*1e3:1.3f}ms\")"
   ]
  },
  {
   "cell_type": "code",
   "execution_count": 84,
   "metadata": {},
   "outputs": [
    {
     "data": {
      "text/plain": [
       "3.8588221806011944e-08"
      ]
     },
     "execution_count": 84,
     "metadata": {},
     "output_type": "execute_result"
    }
   ],
   "source": [
    "p0 = np.median(yobs)/np.median(xsim)\n",
    "p0"
   ]
  },
  {
   "cell_type": "code",
   "execution_count": 87,
   "metadata": {},
   "outputs": [
    {
     "name": "stdout",
     "output_type": "stream",
     "text": [
      "0.050 +/- 0.018ms\n"
     ]
    }
   ],
   "source": [
    "deltlist = []\n",
    "for ii in range(niter):\n",
    "\n",
    "\tt0 = time.time()\n",
    "\tpopt, pcov = curve_fit(\n",
    "\t\tf=func,\n",
    "\t\txdata=xsim,\n",
    "\t\tydata=yobs,\n",
    "\t\tp0=p0,\n",
    "\t\tsigma=yobserr,\n",
    "\t\tabsolute_sigma=True,\n",
    "\t\tcheck_finite=True,\n",
    "\t)\n",
    "\tdelt = time.time()-t0\n",
    "\t# print(f\"{delt:1.10f} sec\")\n",
    "\tdeltlist.append(delt)\n",
    "\n",
    "print(f\"{np.median(deltlist)*1e3:1.3f} +/- {np.std(deltlist)*1e3:1.3f}ms\")"
   ]
  },
  {
   "cell_type": "code",
   "execution_count": 82,
   "metadata": {},
   "outputs": [
    {
     "data": {
      "text/plain": [
       "array([3.81250886e-08])"
      ]
     },
     "execution_count": 82,
     "metadata": {},
     "output_type": "execute_result"
    }
   ],
   "source": [
    "popt"
   ]
  },
  {
   "cell_type": "code",
   "execution_count": 81,
   "metadata": {},
   "outputs": [
    {
     "data": {
      "text/plain": [
       "'x1.408'"
      ]
     },
     "execution_count": 81,
     "metadata": {},
     "output_type": "execute_result"
    }
   ],
   "source": [
    "f\"x{0.069/0.049:1.3f}\""
   ]
  }
 ],
 "metadata": {
  "kernelspec": {
   "display_name": "Python 3.10.6 ('kn')",
   "language": "python",
   "name": "python3"
  },
  "language_info": {
   "codemirror_mode": {
    "name": "ipython",
    "version": 3
   },
   "file_extension": ".py",
   "mimetype": "text/x-python",
   "name": "python",
   "nbconvert_exporter": "python",
   "pygments_lexer": "ipython3",
   "version": "3.10.6"
  },
  "orig_nbformat": 4,
  "vscode": {
   "interpreter": {
    "hash": "0fa65c9a91e45692839231d985ed151f2fe21fa37e863d955851b77a1cee7351"
   }
  }
 },
 "nbformat": 4,
 "nbformat_minor": 2
}
