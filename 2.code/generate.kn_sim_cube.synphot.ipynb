{
 "cells": [
  {
   "cell_type": "markdown",
   "metadata": {},
   "source": [
    "# Generate the master syn.phot table\n",
    "- Gregory S.H. Paek\n",
    "- 22.09.28\n",
    "- 22.11.09\n",
    "- Tables contain the syn.phot information for transients' spectrum\n",
    "\t- m400, ..., m875\n",
    "\t- ugriz\n",
    "\t- BVRI\n"
   ]
  },
  {
   "cell_type": "code",
   "execution_count": 179,
   "metadata": {},
   "outputs": [],
   "source": [
    "import numpy as np\n",
    "import bisect\n",
    "import matplotlib.pyplot as plt\n",
    "#\tastropy\n",
    "from astropy.io import ascii\n",
    "from astropy import units as u\n",
    "from astropy import constants as const\n",
    "from astropy.table import Table, vstack, hstack\n",
    "#\tspeclite\n",
    "import speclite.filters\n",
    "import speclite.redshift"
   ]
  },
  {
   "cell_type": "code",
   "execution_count": 180,
   "metadata": {},
   "outputs": [],
   "source": [
    "import matplotlib as mpl\n",
    "from IPython.core.interactiveshell import InteractiveShell\n",
    "InteractiveShell.ast_node_interactivity = \"last_expr\"\n",
    "\n",
    "mpl.rcParams[\"axes.titlesize\"] = 14\n",
    "mpl.rcParams[\"axes.labelsize\"] = 20\n",
    "plt.rcParams['savefig.dpi'] = 200\n",
    "plt.rc('font', family='serif')"
   ]
  },
  {
   "cell_type": "code",
   "execution_count": 181,
   "metadata": {},
   "outputs": [],
   "source": [
    "from helper import makeSpecColors\n",
    "from helper import convert_flam2fnu\n",
    "from helper import get_wollaeger\n",
    "kncbtbl = get_wollaeger()\n",
    "from helper import get_bandwidth_table\n",
    "bdwtbl = get_bandwidth_table()\n",
    "#\tspeclite\n",
    "from helper import get_speclite_med\n",
    "meds = get_speclite_med()\n",
    "mlam = meds.effective_wavelengths\n",
    "mbdw = bdwtbl['bandwidth'][bdwtbl['group']=='Med']*u.Angstrom\n",
    "medfilterlist = bdwtbl['filter'][bdwtbl['group']=='Med']\n",
    "\n",
    "from helper import get_speclite_sdss\n",
    "sdss = get_speclite_sdss()\n",
    "slam = sdss.effective_wavelengths\n",
    "sbdw = bdwtbl['bandwidth'][bdwtbl['group']=='SDSS']*u.Angstrom\n",
    "sdssfilterlist = bdwtbl['filter'][bdwtbl['group']=='SDSS']\n",
    "\n",
    "from helper import get_speclite_jc\n",
    "jc = get_speclite_jc()\n",
    "jclam = jc.effective_wavelengths\n",
    "jcbdw = bdwtbl['bandwidth'][bdwtbl['group']=='Johnson Cousin']*u.Angstrom\n",
    "jcfilterlist = bdwtbl['filter'][bdwtbl['group']=='Johnson Cousin']\n",
    "\n",
    "from helper import get_speclite_lsst\n",
    "lsst = get_speclite_lsst()\n",
    "lsstlam = lsst.effective_wavelengths\n",
    "from helper import get_lsst_bandwidth\n",
    "lsstbdw = get_lsst_bandwidth()\n",
    "lsstfilterlist = np.array(['u', 'g', 'r', 'i', 'z', 'y'])"
   ]
  },
  {
   "cell_type": "code",
   "execution_count": 182,
   "metadata": {},
   "outputs": [],
   "source": [
    "xl, xr = 3000, 10000 # [A]"
   ]
  },
  {
   "cell_type": "code",
   "execution_count": 183,
   "metadata": {},
   "outputs": [
    {
     "data": {
      "text/html": [
       "<div><i>Table length=3</i>\n",
       "<table id=\"table5784418480\" class=\"table-striped table-bordered table-condensed\">\n",
       "<thead><tr><th>number</th><th>model</th><th>shape</th><th>latitude</th><th>md</th><th>vd</th><th>mw</th><th>vw</th><th>type</th></tr></thead>\n",
       "<thead><tr><th>int64</th><th>bytes81</th><th>bytes9</th><th>bytes5</th><th>float64</th><th>float64</th><th>float64</th><th>float64</th><th>bytes4</th></tr></thead>\n",
       "<tr><td>0</td><td>Run_TP_dyn_all_lanth_wind1_all_md0.001_vd0.05_mw0.001_vw0.05_spec_2020-03-19.fits</td><td>toroidal</td><td>Axial</td><td>0.001</td><td>0.05</td><td>0.001</td><td>0.05</td><td>spec</td></tr>\n",
       "<tr><td>1</td><td>Run_TP_dyn_all_lanth_wind1_all_md0.001_vd0.05_mw0.001_vw0.15_spec_2020-05-24.fits</td><td>toroidal</td><td>Axial</td><td>0.001</td><td>0.05</td><td>0.001</td><td>0.15</td><td>spec</td></tr>\n",
       "<tr><td>2</td><td>Run_TP_dyn_all_lanth_wind1_all_md0.001_vd0.05_mw0.001_vw0.3_spec_2020-03-10.fits</td><td>toroidal</td><td>Axial</td><td>0.001</td><td>0.05</td><td>0.001</td><td>0.3</td><td>spec</td></tr>\n",
       "</table></div>"
      ],
      "text/plain": [
       "<Table length=3>\n",
       "number ...  type \n",
       "int64  ... bytes4\n",
       "------ ... ------\n",
       "     0 ...   spec\n",
       "     1 ...   spec\n",
       "     2 ...   spec"
      ]
     },
     "execution_count": 183,
     "metadata": {},
     "output_type": "execute_result"
    }
   ],
   "source": [
    "#\tKilonova Cube Table\n",
    "kncbtbl[:3]"
   ]
  },
  {
   "cell_type": "markdown",
   "metadata": {},
   "source": [
    "- select the kilonova model"
   ]
  },
  {
   "cell_type": "code",
   "execution_count": 184,
   "metadata": {},
   "outputs": [
    {
     "data": {
      "text/html": [
       "<div><i>Table length=5</i>\n",
       "<table id=\"table5480864672\" class=\"table-striped table-bordered table-condensed\">\n",
       "<thead><tr><th>col1</th><th>col2</th><th>col3</th><th>col4</th><th>col5</th><th>col6</th><th>col7</th><th>col8</th><th>col9</th><th>col10</th><th>col11</th><th>col12</th><th>col13</th><th>col14</th><th>col15</th><th>col16</th><th>col17</th><th>col18</th><th>col19</th><th>col20</th><th>col21</th><th>col22</th><th>col23</th><th>col24</th><th>col25</th><th>col26</th><th>col27</th><th>col28</th><th>col29</th><th>col30</th><th>col31</th><th>col32</th><th>col33</th><th>col34</th><th>col35</th><th>col36</th><th>col37</th><th>col38</th><th>col39</th><th>col40</th><th>col41</th><th>col42</th><th>col43</th><th>col44</th><th>col45</th><th>col46</th><th>col47</th><th>col48</th><th>col49</th><th>col50</th><th>col51</th><th>col52</th><th>col53</th><th>col54</th><th>col55</th><th>col56</th><th>lam</th></tr></thead>\n",
       "<thead><tr><th>float64</th><th>float64</th><th>float64</th><th>float64</th><th>float64</th><th>float64</th><th>float64</th><th>float64</th><th>float64</th><th>float64</th><th>float64</th><th>float64</th><th>float64</th><th>float64</th><th>float64</th><th>float64</th><th>float64</th><th>float64</th><th>float64</th><th>float64</th><th>float64</th><th>float64</th><th>float64</th><th>float64</th><th>float64</th><th>float64</th><th>float64</th><th>float64</th><th>float64</th><th>float64</th><th>float64</th><th>float64</th><th>float64</th><th>float64</th><th>float64</th><th>float64</th><th>float64</th><th>float64</th><th>float64</th><th>float64</th><th>float64</th><th>float64</th><th>float64</th><th>float64</th><th>float64</th><th>float64</th><th>float64</th><th>float64</th><th>float64</th><th>float64</th><th>float64</th><th>float64</th><th>float64</th><th>float64</th><th>float64</th><th>float64</th><th>float64</th></tr></thead>\n",
       "<tr><td>1e-05</td><td>1.0047e-05</td><td>0.00010256</td><td>0.000101585</td><td>9.9135e-05</td><td>9.46562e-05</td><td>8.98205e-05</td><td>8.69291e-05</td><td>8.63167e-05</td><td>8.02315e-05</td><td>7.88266e-05</td><td>7.35116e-05</td><td>7.13724e-05</td><td>6.79792e-05</td><td>6.46325e-05</td><td>6.12394e-05</td><td>6.22092e-05</td><td>5.79724e-05</td><td>5.62445e-05</td><td>5.34613e-05</td><td>5.06864e-05</td><td>4.67779e-05</td><td>4.84974e-05</td><td>4.75032e-05</td><td>4.29607e-05</td><td>4.61508e-05</td><td>4.39938e-05</td><td>4.38748e-05</td><td>4.45292e-05</td><td>4.31402e-05</td><td>4.42695e-05</td><td>4.6581e-05</td><td>4.7525e-05</td><td>4.89333e-05</td><td>4.76984e-05</td><td>5.42631e-05</td><td>5.41489e-05</td><td>5.81661e-05</td><td>6.12681e-05</td><td>6.22359e-05</td><td>6.66985e-05</td><td>7.31607e-05</td><td>7.33298e-05</td><td>8.10351e-05</td><td>8.09365e-05</td><td>8.47781e-05</td><td>9.07023e-05</td><td>9.48351e-05</td><td>0.000100745</td><td>0.000108601</td><td>0.00011159</td><td>0.000115585</td><td>0.000116081</td><td>0.000126272</td><td>0.000126636</td><td>0.000134352</td><td>1002.35</td></tr>\n",
       "<tr><td>1.0047e-05</td><td>1.0095e-05</td><td>5.28218e-06</td><td>5.73466e-06</td><td>5.36856e-06</td><td>5.57242e-06</td><td>4.66126e-06</td><td>4.55073e-06</td><td>4.35625e-06</td><td>3.82455e-06</td><td>4.33313e-06</td><td>4.12498e-06</td><td>4.46257e-06</td><td>4.75926e-06</td><td>4.76098e-06</td><td>4.89447e-06</td><td>4.27125e-06</td><td>4.92262e-06</td><td>4.86734e-06</td><td>4.95018e-06</td><td>4.54557e-06</td><td>5.20319e-06</td><td>4.65838e-06</td><td>4.80353e-06</td><td>4.35931e-06</td><td>4.11856e-06</td><td>4.61903e-06</td><td>4.10897e-06</td><td>4.84308e-06</td><td>4.31281e-06</td><td>4.16278e-06</td><td>4.32886e-06</td><td>5.21894e-06</td><td>4.79846e-06</td><td>4.02185e-06</td><td>3.95936e-06</td><td>4.56844e-06</td><td>4.43789e-06</td><td>4.84239e-06</td><td>4.38438e-06</td><td>4.62042e-06</td><td>4.70652e-06</td><td>4.05975e-06</td><td>4.62711e-06</td><td>4.53284e-06</td><td>3.54355e-06</td><td>4.20283e-06</td><td>3.85781e-06</td><td>4.23939e-06</td><td>4.66695e-06</td><td>5.11748e-06</td><td>5.03424e-06</td><td>5.22645e-06</td><td>5.26499e-06</td><td>5.31354e-06</td><td>5.51217e-06</td><td>1007.1</td></tr>\n",
       "<tr><td>1.0095e-05</td><td>1.0143e-05</td><td>5.68171e-06</td><td>6.00535e-06</td><td>5.76423e-06</td><td>5.13588e-06</td><td>5.45709e-06</td><td>5.40467e-06</td><td>5.09933e-06</td><td>4.8766e-06</td><td>4.29302e-06</td><td>4.8259e-06</td><td>4.35215e-06</td><td>4.34118e-06</td><td>4.69808e-06</td><td>4.51673e-06</td><td>4.87534e-06</td><td>5.02454e-06</td><td>4.28168e-06</td><td>4.25561e-06</td><td>4.46502e-06</td><td>4.48748e-06</td><td>4.33525e-06</td><td>4.34474e-06</td><td>4.40536e-06</td><td>3.88943e-06</td><td>4.25018e-06</td><td>3.96067e-06</td><td>3.87034e-06</td><td>4.13599e-06</td><td>3.89785e-06</td><td>4.52917e-06</td><td>3.43709e-06</td><td>4.45497e-06</td><td>3.95719e-06</td><td>4.14685e-06</td><td>3.89669e-06</td><td>4.45014e-06</td><td>4.183e-06</td><td>4.58354e-06</td><td>5.52662e-06</td><td>4.33171e-06</td><td>5.31888e-06</td><td>3.93982e-06</td><td>4.29983e-06</td><td>4.88932e-06</td><td>4.71703e-06</td><td>4.39679e-06</td><td>4.92096e-06</td><td>5.3859e-06</td><td>5.52855e-06</td><td>5.63539e-06</td><td>6.29636e-06</td><td>5.8366e-06</td><td>6.48582e-06</td><td>6.23448e-06</td><td>1011.8999999999999</td></tr>\n",
       "<tr><td>1.0143e-05</td><td>1.0191e-05</td><td>7.42547e-06</td><td>6.77337e-06</td><td>6.28805e-06</td><td>6.80327e-06</td><td>6.02362e-06</td><td>5.66615e-06</td><td>5.47925e-06</td><td>5.22189e-06</td><td>4.86947e-06</td><td>4.44316e-06</td><td>5.1253e-06</td><td>5.23829e-06</td><td>5.34105e-06</td><td>4.43748e-06</td><td>4.84375e-06</td><td>3.78838e-06</td><td>4.26152e-06</td><td>4.11598e-06</td><td>3.96635e-06</td><td>4.05318e-06</td><td>4.21133e-06</td><td>4.10965e-06</td><td>4.4523e-06</td><td>3.6048e-06</td><td>4.40931e-06</td><td>4.17248e-06</td><td>3.79943e-06</td><td>3.45154e-06</td><td>3.51532e-06</td><td>3.49874e-06</td><td>3.67555e-06</td><td>4.27289e-06</td><td>4.37201e-06</td><td>3.85552e-06</td><td>4.07497e-06</td><td>3.86321e-06</td><td>4.28625e-06</td><td>4.65889e-06</td><td>4.47484e-06</td><td>4.88204e-06</td><td>4.7766e-06</td><td>4.90515e-06</td><td>5.02166e-06</td><td>4.77279e-06</td><td>5.28095e-06</td><td>5.51054e-06</td><td>5.68241e-06</td><td>6.36458e-06</td><td>6.21407e-06</td><td>6.10488e-06</td><td>6.04264e-06</td><td>6.33165e-06</td><td>7.04701e-06</td><td>6.88077e-06</td><td>1016.6999999999999</td></tr>\n",
       "<tr><td>1.0191e-05</td><td>1.024e-05</td><td>6.98161e-06</td><td>6.93879e-06</td><td>6.66278e-06</td><td>6.30314e-06</td><td>6.1115e-06</td><td>5.78465e-06</td><td>5.61972e-06</td><td>5.13506e-06</td><td>5.93683e-06</td><td>5.58654e-06</td><td>5.20813e-06</td><td>5.42461e-06</td><td>4.9499e-06</td><td>4.4657e-06</td><td>4.30258e-06</td><td>3.96758e-06</td><td>4.13614e-06</td><td>4.25728e-06</td><td>4.49594e-06</td><td>4.49344e-06</td><td>3.63952e-06</td><td>3.70821e-06</td><td>3.77432e-06</td><td>3.43393e-06</td><td>3.40739e-06</td><td>2.90638e-06</td><td>3.37206e-06</td><td>3.68753e-06</td><td>3.66063e-06</td><td>3.48635e-06</td><td>3.00994e-06</td><td>3.54209e-06</td><td>3.69449e-06</td><td>3.91321e-06</td><td>3.82549e-06</td><td>4.22616e-06</td><td>3.74485e-06</td><td>4.73395e-06</td><td>4.03413e-06</td><td>4.62528e-06</td><td>4.36084e-06</td><td>5.3044e-06</td><td>5.56287e-06</td><td>5.27237e-06</td><td>6.20368e-06</td><td>5.38347e-06</td><td>6.1205e-06</td><td>6.54786e-06</td><td>6.24897e-06</td><td>6.42289e-06</td><td>6.39297e-06</td><td>7.46767e-06</td><td>7.64131e-06</td><td>7.41407e-06</td><td>1021.5500000000001</td></tr>\n",
       "</table></div>"
      ],
      "text/plain": [
       "<Table length=5>\n",
       "   col1       col2        col3    ...    col55       col56           lam        \n",
       " float64    float64     float64   ...   float64     float64        float64      \n",
       "---------- ---------- ----------- ... ----------- ----------- ------------------\n",
       "     1e-05 1.0047e-05  0.00010256 ... 0.000126636 0.000134352            1002.35\n",
       "1.0047e-05 1.0095e-05 5.28218e-06 ... 5.31354e-06 5.51217e-06             1007.1\n",
       "1.0095e-05 1.0143e-05 5.68171e-06 ... 6.48582e-06 6.23448e-06 1011.8999999999999\n",
       "1.0143e-05 1.0191e-05 7.42547e-06 ... 7.04701e-06 6.88077e-06 1016.6999999999999\n",
       "1.0191e-05  1.024e-05 6.98161e-06 ... 7.64131e-06 7.41407e-06 1021.5500000000001"
      ]
     },
     "execution_count": 184,
     "metadata": {},
     "output_type": "execute_result"
    }
   ],
   "source": [
    "kk = 0\n",
    "#\tSingle KN spectrum Table\n",
    "knsp = f\"../3.table/kn_sim_cube_lite/{kncbtbl['model'][kk]}\"\n",
    "knsp\n",
    "knsptbl = Table.read(knsp)\n",
    "knsptbl[:5]"
   ]
  },
  {
   "cell_type": "markdown",
   "metadata": {},
   "source": [
    "- select angle"
   ]
  },
  {
   "cell_type": "code",
   "execution_count": 185,
   "metadata": {},
   "outputs": [
    {
     "name": "stdout",
     "output_type": "stream",
     "text": [
      "Number of angles : 54\n"
     ]
    }
   ],
   "source": [
    "#\tAll angles\n",
    "angles =[f'col{n}' for n in np.arange(3, 56+1, 1)]\n",
    "magoffset = -2.5*np.log10(len(angles))\n",
    "anglesize = 180/len(angles)\n",
    "\n",
    "print(f\"Number of angles : {len(angles)}\")\n",
    "\n",
    "angledict = dict()\n",
    "\n",
    "\n",
    "for ii, (n, angle) in enumerate(zip(np.arange(3, 56+1, 1), np.linspace(0, 180, len(angles)))):\n",
    "\tangledict[f'col{n}'] = dict(\n",
    "\t\tangle = (2*ii+1)*anglesize/2,\n",
    "\t\tanglestart = ii*anglesize,\n",
    "\t\tangleend = (ii+1)*anglesize,\n",
    "\t)\n",
    "\n",
    "# angledict"
   ]
  },
  {
   "cell_type": "code",
   "execution_count": 186,
   "metadata": {},
   "outputs": [
    {
     "name": "stdout",
     "output_type": "stream",
     "text": [
      "0 col3 1.667\n",
      "1 col4 5.000\n",
      "2 col5 8.333\n",
      "3 col6 11.667\n",
      "4 col7 15.000\n",
      "5 col8 18.333\n",
      "6 col9 21.667\n",
      "7 col10 25.000\n",
      "8 col11 28.333\n",
      "9 col12 31.667\n",
      "10 col13 35.000\n",
      "11 col14 38.333\n",
      "12 col15 41.667\n",
      "13 col16 45.000\n",
      "14 col17 48.333\n",
      "15 col18 51.667\n",
      "16 col19 55.000\n",
      "17 col20 58.333\n",
      "18 col21 61.667\n",
      "19 col22 65.000\n",
      "20 col23 68.333\n",
      "21 col24 71.667\n",
      "22 col25 75.000\n",
      "23 col26 78.333\n",
      "24 col27 81.667\n",
      "25 col28 85.000\n",
      "26 col29 88.333\n",
      "27 col30 91.667\n",
      "28 col31 95.000\n",
      "29 col32 98.333\n",
      "30 col33 101.667\n",
      "31 col34 105.000\n",
      "32 col35 108.333\n",
      "33 col36 111.667\n",
      "34 col37 115.000\n",
      "35 col38 118.333\n",
      "36 col39 121.667\n",
      "37 col40 125.000\n",
      "38 col41 128.333\n",
      "39 col42 131.667\n",
      "40 col43 135.000\n",
      "41 col44 138.333\n",
      "42 col45 141.667\n",
      "43 col46 145.000\n",
      "44 col47 148.333\n",
      "45 col48 151.667\n",
      "46 col49 155.000\n",
      "47 col50 158.333\n",
      "48 col51 161.667\n",
      "49 col52 165.000\n",
      "50 col53 168.333\n",
      "51 col54 171.667\n",
      "52 col55 175.000\n",
      "53 col56 178.333\n"
     ]
    }
   ],
   "source": [
    "for kk, key in enumerate(angledict.keys()):\n",
    "\tangle = angledict[key]['angle']\n",
    "\tanglestart = angledict[key]['anglestart']\n",
    "\tangleend = angledict[key]['angleend']\n",
    "\t# print(kk, key, f\"{anglestart:1.3f}-{angleend:1.3f}\")\n",
    "\tprint(kk, key, f\"{angle:1.3f}\")"
   ]
  },
  {
   "cell_type": "code",
   "execution_count": 187,
   "metadata": {},
   "outputs": [],
   "source": [
    "#\tSelected angles\n",
    "# angles = ['col3', 'col11', 'col20', 'col29', 'col38', 'col47', 'col56']\n",
    "# nangles = np.arange(0, 180+30, 30)\n",
    "\n",
    "# aa = 0\n",
    "# angle = angles[aa]\n",
    "# nangle = nangles[aa]\n",
    "# angle, nangle"
   ]
  },
  {
   "cell_type": "markdown",
   "metadata": {},
   "source": [
    "- select distance"
   ]
  },
  {
   "cell_type": "code",
   "execution_count": 188,
   "metadata": {},
   "outputs": [
    {
     "name": "stdout",
     "output_type": "stream",
     "text": [
      "40 Mpc\n"
     ]
    }
   ],
   "source": [
    "darr = np.arange(10, 200+10, 10) # [Mpc]\n",
    "d = darr[3]\n",
    "print(f\"{d} Mpc\")"
   ]
  },
  {
   "cell_type": "markdown",
   "metadata": {},
   "source": [
    "- detailed varaible"
   ]
  },
  {
   "cell_type": "code",
   "execution_count": 189,
   "metadata": {},
   "outputs": [
    {
     "name": "stdout",
     "output_type": "stream",
     "text": [
      "Number of time grid : 39 (0.125-3.364d or 3.0-80.7h)\n"
     ]
    },
    {
     "data": {
      "text/plain": [
       "array([0.125, 0.136, 0.149, 0.162, 0.177, 0.193, 0.21 , 0.229, 0.25 ,\n",
       "       0.273, 0.297, 0.324, 0.354, 0.386, 0.42 , 0.459, 0.5  , 0.545,\n",
       "       0.595, 0.648, 0.707, 0.771, 0.841, 0.917, 1.   , 1.091, 1.189,\n",
       "       1.297, 1.414, 1.542, 1.682, 1.834, 2.   , 2.181, 2.378, 2.594,\n",
       "       2.828, 3.084, 3.364])"
      ]
     },
     "execution_count": 189,
     "metadata": {},
     "output_type": "execute_result"
    }
   ],
   "source": [
    "lam = np.unique(knsptbl['lam'])*u.Angstrom\n",
    "timestep = len(lam)\n",
    "ntime = int(len(knsptbl)/timestep)\n",
    "#\tTime grid from meta data\n",
    "times = np.array([float(knsptbl.meta['comments'][i].split('= ')[-1]) for i in range(len(knsptbl.meta['comments']))])\n",
    "times = times[:ntime]\n",
    "print(f'Number of time grid : {len(times)} ({times[0]}-{times[-1]}d or {times[0]*24:1.1f}-{times[-1]*24:1.1f}h)')\n",
    "times"
   ]
  },
  {
   "cell_type": "code",
   "execution_count": 190,
   "metadata": {},
   "outputs": [],
   "source": [
    "tt = 0\n",
    "anglecol = 'col3'\n",
    "t = times[tt]\n",
    "flam = knsptbl[anglecol][timestep*tt:timestep*(tt+1)]*(u.erg/u.second/u.Angstrom/(u.cm**2))\n",
    "fnu = convert_flam2fnu(flam, lam)\n",
    "abmag = fnu.to(u.ABmag)\n",
    "\n",
    "#\tMed speclite\n",
    "mmags = meds.get_ab_magnitudes(flam, lam)\n",
    "#\tSDSS speclite\n",
    "smags = sdss.get_ab_magnitudes(flam, lam)\n",
    "#\tJohnson-Cousin speclite\n",
    "jcmags = jc.get_ab_magnitudes(flam, lam)\n",
    "#\tLSST speclite\n",
    "lsstmags = lsst.get_ab_magnitudes(flam, lam)"
   ]
  },
  {
   "cell_type": "markdown",
   "metadata": {},
   "source": [
    "- Set the y-axis range"
   ]
  },
  {
   "cell_type": "code",
   "execution_count": 191,
   "metadata": {},
   "outputs": [],
   "source": [
    "mean_mag = np.mean(list(mmags.as_array().item()))\n",
    "yl, yu = mean_mag-1.0, mean_mag+1.0"
   ]
  },
  {
   "cell_type": "markdown",
   "metadata": {},
   "source": [
    "- Plot"
   ]
  },
  {
   "cell_type": "code",
   "execution_count": 192,
   "metadata": {},
   "outputs": [
    {
     "data": {
      "image/png": "[encoded data removed]",
      "text/plain": [
       "<Figure size 640x480 with 1 Axes>"
      ]
     },
     "metadata": {},
     "output_type": "display_data"
    }
   ],
   "source": [
    "plt.plot(lam, abmag, c='grey', lw=3, alpha=0.75)\n",
    "plt.errorbar(mlam, mmags.as_array().item(), xerr=mbdw/2, c='green', marker='.', mec='green', mfc='none', mew=3, ms=10, label=f'med ({len(mlam)})', ls='none')\n",
    "plt.errorbar(slam, smags.as_array().item(), xerr=sbdw/2, c='red', marker='o', mec='red', mfc='none', mew=3, ms=10, label='ugri', ls='none')\n",
    "plt.errorbar(jclam, jcmags.as_array().item(), xerr=jcbdw/2, c='purple', marker='s', mec='purple', mfc='none', mew=3, ms=10, label='BVRI', ls='none')\n",
    "plt.errorbar(lsstlam, lsstmags.as_array().item(), xerr=lsstbdw/2, c='orange', marker='s', mec='orange', mfc='none', mew=3, ms=10, label='LSST (ugrizy)', ls='none')\n",
    "\n",
    "plt.xlim([xl, xr])\n",
    "plt.ylim([yu, yl])\n",
    "plt.legend()\n",
    "\n",
    "plt.xlabel('Wavelength'+r' [$\\rm \\AA$]')\n",
    "plt.ylabel('Abs. mag [AB]')\n",
    "plt.tight_layout()"
   ]
  },
  {
   "cell_type": "markdown",
   "metadata": {},
   "source": [
    "- make result table"
   ]
  },
  {
   "cell_type": "code",
   "execution_count": 193,
   "metadata": {},
   "outputs": [
    {
     "data": {
      "text/html": [
       "<div><i>Table length=3</i>\n",
       "<table id=\"table5479974656\" class=\"table-striped table-bordered table-condensed\">\n",
       "<thead><tr><th>t</th><th>m400</th><th>m425</th><th>m450</th><th>m475</th><th>m500</th><th>m525</th><th>m550</th><th>m575</th><th>m600</th><th>m625</th><th>m650</th><th>m675</th><th>m700</th><th>m725</th><th>m750</th><th>m775</th><th>m800</th><th>m825</th><th>m850</th><th>m875</th></tr></thead>\n",
       "<thead><tr><th>d</th><th>mag(AB)</th><th>mag(AB)</th><th>mag(AB)</th><th>mag(AB)</th><th>mag(AB)</th><th>mag(AB)</th><th>mag(AB)</th><th>mag(AB)</th><th>mag(AB)</th><th>mag(AB)</th><th>mag(AB)</th><th>mag(AB)</th><th>mag(AB)</th><th>mag(AB)</th><th>mag(AB)</th><th>mag(AB)</th><th>mag(AB)</th><th>mag(AB)</th><th>mag(AB)</th><th>mag(AB)</th></tr></thead>\n",
       "<thead><tr><th>float64</th><th>float64</th><th>float64</th><th>float64</th><th>float64</th><th>float64</th><th>float64</th><th>float64</th><th>float64</th><th>float64</th><th>float64</th><th>float64</th><th>float64</th><th>float64</th><th>float64</th><th>float64</th><th>float64</th><th>float64</th><th>float64</th><th>float64</th><th>float64</th></tr></thead>\n",
       "<tr><td>0.125</td><td>0.000</td><td>0.000</td><td>0.000</td><td>0.000</td><td>0.000</td><td>0.000</td><td>0.000</td><td>0.000</td><td>0.000</td><td>0.000</td><td>0.000</td><td>0.000</td><td>0.000</td><td>0.000</td><td>0.000</td><td>0.000</td><td>0.000</td><td>0.000</td><td>0.000</td><td>0.000</td></tr>\n",
       "<tr><td>0.136</td><td>0.000</td><td>0.000</td><td>0.000</td><td>0.000</td><td>0.000</td><td>0.000</td><td>0.000</td><td>0.000</td><td>0.000</td><td>0.000</td><td>0.000</td><td>0.000</td><td>0.000</td><td>0.000</td><td>0.000</td><td>0.000</td><td>0.000</td><td>0.000</td><td>0.000</td><td>0.000</td></tr>\n",
       "<tr><td>0.149</td><td>0.000</td><td>0.000</td><td>0.000</td><td>0.000</td><td>0.000</td><td>0.000</td><td>0.000</td><td>0.000</td><td>0.000</td><td>0.000</td><td>0.000</td><td>0.000</td><td>0.000</td><td>0.000</td><td>0.000</td><td>0.000</td><td>0.000</td><td>0.000</td><td>0.000</td><td>0.000</td></tr>\n",
       "</table></div>"
      ],
      "text/plain": [
       "<Table length=3>\n",
       "   t      m400    m425    m450    m475  ...   m800    m825    m850    m875 \n",
       "   d    mag(AB) mag(AB) mag(AB) mag(AB) ... mag(AB) mag(AB) mag(AB) mag(AB)\n",
       "float64 float64 float64 float64 float64 ... float64 float64 float64 float64\n",
       "------- ------- ------- ------- ------- ... ------- ------- ------- -------\n",
       "  0.125   0.000   0.000   0.000   0.000 ...   0.000   0.000   0.000   0.000\n",
       "  0.136   0.000   0.000   0.000   0.000 ...   0.000   0.000   0.000   0.000\n",
       "  0.149   0.000   0.000   0.000   0.000 ...   0.000   0.000   0.000   0.000"
      ]
     },
     "execution_count": 193,
     "metadata": {},
     "output_type": "execute_result"
    }
   ],
   "source": [
    "phtbl = Table()\n",
    "phtbl['t'] = times*u.day\n",
    "for filte in bdwtbl['filter'][bdwtbl['group']=='Med']:\n",
    "\tphtbl[f\"{filte}\"] = 0.0\n",
    "\tphtbl[f\"{filte}\"].format = '1.3f'\n",
    "\tphtbl[f\"{filte}\"].unit = u.ABmag\n",
    "\t# phtbl[f\"fnu_{filte}\"] = 0.0\n",
    "\t# phtbl[f\"fnu_{filte}\"].format = '1.3f'\n",
    "\n",
    "phtbl[:3]"
   ]
  },
  {
   "cell_type": "code",
   "execution_count": 194,
   "metadata": {},
   "outputs": [
    {
     "data": {
      "text/html": [
       "<div><i>Table length=39</i>\n",
       "<table id=\"table5788420320\" class=\"table-striped table-bordered table-condensed\">\n",
       "<thead><tr><th>t</th><th>m400</th><th>m425</th><th>m450</th><th>m475</th><th>m500</th><th>m525</th><th>m550</th><th>m575</th><th>m600</th><th>m625</th><th>m650</th><th>m675</th><th>m700</th><th>m725</th><th>m750</th><th>m775</th><th>m800</th><th>m825</th><th>m850</th><th>m875</th></tr></thead>\n",
       "<thead><tr><th>d</th><th>mag(AB)</th><th>mag(AB)</th><th>mag(AB)</th><th>mag(AB)</th><th>mag(AB)</th><th>mag(AB)</th><th>mag(AB)</th><th>mag(AB)</th><th>mag(AB)</th><th>mag(AB)</th><th>mag(AB)</th><th>mag(AB)</th><th>mag(AB)</th><th>mag(AB)</th><th>mag(AB)</th><th>mag(AB)</th><th>mag(AB)</th><th>mag(AB)</th><th>mag(AB)</th><th>mag(AB)</th></tr></thead>\n",
       "<thead><tr><th>float64</th><th>float64</th><th>float64</th><th>float64</th><th>float64</th><th>float64</th><th>float64</th><th>float64</th><th>float64</th><th>float64</th><th>float64</th><th>float64</th><th>float64</th><th>float64</th><th>float64</th><th>float64</th><th>float64</th><th>float64</th><th>float64</th><th>float64</th><th>float64</th></tr></thead>\n",
       "<tr><td>0.125</td><td>-10.093</td><td>-10.023</td><td>-9.722</td><td>-9.811</td><td>-9.999</td><td>-10.466</td><td>-10.601</td><td>-10.477</td><td>-10.537</td><td>-10.534</td><td>-10.366</td><td>-10.409</td><td>-9.922</td><td>-9.995</td><td>-9.750</td><td>-10.064</td><td>-10.523</td><td>-10.422</td><td>-10.403</td><td>-10.572</td></tr>\n",
       "<tr><td>0.136</td><td>-10.753</td><td>-10.718</td><td>-10.635</td><td>-10.663</td><td>-10.674</td><td>-10.910</td><td>-10.999</td><td>-10.919</td><td>-10.891</td><td>-10.890</td><td>-10.740</td><td>-10.828</td><td>-10.614</td><td>-10.585</td><td>-10.415</td><td>-10.521</td><td>-10.970</td><td>-10.767</td><td>-10.895</td><td>-10.974</td></tr>\n",
       "<tr><td>0.149</td><td>-11.058</td><td>-11.038</td><td>-11.021</td><td>-11.036</td><td>-10.994</td><td>-11.052</td><td>-11.155</td><td>-11.035</td><td>-11.007</td><td>-11.039</td><td>-10.897</td><td>-11.008</td><td>-10.870</td><td>-10.818</td><td>-10.702</td><td>-10.765</td><td>-11.213</td><td>-11.014</td><td>-11.052</td><td>-11.132</td></tr>\n",
       "<tr><td>0.162</td><td>-11.115</td><td>-11.105</td><td>-11.133</td><td>-11.104</td><td>-11.090</td><td>-11.154</td><td>-11.277</td><td>-11.176</td><td>-11.154</td><td>-11.214</td><td>-11.084</td><td>-11.203</td><td>-11.021</td><td>-10.951</td><td>-10.819</td><td>-10.953</td><td>-11.381</td><td>-11.214</td><td>-11.202</td><td>-11.300</td></tr>\n",
       "<tr><td>0.177</td><td>-11.208</td><td>-11.212</td><td>-11.217</td><td>-11.190</td><td>-11.248</td><td>-11.389</td><td>-11.511</td><td>-11.408</td><td>-11.362</td><td>-11.408</td><td>-11.322</td><td>-11.418</td><td>-11.204</td><td>-11.151</td><td>-11.087</td><td>-11.144</td><td>-11.560</td><td>-11.408</td><td>-11.378</td><td>-11.529</td></tr>\n",
       "<tr><td>0.193</td><td>-11.394</td><td>-11.358</td><td>-11.385</td><td>-11.368</td><td>-11.413</td><td>-11.579</td><td>-11.687</td><td>-11.597</td><td>-11.558</td><td>-11.590</td><td>-11.500</td><td>-11.576</td><td>-11.379</td><td>-11.370</td><td>-11.295</td><td>-11.321</td><td>-11.763</td><td>-11.583</td><td>-11.534</td><td>-11.679</td></tr>\n",
       "<tr><td>0.21</td><td>-11.564</td><td>-11.527</td><td>-11.542</td><td>-11.542</td><td>-11.576</td><td>-11.729</td><td>-11.849</td><td>-11.770</td><td>-11.746</td><td>-11.760</td><td>-11.672</td><td>-11.769</td><td>-11.524</td><td>-11.506</td><td>-11.436</td><td>-11.482</td><td>-11.939</td><td>-11.737</td><td>-11.683</td><td>-11.804</td></tr>\n",
       "<tr><td>0.229</td><td>-11.771</td><td>-11.718</td><td>-11.700</td><td>-11.725</td><td>-11.754</td><td>-11.905</td><td>-12.025</td><td>-11.950</td><td>-11.916</td><td>-11.925</td><td>-11.839</td><td>-11.933</td><td>-11.710</td><td>-11.645</td><td>-11.596</td><td>-11.657</td><td>-12.086</td><td>-11.881</td><td>-11.843</td><td>-11.928</td></tr>\n",
       "<tr><td>0.25</td><td>-11.969</td><td>-11.902</td><td>-11.864</td><td>-11.892</td><td>-11.924</td><td>-12.100</td><td>-12.196</td><td>-12.122</td><td>-12.075</td><td>-12.095</td><td>-12.014</td><td>-12.105</td><td>-11.887</td><td>-11.832</td><td>-11.812</td><td>-11.863</td><td>-12.258</td><td>-12.029</td><td>-11.998</td><td>-12.038</td></tr>\n",
       "<tr><td>...</td><td>...</td><td>...</td><td>...</td><td>...</td><td>...</td><td>...</td><td>...</td><td>...</td><td>...</td><td>...</td><td>...</td><td>...</td><td>...</td><td>...</td><td>...</td><td>...</td><td>...</td><td>...</td><td>...</td><td>...</td></tr>\n",
       "<tr><td>1.542</td><td>-6.219</td><td>-6.930</td><td>-7.590</td><td>-8.027</td><td>-8.895</td><td>-9.204</td><td>-9.334</td><td>-9.966</td><td>-10.437</td><td>-10.604</td><td>-10.819</td><td>-11.026</td><td>-11.219</td><td>-11.408</td><td>-11.496</td><td>-11.609</td><td>-11.815</td><td>-11.903</td><td>-12.098</td><td>-12.082</td></tr>\n",
       "<tr><td>1.682</td><td>-5.663</td><td>-6.460</td><td>-7.094</td><td>-7.565</td><td>-8.481</td><td>-8.792</td><td>-8.885</td><td>-9.558</td><td>-10.062</td><td>-10.291</td><td>-10.612</td><td>-10.778</td><td>-10.943</td><td>-11.237</td><td>-11.337</td><td>-11.423</td><td>-11.659</td><td>-11.772</td><td>-11.976</td><td>-11.982</td></tr>\n",
       "<tr><td>1.834</td><td>-5.119</td><td>-5.957</td><td>-6.610</td><td>-7.116</td><td>-7.994</td><td>-8.362</td><td>-8.460</td><td>-9.098</td><td>-9.624</td><td>-9.903</td><td>-10.366</td><td>-10.512</td><td>-10.632</td><td>-11.040</td><td>-11.174</td><td>-11.214</td><td>-11.472</td><td>-11.640</td><td>-11.821</td><td>-11.851</td></tr>\n",
       "<tr><td>2.0</td><td>-4.542</td><td>-5.382</td><td>-6.154</td><td>-6.656</td><td>-7.468</td><td>-7.924</td><td>-8.047</td><td>-8.648</td><td>-9.147</td><td>-9.453</td><td>-10.042</td><td>-10.196</td><td>-10.326</td><td>-10.781</td><td>-10.965</td><td>-10.985</td><td>-11.247</td><td>-11.459</td><td>-11.611</td><td>-11.668</td></tr>\n",
       "<tr><td>2.181</td><td>-3.892</td><td>-4.787</td><td>-5.646</td><td>-6.144</td><td>-6.921</td><td>-7.512</td><td>-7.655</td><td>-8.232</td><td>-8.713</td><td>-9.001</td><td>-9.648</td><td>-9.860</td><td>-10.018</td><td>-10.451</td><td>-10.685</td><td>-10.726</td><td>-10.991</td><td>-11.224</td><td>-11.353</td><td>-11.414</td></tr>\n",
       "<tr><td>2.378</td><td>-3.164</td><td>-4.196</td><td>-5.035</td><td>-5.659</td><td>-6.343</td><td>-7.147</td><td>-7.272</td><td>-7.833</td><td>-8.319</td><td>-8.556</td><td>-9.214</td><td>-9.576</td><td>-9.706</td><td>-10.127</td><td>-10.379</td><td>-10.460</td><td>-10.740</td><td>-10.957</td><td>-11.075</td><td>-11.124</td></tr>\n",
       "<tr><td>2.594</td><td>-2.227</td><td>-3.620</td><td>-4.410</td><td>-5.184</td><td>-5.787</td><td>-6.729</td><td>-6.830</td><td>-7.424</td><td>-7.908</td><td>-8.102</td><td>-8.772</td><td>-9.307</td><td>-9.366</td><td>-9.833</td><td>-10.056</td><td>-10.201</td><td>-10.505</td><td>-10.696</td><td>-10.780</td><td>-10.807</td></tr>\n",
       "<tr><td>2.828</td><td>-1.267</td><td>-2.977</td><td>-3.886</td><td>-4.594</td><td>-5.145</td><td>-6.273</td><td>-6.345</td><td>-6.955</td><td>-7.417</td><td>-7.627</td><td>-8.325</td><td>-8.974</td><td>-8.953</td><td>-9.486</td><td>-9.710</td><td>-9.892</td><td>-10.247</td><td>-10.398</td><td>-10.457</td><td>-10.463</td></tr>\n",
       "<tr><td>3.084</td><td>-0.371</td><td>-2.083</td><td>-3.076</td><td>-3.902</td><td>-4.452</td><td>-5.737</td><td>-5.748</td><td>-6.370</td><td>-6.845</td><td>-7.029</td><td>-7.800</td><td>-8.519</td><td>-8.450</td><td>-9.030</td><td>-9.294</td><td>-9.505</td><td>-9.911</td><td>-9.987</td><td>-10.073</td><td>-10.057</td></tr>\n",
       "<tr><td>3.364</td><td>0.681</td><td>-1.288</td><td>-2.222</td><td>-3.057</td><td>-3.710</td><td>-5.000</td><td>-4.985</td><td>-5.655</td><td>-6.103</td><td>-6.347</td><td>-7.129</td><td>-7.843</td><td>-7.813</td><td>-8.420</td><td>-8.722</td><td>-8.983</td><td>-9.410</td><td>-9.443</td><td>-9.566</td><td>-9.525</td></tr>\n",
       "</table></div>"
      ],
      "text/plain": [
       "<Table length=39>\n",
       "   t      m400    m425    m450    m475  ...   m800    m825    m850    m875 \n",
       "   d    mag(AB) mag(AB) mag(AB) mag(AB) ... mag(AB) mag(AB) mag(AB) mag(AB)\n",
       "float64 float64 float64 float64 float64 ... float64 float64 float64 float64\n",
       "------- ------- ------- ------- ------- ... ------- ------- ------- -------\n",
       "  0.125 -10.093 -10.023  -9.722  -9.811 ... -10.523 -10.422 -10.403 -10.572\n",
       "  0.136 -10.753 -10.718 -10.635 -10.663 ... -10.970 -10.767 -10.895 -10.974\n",
       "  0.149 -11.058 -11.038 -11.021 -11.036 ... -11.213 -11.014 -11.052 -11.132\n",
       "  0.162 -11.115 -11.105 -11.133 -11.104 ... -11.381 -11.214 -11.202 -11.300\n",
       "  0.177 -11.208 -11.212 -11.217 -11.190 ... -11.560 -11.408 -11.378 -11.529\n",
       "  0.193 -11.394 -11.358 -11.385 -11.368 ... -11.763 -11.583 -11.534 -11.679\n",
       "   0.21 -11.564 -11.527 -11.542 -11.542 ... -11.939 -11.737 -11.683 -11.804\n",
       "  0.229 -11.771 -11.718 -11.700 -11.725 ... -12.086 -11.881 -11.843 -11.928\n",
       "   0.25 -11.969 -11.902 -11.864 -11.892 ... -12.258 -12.029 -11.998 -12.038\n",
       "    ...     ...     ...     ...     ... ...     ...     ...     ...     ...\n",
       "  1.542  -6.219  -6.930  -7.590  -8.027 ... -11.815 -11.903 -12.098 -12.082\n",
       "  1.682  -5.663  -6.460  -7.094  -7.565 ... -11.659 -11.772 -11.976 -11.982\n",
       "  1.834  -5.119  -5.957  -6.610  -7.116 ... -11.472 -11.640 -11.821 -11.851\n",
       "    2.0  -4.542  -5.382  -6.154  -6.656 ... -11.247 -11.459 -11.611 -11.668\n",
       "  2.181  -3.892  -4.787  -5.646  -6.144 ... -10.991 -11.224 -11.353 -11.414\n",
       "  2.378  -3.164  -4.196  -5.035  -5.659 ... -10.740 -10.957 -11.075 -11.124\n",
       "  2.594  -2.227  -3.620  -4.410  -5.184 ... -10.505 -10.696 -10.780 -10.807\n",
       "  2.828  -1.267  -2.977  -3.886  -4.594 ... -10.247 -10.398 -10.457 -10.463\n",
       "  3.084  -0.371  -2.083  -3.076  -3.902 ...  -9.911  -9.987 -10.073 -10.057\n",
       "  3.364   0.681  -1.288  -2.222  -3.057 ...  -9.410  -9.443  -9.566  -9.525"
      ]
     },
     "execution_count": 194,
     "metadata": {},
     "output_type": "execute_result"
    }
   ],
   "source": [
    "for tt, t in enumerate(times):\n",
    "\tflam = knsptbl[anglecol][timestep*tt:timestep*(tt+1)]*(u.erg/u.second/u.Angstrom/(u.cm**2))\n",
    "\tfnu = convert_flam2fnu(flam, lam)\n",
    "\tabmag = fnu.to(u.ABmag)\n",
    "\n",
    "\t#\tMed speclite\n",
    "\tmmags = meds.get_ab_magnitudes(flam, lam)\n",
    "\t#\tSDSS speclite\n",
    "\tsmags = sdss.get_ab_magnitudes(flam, lam)\n",
    "\t#\tJohnson-Cousin speclite\n",
    "\tjcmags = jc.get_ab_magnitudes(flam, lam)\n",
    "\n",
    "\tfor key in mmags.keys():\n",
    "\t\tmedmag = mmags[key].item()\n",
    "\t\t# medfnu = (medmag*u.ABmag).to(u.erg/u.second/u.Hz/u.cm**2).value\n",
    "\n",
    "\t\tfilte = key.split('-')[-1]\n",
    "\t\tphtbl[f\"{filte}\"][tt] = medmag+magoffset\n",
    "\t\t# phtbl[f\"fnu_{filte}\"][tt] = medfnu\n",
    "phtbl\n"
   ]
  },
  {
   "cell_type": "code",
   "execution_count": 195,
   "metadata": {},
   "outputs": [],
   "source": [
    "phtbl.meta['classification'] = 'KN'\n",
    "phtbl.meta['author'] = 'Wollaeger+21'\n",
    "phtbl.meta['model'] = kncbtbl['model'][kk]\n",
    "phtbl.meta['shape'] = kncbtbl['shape'][kk]\n",
    "phtbl.meta['latitude'] = kncbtbl['latitude'][kk]\n",
    "phtbl.meta['md'] = kncbtbl['md'][kk]\n",
    "phtbl.meta['vd'] = kncbtbl['vd'][kk]\n",
    "phtbl.meta['mw'] = kncbtbl['mw'][kk]\n",
    "phtbl.meta['vw'] = kncbtbl['vw'][kk]\n",
    "phtbl.meta['type'] = kncbtbl['type'][kk]"
   ]
  },
  {
   "cell_type": "code",
   "execution_count": 196,
   "metadata": {},
   "outputs": [
    {
     "name": "stdout",
     "output_type": "stream",
     "text": [
      "Run_TP_dyn_all_lanth_wind1_all_md0.001_vd0.05_mw0.001_vw0.05_angularbincol3_synphot_med.fits\n"
     ]
    }
   ],
   "source": [
    "part = os.path.basename(knsp).split('_')\n",
    "\n",
    "filtersetname = 'med'\n",
    "part[-2] = f'angularbin{nangle}_synphot'\n",
    "part[-1] = f'{filtersetname}.fits'\n",
    "\n",
    "newfile = '_'.join(part)\n",
    "print(newfile)\n"
   ]
  },
  {
   "cell_type": "markdown",
   "metadata": {},
   "source": [
    "# Bulk iteration"
   ]
  },
  {
   "cell_type": "code",
   "execution_count": 197,
   "metadata": {},
   "outputs": [],
   "source": [
    "path_model = '../3.table/kn_sim_cube_synphot'\n",
    "if not os.path.exists(path_model): os.system(f\"mkdir {path_model}\")"
   ]
  },
  {
   "cell_type": "code",
   "execution_count": 198,
   "metadata": {},
   "outputs": [],
   "source": [
    "def generate_synphot4kn(knsp, anglecol, inspeclite, filterlist, filtersetname, outname):\n",
    "\tknsptbl = Table.read(knsp)\n",
    "\n",
    "\t#\tWavelength & Time\n",
    "\t##\tWavelength\n",
    "\tlam = np.unique(knsptbl['lam'])*u.Angstrom\n",
    "\ttimestep = len(lam)\n",
    "\tntime = int(len(knsptbl)/timestep)\n",
    "\t##\tTime\n",
    "\ttimes = np.array([float(knsptbl.meta['comments'][i].split('= ')[-1]) for i in range(len(knsptbl.meta['comments']))])\n",
    "\ttimes = times[:ntime]\n",
    "\n",
    "\t#\tTable\n",
    "\tphtbl = Table()\n",
    "\tphtbl['t'] = times*u.day\n",
    "\tfor filte in filterlist:\n",
    "\t\tphtbl[f\"{filte}\"] = 0.0\n",
    "\t\tphtbl[f\"{filte}\"].format = '1.3f'\n",
    "\t\tphtbl[f\"{filte}\"].unit = u.ABmag\n",
    "\n",
    "\t#\tSynphot\n",
    "\tfor tt, t in enumerate(times):\n",
    "\t\tflam = knsptbl[anglecol][timestep*tt:timestep*(tt+1)]*(u.erg/u.second/u.Angstrom/(u.cm**2))\n",
    "\t\tmags = inspeclite.get_ab_magnitudes(flam, lam)\n",
    "\n",
    "\t\tfor key in mags.keys():\n",
    "\t\t\tmag = mags[key].item()\n",
    "\t\t\tfilte = key.split('-')[-1]\n",
    "\t\t\tphtbl[f\"{filte}\"][tt] = mag+magoffset\n",
    "\n",
    "\t#\tMeta data\n",
    "\tphtbl.meta['classification'] = 'KN'\n",
    "\tphtbl.meta['author'] = 'Wollaeger+21'\n",
    "\tphtbl.meta['model'] = kncbtbl['model'][kk]\n",
    "\tphtbl.meta['shape'] = kncbtbl['shape'][kk]\n",
    "\tphtbl.meta['latitude'] = kncbtbl['latitude'][kk]\n",
    "\tphtbl.meta['md'] = kncbtbl['md'][kk]\n",
    "\tphtbl.meta['vd'] = kncbtbl['vd'][kk]\n",
    "\tphtbl.meta['mw'] = kncbtbl['mw'][kk]\n",
    "\tphtbl.meta['vw'] = kncbtbl['vw'][kk]\n",
    "\tphtbl.meta['type'] = kncbtbl['type'][kk]\n",
    "\n",
    "\t#\tSave the file\n",
    "\tphtbl.write(outname, format='fits', overwrite=True)"
   ]
  },
  {
   "cell_type": "code",
   "execution_count": 199,
   "metadata": {},
   "outputs": [
    {
     "name": "stdout",
     "output_type": "stream",
     "text": [
      "START SYNPHOT\n",
      "[900/900] Run_TS_dyn_all_lanth_wind2_all_md0.1_vd0.3_mw0.1_vw0.3_spec_2020-02-29.fitsssssss\r"
     ]
    }
   ],
   "source": [
    "filtersetname = 'med'\n",
    "path_save = f'{path_model}/{filtersetname}'\n",
    "if not os.path.exists(path_save): os.system(f\"mkdir {path_save}\")\n",
    "\n",
    "#\tInput\n",
    "filterlist = medfilterlist\n",
    "inspeclite = meds\n",
    "\n",
    "print('START SYNPHOT')\n",
    "\n",
    "for kk, knsp0 in enumerate(kncbtbl['model']):\n",
    "\t#\tSingle KN spectrum Table\n",
    "\tknsp = f\"../3.table/kn_sim_cube_lite/{knsp0}\"\n",
    "\tprint(f\"[{kk+1}/{len(kncbtbl)}] {os.path.basename(knsp)}\", end='\\r')\n",
    "\n",
    "\tfor nth, anglecol in enumerate(angledict.keys()):\n",
    "\t\t#\tNew file name\n",
    "\t\tpart = os.path.basename(knsp).split('_')\n",
    "\t\tpart[-2] = f'angularbin{nth+1:0>2}_synphot'\n",
    "\t\tpart[-1] = f'{filtersetname}.fits'\n",
    "\t\tnewfile = '_'.join(part)\n",
    "\t\toutname = f\"{path_save}/{newfile}\"\n",
    "\t\t#\tRun\n",
    "\t\tgenerate_synphot4kn(knsp, anglecol, inspeclite, filterlist, filtersetname, outname)"
   ]
  },
  {
   "cell_type": "code",
   "execution_count": 200,
   "metadata": {},
   "outputs": [
    {
     "data": {
      "text/plain": [
       "['broad-g', 'broad-i', 'broad-r', 'broad-u']"
      ]
     },
     "execution_count": 200,
     "metadata": {},
     "output_type": "execute_result"
    }
   ],
   "source": [
    "mags = sdss.get_ab_magnitudes(flam, lam)\n",
    "mags.keys()"
   ]
  },
  {
   "cell_type": "code",
   "execution_count": 201,
   "metadata": {},
   "outputs": [
    {
     "name": "stdout",
     "output_type": "stream",
     "text": [
      "START SYNPHOT\n",
      "[900/900] Run_TS_dyn_all_lanth_wind2_all_md0.1_vd0.3_mw0.1_vw0.3_spec_2020-02-29.fitsssssss\r"
     ]
    }
   ],
   "source": [
    "filtersetname = 'sdss.ugri'\n",
    "path_save = f'{path_model}/{filtersetname}'\n",
    "if not os.path.exists(path_save): os.system(f\"mkdir {path_save}\")\n",
    "\n",
    "#\tInput\n",
    "# filterlist = [f\"broad-{filte}\" for filte in ['u', 'g', 'r', 'i']]\n",
    "filterlist = ['u', 'g', 'r', 'i']\n",
    "inspeclite = sdss\n",
    "\n",
    "print('START SYNPHOT')\n",
    "\n",
    "for kk, knsp0 in enumerate(kncbtbl['model']):\n",
    "\t#\tSingle KN spectrum Table\n",
    "\tknsp = f\"../3.table/kn_sim_cube_lite/{knsp0}\"\n",
    "\tprint(f\"[{kk+1}/{len(kncbtbl)}] {os.path.basename(knsp)}\", end='\\r')\n",
    "\n",
    "\tfor nth, anglecol in enumerate(angledict.keys()):\n",
    "\t\t#\tNew file name\n",
    "\t\tpart = os.path.basename(knsp).split('_')\n",
    "\t\tpart[-2] = f'angularbin{nth+1:0>2}_synphot'\n",
    "\t\tpart[-1] = f'{filtersetname}.fits'\n",
    "\t\tnewfile = '_'.join(part)\n",
    "\t\toutname = f\"{path_save}/{newfile}\"\n",
    "\t\t#\tRun\n",
    "\t\tgenerate_synphot4kn(knsp, anglecol, inspeclite, filterlist, filtersetname, outname)"
   ]
  },
  {
   "cell_type": "code",
   "execution_count": 202,
   "metadata": {},
   "outputs": [
    {
     "name": "stdout",
     "output_type": "stream",
     "text": [
      "START SYNPHOT\n",
      "[900/900] Run_TS_dyn_all_lanth_wind2_all_md0.1_vd0.3_mw0.1_vw0.3_spec_2020-02-29.fitsssssss\r"
     ]
    }
   ],
   "source": [
    "filtersetname = 'lsst.ugrizy'\n",
    "path_save = f'{path_model}/{filtersetname}'\n",
    "if not os.path.exists(path_save): os.system(f\"mkdir {path_save}\")\n",
    "\n",
    "#\tInput\n",
    "# filterlist = [f\"broad-{filte}\" for filte in ['u', 'g', 'r', 'i']]\n",
    "filterlist = ['u', 'g', 'r', 'i', 'z', 'y']\n",
    "inspeclite = lsst\n",
    "\n",
    "print('START SYNPHOT')\n",
    "\n",
    "for kk, knsp0 in enumerate(kncbtbl['model']):\n",
    "\t#\tSingle KN spectrum Table\n",
    "\tknsp = f\"../3.table/kn_sim_cube_lite/{knsp0}\"\n",
    "\tprint(f\"[{kk+1}/{len(kncbtbl)}] {os.path.basename(knsp)}\", end='\\r')\n",
    "\n",
    "\tfor nth, anglecol in enumerate(angledict.keys()):\n",
    "\t\t#\tNew file name\n",
    "\t\tpart = os.path.basename(knsp).split('_')\n",
    "\t\tpart[-2] = f'angularbin{nth+1:0>2}_synphot'\n",
    "\t\tpart[-1] = f'{filtersetname}.fits'\n",
    "\t\tnewfile = '_'.join(part)\n",
    "\t\toutname = f\"{path_save}/{newfile}\"\n",
    "\t\t#\tRun\n",
    "\t\tgenerate_synphot4kn(knsp, anglecol, inspeclite, filterlist, filtersetname, outname)"
   ]
  },
  {
   "cell_type": "code",
   "execution_count": 203,
   "metadata": {},
   "outputs": [
    {
     "name": "stdout",
     "output_type": "stream",
     "text": [
      "START SYNPHOT\n",
      "[900/900] Run_TS_dyn_all_lanth_wind2_all_md0.1_vd0.3_mw0.1_vw0.3_spec_2020-02-29.fitsssssss\r"
     ]
    }
   ],
   "source": [
    "filtersetname = 'jc.BVRI'\n",
    "path_save = f'{path_model}/{filtersetname}'\n",
    "if not os.path.exists(path_save): os.system(f\"mkdir {path_save}\")\n",
    "\n",
    "#\tInput\n",
    "filterlist = ['B', 'V', 'R', 'I']\n",
    "inspeclite = jc\n",
    "\n",
    "print('START SYNPHOT')\n",
    "\n",
    "for kk, knsp0 in enumerate(kncbtbl['model']):\n",
    "\t#\tSingle KN spectrum Table\n",
    "\tknsp = f\"../3.table/kn_sim_cube_lite/{knsp0}\"\n",
    "\tprint(f\"[{kk+1}/{len(kncbtbl)}] {os.path.basename(knsp)}\", end='\\r')\n",
    "\n",
    "\tfor nth, anglecol in enumerate(angledict.keys()):\n",
    "\t\t#\tNew file name\n",
    "\t\tpart = os.path.basename(knsp).split('_')\n",
    "\t\tpart[-2] = f'angularbin{nth+1:0>2}_synphot'\n",
    "\t\tpart[-1] = f'{filtersetname}.fits'\n",
    "\t\tnewfile = '_'.join(part)\n",
    "\t\toutname = f\"{path_save}/{newfile}\"\n",
    "\t\t#\tRun\n",
    "\t\tgenerate_synphot4kn(knsp, anglecol, inspeclite, filterlist, filtersetname, outname)"
   ]
  }
 ],
 "metadata": {
  "kernelspec": {
   "display_name": "Python 3.10.6 ('kn')",
   "language": "python",
   "name": "python3"
  },
  "language_info": {
   "codemirror_mode": {
    "name": "ipython",
    "version": 3
   },
   "file_extension": ".py",
   "mimetype": "text/x-python",
   "name": "python",
   "nbconvert_exporter": "python",
   "pygments_lexer": "ipython3",
   "version": "3.10.6"
  },
  "orig_nbformat": 4,
  "vscode": {
   "interpreter": {
    "hash": "0fa65c9a91e45692839231d985ed151f2fe21fa37e863d955851b77a1cee7351"
   }
  }
 },
 "nbformat": 4,
 "nbformat_minor": 2
}
