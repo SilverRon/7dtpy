{
 "cells": [
  {
   "cell_type": "markdown",
   "metadata": {},
   "source": [
    "# Generate random observation data for KMTNet broad-band (BVRI)\n",
    "- Gregory S.H. Paek\n",
    "- 22.10.05"
   ]
  },
  {
   "cell_type": "code",
   "execution_count": 1,
   "metadata": {},
   "outputs": [],
   "source": [
    "import glob, os\n",
    "from astropy.io import ascii\n",
    "import matplotlib.pyplot as plt\n",
    "import numpy as np\n",
    "from astropy.table import Table, vstack\n",
    "import matplotlib as mpl\n",
    "from astropy import units as u\n",
    "import speclite.filters\n",
    "import time\n",
    "import multiprocessing\n",
    "from itertools import repeat"
   ]
  },
  {
   "cell_type": "code",
   "execution_count": 2,
   "metadata": {},
   "outputs": [],
   "source": [
    "from IPython.core.interactiveshell import InteractiveShell\n",
    "InteractiveShell.ast_node_interactivity = \"last_expr\"\n",
    "\n",
    "mpl.rcParams[\"axes.titlesize\"] = 14\n",
    "mpl.rcParams[\"axes.labelsize\"] = 20\n",
    "plt.rcParams['savefig.dpi'] = 200\n",
    "plt.rc('font', family='serif')"
   ]
  },
  {
   "cell_type": "markdown",
   "metadata": {},
   "source": [
    "## Useful functions"
   ]
  },
  {
   "cell_type": "code",
   "execution_count": 3,
   "metadata": {},
   "outputs": [],
   "source": [
    "from helper import makeSpecColors\n",
    "from helper import convert_flam2fnu\n",
    "from helper import get_wollaeger\n",
    "from helper import convert_app2abs\n",
    "from helper import convert_abs2app\n",
    "kncbtbl = get_wollaeger()\n",
    "from helper import get_bandwidth_table\n",
    "bdwtbl = get_bandwidth_table()\n",
    "#\tspeclite\n",
    "from helper import get_speclite_med\n",
    "meds = get_speclite_med()\n",
    "mlam = meds.effective_wavelengths\n",
    "mbdw = bdwtbl['bandwidth'][bdwtbl['group']=='Med']*u.Angstrom\n",
    "from helper import get_speclite_sdss\n",
    "sdss = get_speclite_sdss()\n",
    "slam = sdss.effective_wavelengths\n",
    "sbdw = bdwtbl['bandwidth'][bdwtbl['group']=='SDSS']*u.Angstrom\n",
    "from helper import get_speclite_jc\n",
    "jc = get_speclite_jc()\n",
    "jclam = jc.effective_wavelengths\n",
    "jcbdw = bdwtbl['bandwidth'][bdwtbl['group']=='Johnson Cousin']*u.Angstrom\n",
    "from helper import get_speclite_lsst\n",
    "lsst = get_speclite_lsst()\n",
    "lsstlam = lsst.effective_wavelengths\n",
    "from helper import get_lsst_depth\n",
    "from helper import get_kmtnet_depth\n",
    "# lsstbdw = bdwtbl['bandwidth'][bdwtbl['group']\n",
    "#\n",
    "from helper import get_7dt_depth\n",
    "from helper import get_7dt_broadband_depth\n",
    "# dptbl = get_7dt_depth(exptime=180)\n",
    "# dptbl = get_7dt_broadband_depth(exptime=180)"
   ]
  },
  {
   "cell_type": "code",
   "execution_count": 4,
   "metadata": {},
   "outputs": [],
   "source": [
    "magoffset = -4.3"
   ]
  },
  {
   "cell_type": "code",
   "execution_count": 5,
   "metadata": {},
   "outputs": [
    {
     "data": {
      "text/html": [
       "<div><i>Table length=15</i>\n",
       "<table id=\"table4399930368\" class=\"table-striped table-bordered table-condensed\">\n",
       "<thead><tr><th>t</th><th>B</th><th>V</th><th>R</th><th>I</th></tr></thead>\n",
       "<thead><tr><th>d</th><th>mag(AB)</th><th>mag(AB)</th><th>mag(AB)</th><th>mag(AB)</th></tr></thead>\n",
       "<thead><tr><th>float64</th><th>float64</th><th>float64</th><th>float64</th><th>float64</th></tr></thead>\n",
       "<tr><td>0.297</td><td>-13.871</td><td>-13.471</td><td>-13.352</td><td>-13.050</td></tr>\n",
       "<tr><td>0.324</td><td>-13.887</td><td>-13.524</td><td>-13.389</td><td>-13.105</td></tr>\n",
       "<tr><td>0.354</td><td>-13.883</td><td>-13.565</td><td>-13.422</td><td>-13.155</td></tr>\n",
       "<tr><td>0.386</td><td>-13.857</td><td>-13.598</td><td>-13.446</td><td>-13.194</td></tr>\n",
       "<tr><td>0.42</td><td>-13.805</td><td>-13.623</td><td>-13.478</td><td>-13.229</td></tr>\n",
       "<tr><td>0.459</td><td>-13.701</td><td>-13.639</td><td>-13.516</td><td>-13.269</td></tr>\n",
       "<tr><td>0.5</td><td>-13.526</td><td>-13.641</td><td>-13.563</td><td>-13.319</td></tr>\n",
       "<tr><td>0.545</td><td>-13.274</td><td>-13.611</td><td>-13.617</td><td>-13.382</td></tr>\n",
       "<tr><td>0.595</td><td>-12.960</td><td>-13.528</td><td>-13.655</td><td>-13.446</td></tr>\n",
       "<tr><td>0.648</td><td>-12.635</td><td>-13.390</td><td>-13.658</td><td>-13.490</td></tr>\n",
       "<tr><td>0.707</td><td>-12.344</td><td>-13.203</td><td>-13.620</td><td>-13.501</td></tr>\n",
       "<tr><td>0.771</td><td>-12.098</td><td>-13.000</td><td>-13.545</td><td>-13.485</td></tr>\n",
       "<tr><td>0.841</td><td>-11.882</td><td>-12.806</td><td>-13.443</td><td>-13.445</td></tr>\n",
       "<tr><td>0.917</td><td>-11.678</td><td>-12.629</td><td>-13.321</td><td>-13.388</td></tr>\n",
       "<tr><td>1.0</td><td>-11.472</td><td>-12.465</td><td>-13.181</td><td>-13.313</td></tr>\n",
       "</table></div>"
      ],
      "text/plain": [
       "<Table length=15>\n",
       "   t       B       V       R       I   \n",
       "   d    mag(AB) mag(AB) mag(AB) mag(AB)\n",
       "float64 float64 float64 float64 float64\n",
       "------- ------- ------- ------- -------\n",
       "  0.297 -13.871 -13.471 -13.352 -13.050\n",
       "  0.324 -13.887 -13.524 -13.389 -13.105\n",
       "  0.354 -13.883 -13.565 -13.422 -13.155\n",
       "  0.386 -13.857 -13.598 -13.446 -13.194\n",
       "   0.42 -13.805 -13.623 -13.478 -13.229\n",
       "  0.459 -13.701 -13.639 -13.516 -13.269\n",
       "    0.5 -13.526 -13.641 -13.563 -13.319\n",
       "  0.545 -13.274 -13.611 -13.617 -13.382\n",
       "  0.595 -12.960 -13.528 -13.655 -13.446\n",
       "  0.648 -12.635 -13.390 -13.658 -13.490\n",
       "  0.707 -12.344 -13.203 -13.620 -13.501\n",
       "  0.771 -12.098 -13.000 -13.545 -13.485\n",
       "  0.841 -11.882 -12.806 -13.443 -13.445\n",
       "  0.917 -11.678 -12.629 -13.321 -13.388\n",
       "    1.0 -11.472 -12.465 -13.181 -13.313"
      ]
     },
     "execution_count": 5,
     "metadata": {},
     "output_type": "execute_result"
    }
   ],
   "source": [
    "knsp = '../3.table/kn_sim_cube_synphot/Run_TS_dyn_all_lanth_wind2_all_md0.1_vd0.3_mw0.1_vw0.3_angle0_synphot_jc.ecsv'\n",
    "intbl = ascii.read(knsp)\n",
    "intbl[10:25]"
   ]
  },
  {
   "cell_type": "markdown",
   "metadata": {},
   "source": [
    "- Synphot Table"
   ]
  },
  {
   "cell_type": "code",
   "execution_count": 6,
   "metadata": {},
   "outputs": [],
   "source": [
    "def extract_param_kn_sim_cube(knsp):\n",
    "\tpart = os.path.basename(knsp).split('_')\n",
    "\n",
    "\tif part[1] == 'TP':\n",
    "\t\tdshape = 'toroidal'\n",
    "\telif part[1] == 'TS':\n",
    "\t\tdshape = 'spherical'\n",
    "\telse:\n",
    "\t\tdshape = ''\n",
    "\n",
    "\t#\tLatitude\n",
    "\tif part[5] == 'wind1':\n",
    "\t\tlat = 'Axial'\n",
    "\telif part[5] == 'wind2':\n",
    "\t\tlat = 'Edge'\n",
    "\telse:\n",
    "\t\tlat = ''\n",
    "\n",
    "\t#\tEjecta mass for low-Ye [solar mass]\n",
    "\tmd = float(part[7].replace('md', ''))\n",
    "\n",
    "\t#\tEjecta velocity for low-Ye [N*c]\n",
    "\tvd = float(part[8].replace('vd', ''))\n",
    "\n",
    "\t#\tEjecta mass for high-Ye [solar mass]\n",
    "\tmw = float(part[9].replace('mw', ''))\n",
    "\n",
    "\t#\tEjecta velocity for high-Ye [N*c]\n",
    "\tvw = float(part[10].replace('vw', ''))\n",
    "\n",
    "\t#\tAngle\n",
    "\tangle = float(part[11].replace('angle', ''))\n",
    "\n",
    "\treturn dshape, lat, md, vd, mw, vw, angle"
   ]
  },
  {
   "cell_type": "code",
   "execution_count": 7,
   "metadata": {},
   "outputs": [
    {
     "name": "stdout",
     "output_type": "stream",
     "text": [
      "spherical Edge 0.1 0.3 0.1 0.3 0.0\n"
     ]
    }
   ],
   "source": [
    "dshape, lat, md, vd, mw, vw, angle = extract_param_kn_sim_cube(knsp)\n",
    "print(dshape, lat, md, vd, mw, vw, angle)"
   ]
  },
  {
   "cell_type": "markdown",
   "metadata": {},
   "source": [
    "- Depth Table"
   ]
  },
  {
   "cell_type": "code",
   "execution_count": 8,
   "metadata": {},
   "outputs": [],
   "source": [
    "def calc_snr(m, ul, sigma=5):\n",
    "\tsnr = sigma*10**((ul-m)/5)\n",
    "\treturn snr\n",
    "\n",
    "def convert_snr2magerr(snr):\n",
    "\tmerr = 2.5*np.log10(1+1/snr)\n",
    "\treturn merr\n",
    "\n",
    "def calc_GaussianFraction(seeing, optfactor=0.6731, path_plot=None):\n",
    "\timport numpy as np\n",
    "\timport matplotlib.pyplot as plt\n",
    "\tfrom scipy.special import erf\n",
    "\n",
    "\t# seeing, optfactor= 1.5, 0.6731\n",
    "\n",
    "\tmu = 0.0\n",
    "\t# sigma = fwhm_seeing/2.355\n",
    "\tfwhm2sigma = seeing*2.355\n",
    "\t# optfactor = 0.6731\n",
    "\tsigma = fwhm2sigma*optfactor\n",
    "\n",
    "\tx = np.linspace(-8, 8, 1000)\n",
    "\ty = (1 / np.sqrt(2 * np.pi * sigma**2)) * np.exp(-(x-mu)**2 / (2 * sigma**2))\n",
    "\ty_cum = 0.5 * (1 + erf((x - mu)/(np.sqrt(2 * sigma**2))))\n",
    "\n",
    "\tindx_aperture = np.where(\n",
    "\t\t(x>-sigma*optfactor) &\n",
    "\t\t(x<+sigma*optfactor)\n",
    "\t)\n",
    "\txaper = x[indx_aperture]\n",
    "\tyaper = y[indx_aperture]\n",
    "\n",
    "\tfrac = np.sum(yaper)/np.sum(y) \n",
    "\t# print(np.sum(y), np.sum(yaper), frac)\n",
    "\n",
    "\tif path_plot != None:\n",
    "\t\tplt.plot(x, y, alpha=0.5, label=f'PDF of N(0, {sigma:1.3f})', lw=5)\n",
    "\t\tplt.plot(xaper, yaper, alpha=1.0, label=f'Aperture ({frac*1e2:.1f}%)', lw=5,)\n",
    "\t\tplt.xlabel('x', fontsize=20)\n",
    "\t\tplt.ylabel('f(x)', fontsize=20)\n",
    "\t\tplt.legend(loc='lower center', fontsize=14)\n",
    "\t\t# plt.show()\n",
    "\t\tplt.savefig(path_plot, overwrite=True)\n",
    "\telse:\n",
    "\t\tpass\n",
    "\n",
    "\treturn frac\n",
    "\n",
    "def add_noise(mu, sigma, nseed, n=10, path_plot=None):\n",
    "\t\"\"\"\n",
    "\tmu, sigma = 17.5, 0.1\n",
    "\tn = 10\n",
    "\t\"\"\"\n",
    "\tfrom scipy.stats import norm\n",
    "\timport numpy as np\n",
    "\t\n",
    "\ttry:\n",
    "\t\tx = np.arange(mu-sigma*n, mu+sigma*n, sigma*1e-3)\n",
    "\t\ty = norm(mu, sigma).pdf(x)\n",
    "\n",
    "\t\tif path_plot != None:\n",
    "\t\t\tresultlist = []\n",
    "\t\t\tfor i in range(10000):\n",
    "\t\t\t\txobs = np.random.choice(x, p=y/np.sum(y))\n",
    "\t\t\t\t# print(xobs)\n",
    "\t\t\t\tresultlist.append(xobs)\n",
    "\t\t\tplt.axvspan(xmin=mu-sigma, xmax=mu+sigma, alpha=0.5, color='tomato',)\n",
    "\t\t\tplt.axvline(x=mu, ls='--', alpha=1.0, color='tomato', lw=3)\n",
    "\t\t\tplt.plot(x, y, lw=3, alpha=0.75, color='grey')\n",
    "\t\t\tplt.hist(resultlist, lw=3, alpha=0.75, color='k', histtype='step', density=True)\n",
    "\t\t\tplt.xlabel(r'$\\rm m_{obs}$')\n",
    "\t\t\tplt.plot(x, y)\n",
    "\t\t\tplt.savefig(path_plot, overwrite=True)\n",
    "\t\telse:\n",
    "\t\t\tpass\n",
    "\t\t#\tmore complicated choice with the fixed random seed\n",
    "\t\tnp.random.seed(int((nseed+1)+(mu*1e2)))\n",
    "\t\treturn np.random.choice(x, p=y/np.sum(y))\n",
    "\texcept:\n",
    "\t\t# print('Something goes wrong (add_noise function)')\n",
    "\t\treturn None"
   ]
  },
  {
   "cell_type": "code",
   "execution_count": 9,
   "metadata": {},
   "outputs": [
    {
     "name": "stdout",
     "output_type": "stream",
     "text": [
      "Time (10 iter.) : 1.335 sec\n",
      "Time/iteration  : 0.133 sec/iter.\n"
     ]
    }
   ],
   "source": [
    "#\tSetting\n",
    "niteration = 10\n",
    "d = 40*u.Mpc\n",
    "aperfrac = calc_GaussianFraction(seeing=2.0, optfactor=1.0, path_plot=None)\n",
    "times = np.unique(intbl['t'])\n",
    "bfilterlist = [filte for filte in intbl.keys() if filte != 't']\n",
    "\n",
    "t0 = time.time()\n",
    "tablelist = []\n",
    "for nseed in range(niteration):\n",
    "\n",
    "\toutbl = Table()\n",
    "\t# outbl.meta['distance'] = d\n",
    "\toutbl['seed'] = [nseed]*len(times)\n",
    "\toutbl['t'] = times\n",
    "\n",
    "\tfor filte in bfilterlist:\n",
    "\t\tdepth = get_kmtnet_depth(filte)*u.ABmag\n",
    "\t\t# depth = dptbl['5sigma_depth'][dptbl['name']==filte].item()*u.ABmag\n",
    "\t\t# outbl.meta[f'depth_{filte}'] = depth\n",
    "\n",
    "\t\toutbl[f'magabs_{filte}'] = (intbl[filte]+magoffset)*u.ABmag\n",
    "\t\toutbl[f'magapp_{filte}'] = convert_abs2app(outbl[f'magabs_{filte}'], d.to(u.pc).value)*u.ABmag\n",
    "\t\toutbl[f'snr_{filte}'] = calc_snr(outbl[f'magapp_{filte}'], depth.value)*aperfrac\n",
    "\t\toutbl[f'magerr_{filte}'] = convert_snr2magerr(outbl[f'snr_{filte}'])*u.ABmag\n",
    "\t\toutbl[f'magobs_{filte}'] = [add_noise(mu=m, sigma=merr, nseed=nseed, n=10, path_plot=None) for m, merr in zip(outbl[f'magapp_{filte}'], outbl[f'magerr_{filte}'])]*u.ABmag\n",
    "\t\t\n",
    "\t\toutbl[f'fnu_{filte}'] = outbl[f'magapp_{filte}'].to(u.uJy)\n",
    "\t\toutbl[f'fnuobs_{filte}'] = outbl[f'magobs_{filte}'].to(u.uJy)\n",
    "\t\toutbl[f'fnuerr_{filte}'] = outbl[f'fnu_{filte}']/outbl[f'snr_{filte}']\n",
    "\n",
    "\t\toutbl[f'detection_{filte}'] = [True if m<=depth.value else False for m in outbl[f'magobs_{filte}']]\n",
    "\n",
    "\t\toutbl[f'magabs_{filte}'].format = '1.3f'\n",
    "\t\toutbl[f'magapp_{filte}'].format = '1.3f'\n",
    "\t\toutbl[f'magerr_{filte}'].format = '1.3f'\n",
    "\t\toutbl[f'magobs_{filte}'].format = '1.3f'\n",
    "\t\toutbl[f'fnu_{filte}'].format = '1.3f'\n",
    "\t\toutbl[f'fnuobs_{filte}'].format = '1.3f'\n",
    "\t\toutbl[f'fnuerr_{filte}'].format = '1.3f'\n",
    "\t\toutbl[f'snr_{filte}'].format = '1.3f'\n",
    "\n",
    "\t#\tTable of results --> tabelist\n",
    "\ttablelist.append(outbl)\n",
    "\n",
    "comtbl = vstack(tablelist)\n",
    "comtbl.meta['name'] = os.path.basename(knsp)\n",
    "for filte in bfilterlist: comtbl.meta[f'depth_{filte}'] = get_kmtnet_depth(filte)*u.ABmag\n",
    "comtbl.meta['distance'] = d\n",
    "comtbl.meta['dshape'] = dshape\n",
    "comtbl.meta['lat'] = lat\n",
    "comtbl.meta['md'] = md\n",
    "comtbl.meta['vd'] = vd\n",
    "comtbl.meta['mw'] = mw\n",
    "comtbl.meta['vw'] = vw\n",
    "comtbl.meta['angle'] = angle\n",
    "\n",
    "delt = time.time() - t0\n",
    "print(f\"Time ({niteration} iter.) : {delt:1.3f} sec\")\n",
    "print(f\"Time/iteration  : {delt/niteration:1.3f} sec/iter.\")"
   ]
  },
  {
   "cell_type": "markdown",
   "metadata": {},
   "source": [
    "- Expected time"
   ]
  },
  {
   "cell_type": "code",
   "execution_count": 10,
   "metadata": {},
   "outputs": [
    {
     "name": "stdout",
     "output_type": "stream",
     "text": [
      "10^0 iter. : 0.002 min\n",
      "10^1 iter. : 0.022 min\n",
      "10^2 iter. : 0.222 min\n",
      "10^3 iter. : 2.224 min\n"
     ]
    }
   ],
   "source": [
    "ndelt = delt/niteration\n",
    "for nn in np.arange(0, 3+1, 1):\n",
    "\tprint(f\"10^{nn} iter. : {(ndelt*10**nn)/60:1.3f} min\")\n"
   ]
  },
  {
   "cell_type": "code",
   "execution_count": 11,
   "metadata": {},
   "outputs": [
    {
     "data": {
      "text/html": [
       "<div><i>Table length=20</i>\n",
       "<table id=\"table5083063792\" class=\"table-striped table-bordered table-condensed\">\n",
       "<thead><tr><th>seed</th><th>t</th><th>magabs_B</th><th>magapp_B</th><th>snr_B</th><th>magerr_B</th><th>magobs_B</th><th>fnu_B</th><th>fnuobs_B</th><th>fnuerr_B</th><th>detection_B</th><th>magabs_V</th><th>magapp_V</th><th>snr_V</th><th>magerr_V</th><th>magobs_V</th><th>fnu_V</th><th>fnuobs_V</th><th>fnuerr_V</th><th>detection_V</th><th>magabs_R</th><th>magapp_R</th><th>snr_R</th><th>magerr_R</th><th>magobs_R</th><th>fnu_R</th><th>fnuobs_R</th><th>fnuerr_R</th><th>detection_R</th><th>magabs_I</th><th>magapp_I</th><th>snr_I</th><th>magerr_I</th><th>magobs_I</th><th>fnu_I</th><th>fnuobs_I</th><th>fnuerr_I</th><th>detection_I</th></tr></thead>\n",
       "<thead><tr><th></th><th>d</th><th>mag(AB)</th><th>mag(AB)</th><th>mag(AB)</th><th>mag(AB)</th><th>mag(AB)</th><th>uJy</th><th>uJy</th><th>uJy</th><th></th><th>mag(AB)</th><th>mag(AB)</th><th>mag(AB)</th><th>mag(AB)</th><th>mag(AB)</th><th>uJy</th><th>uJy</th><th>uJy</th><th></th><th>mag(AB)</th><th>mag(AB)</th><th>mag(AB)</th><th>mag(AB)</th><th>mag(AB)</th><th>uJy</th><th>uJy</th><th>uJy</th><th></th><th>mag(AB)</th><th>mag(AB)</th><th>mag(AB)</th><th>mag(AB)</th><th>mag(AB)</th><th>uJy</th><th>uJy</th><th>uJy</th><th></th></tr></thead>\n",
       "<thead><tr><th>int64</th><th>float64</th><th>float64</th><th>float64</th><th>float64</th><th>float64</th><th>float64</th><th>float64</th><th>float64</th><th>float64</th><th>bool</th><th>float64</th><th>float64</th><th>float64</th><th>float64</th><th>float64</th><th>float64</th><th>float64</th><th>float64</th><th>bool</th><th>float64</th><th>float64</th><th>float64</th><th>float64</th><th>float64</th><th>float64</th><th>float64</th><th>float64</th><th>bool</th><th>float64</th><th>float64</th><th>float64</th><th>float64</th><th>float64</th><th>float64</th><th>float64</th><th>float64</th><th>bool</th></tr></thead>\n",
       "<tr><td>0</td><td>0.297</td><td>-18.171</td><td>14.840</td><td>54.214</td><td>0.020</td><td>14.843</td><td>4209.093</td><td>4197.492</td><td>77.639</td><td>True</td><td>-17.771</td><td>15.240</td><td>41.149</td><td>0.026</td><td>15.281</td><td>2911.255</td><td>2803.550</td><td>70.749</td><td>True</td><td>-17.652</td><td>15.359</td><td>41.671</td><td>0.026</td><td>15.392</td><td>2609.134</td><td>2529.386</td><td>62.613</td><td>True</td><td>-17.350</td><td>15.660</td><td>26.073</td><td>0.041</td><td>15.615</td><td>1976.594</td><td>2061.539</td><td>75.809</td><td>True</td></tr>\n",
       "<tr><td>0</td><td>0.324</td><td>-18.187</td><td>14.824</td><td>54.612</td><td>0.020</td><td>14.821</td><td>4271.146</td><td>4280.922</td><td>78.209</td><td>True</td><td>-17.824</td><td>15.187</td><td>42.170</td><td>0.025</td><td>15.163</td><td>3057.590</td><td>3125.111</td><td>72.505</td><td>True</td><td>-17.689</td><td>15.321</td><td>42.403</td><td>0.025</td><td>15.350</td><td>2701.670</td><td>2630.579</td><td>63.714</td><td>True</td><td>-17.405</td><td>15.605</td><td>26.746</td><td>0.040</td><td>15.658</td><td>2079.889</td><td>1980.205</td><td>77.765</td><td>True</td></tr>\n",
       "<tr><td>0</td><td>0.354</td><td>-18.183</td><td>14.827</td><td>54.531</td><td>0.020</td><td>14.824</td><td>4258.483</td><td>4268.244</td><td>78.093</td><td>True</td><td>-17.865</td><td>15.145</td><td>42.983</td><td>0.025</td><td>15.192</td><td>3176.513</td><td>3043.145</td><td>73.902</td><td>True</td><td>-17.722</td><td>15.288</td><td>43.051</td><td>0.025</td><td>15.266</td><td>2784.804</td><td>2841.193</td><td>64.687</td><td>True</td><td>-17.455</td><td>15.556</td><td>27.359</td><td>0.039</td><td>15.563</td><td>2176.382</td><td>2161.122</td><td>79.548</td><td>True</td></tr>\n",
       "<tr><td>0</td><td>0.386</td><td>-18.157</td><td>14.853</td><td>53.879</td><td>0.020</td><td>14.845</td><td>4157.323</td><td>4189.172</td><td>77.160</td><td>True</td><td>-17.898</td><td>15.112</td><td>43.646</td><td>0.025</td><td>15.075</td><td>3275.242</td><td>3388.831</td><td>75.042</td><td>True</td><td>-17.746</td><td>15.265</td><td>43.515</td><td>0.025</td><td>15.255</td><td>2845.210</td><td>2870.533</td><td>65.384</td><td>True</td><td>-17.494</td><td>15.516</td><td>27.865</td><td>0.038</td><td>15.485</td><td>2257.612</td><td>2322.526</td><td>81.019</td><td>True</td></tr>\n",
       "<tr><td>0</td><td>0.42</td><td>-18.105</td><td>14.905</td><td>52.598</td><td>0.020</td><td>14.921</td><td>3961.927</td><td>3905.916</td><td>75.325</td><td>True</td><td>-17.923</td><td>15.087</td><td>44.141</td><td>0.024</td><td>15.090</td><td>3349.995</td><td>3341.825</td><td>75.893</td><td>True</td><td>-17.778</td><td>15.233</td><td>44.162</td><td>0.024</td><td>15.271</td><td>2930.469</td><td>2829.241</td><td>66.357</td><td>True</td><td>-17.529</td><td>15.482</td><td>28.309</td><td>0.038</td><td>15.447</td><td>2330.031</td><td>2404.480</td><td>82.308</td><td>True</td></tr>\n",
       "<tr><td>0</td><td>0.459</td><td>-18.001</td><td>15.009</td><td>50.132</td><td>0.021</td><td>15.004</td><td>3599.213</td><td>3616.243</td><td>71.794</td><td>True</td><td>-17.939</td><td>15.071</td><td>44.472</td><td>0.024</td><td>15.086</td><td>3400.518</td><td>3353.734</td><td>76.463</td><td>True</td><td>-17.816</td><td>15.194</td><td>44.951</td><td>0.024</td><td>15.169</td><td>3036.066</td><td>3105.999</td><td>67.542</td><td>True</td><td>-17.569</td><td>15.441</td><td>28.839</td><td>0.037</td><td>15.451</td><td>2418.236</td><td>2396.736</td><td>83.852</td><td>True</td></tr>\n",
       "<tr><td>0</td><td>0.5</td><td>-17.826</td><td>15.184</td><td>46.256</td><td>0.023</td><td>15.163</td><td>3064.188</td><td>3125.882</td><td>66.244</td><td>True</td><td>-17.941</td><td>15.069</td><td>44.516</td><td>0.024</td><td>15.037</td><td>3407.167</td><td>3510.196</td><td>76.538</td><td>True</td><td>-17.863</td><td>15.147</td><td>45.942</td><td>0.023</td><td>15.190</td><td>3171.402</td><td>3046.564</td><td>69.031</td><td>True</td><td>-17.619</td><td>15.391</td><td>29.511</td><td>0.036</td><td>15.428</td><td>2532.137</td><td>2446.943</td><td>85.804</td><td>True</td></tr>\n",
       "<tr><td>0</td><td>0.545</td><td>-17.574</td><td>15.436</td><td>41.184</td><td>0.026</td><td>15.433</td><td>2429.006</td><td>2436.301</td><td>58.979</td><td>True</td><td>-17.911</td><td>15.099</td><td>43.902</td><td>0.024</td><td>15.074</td><td>3313.829</td><td>3390.457</td><td>75.483</td><td>True</td><td>-17.917</td><td>15.093</td><td>47.085</td><td>0.023</td><td>15.070</td><td>3331.228</td><td>3403.049</td><td>70.749</td><td>True</td><td>-17.682</td><td>15.328</td><td>30.383</td><td>0.035</td><td>15.368</td><td>2683.990</td><td>2586.377</td><td>88.339</td><td>True</td></tr>\n",
       "<tr><td>0</td><td>0.595</td><td>-17.260</td><td>15.750</td><td>35.639</td><td>0.030</td><td>15.737</td><td>1818.990</td><td>1841.426</td><td>51.039</td><td>True</td><td>-17.828</td><td>15.182</td><td>42.261</td><td>0.025</td><td>15.158</td><td>3070.733</td><td>3138.399</td><td>72.661</td><td>True</td><td>-17.955</td><td>15.055</td><td>47.916</td><td>0.022</td><td>15.067</td><td>3449.872</td><td>3413.580</td><td>71.998</td><td>True</td><td>-17.746</td><td>15.264</td><td>31.295</td><td>0.034</td><td>15.250</td><td>2847.588</td><td>2882.735</td><td>90.992</td><td>True</td></tr>\n",
       "<tr><td>0</td><td>0.648</td><td>-16.935</td><td>16.075</td><td>30.688</td><td>0.035</td><td>16.056</td><td>1348.672</td><td>1373.065</td><td>43.948</td><td>True</td><td>-17.690</td><td>15.320</td><td>39.650</td><td>0.027</td><td>15.351</td><td>2703.080</td><td>2627.145</td><td>68.173</td><td>True</td><td>-17.958</td><td>15.052</td><td>47.998</td><td>0.022</td><td>15.063</td><td>3461.609</td><td>3425.256</td><td>72.120</td><td>True</td><td>-17.790</td><td>15.221</td><td>31.924</td><td>0.033</td><td>15.231</td><td>2963.204</td><td>2934.825</td><td>92.821</td><td>True</td></tr>\n",
       "<tr><td>0</td><td>0.707</td><td>-16.644</td><td>16.366</td><td>26.842</td><td>0.040</td><td>16.357</td><td>1031.808</td><td>1040.639</td><td>38.440</td><td>True</td><td>-17.503</td><td>15.507</td><td>36.382</td><td>0.029</td><td>15.479</td><td>2275.804</td><td>2335.948</td><td>62.553</td><td>True</td><td>-17.920</td><td>15.090</td><td>47.158</td><td>0.023</td><td>15.067</td><td>3341.529</td><td>3413.462</td><td>70.858</td><td>True</td><td>-17.801</td><td>15.209</td><td>32.090</td><td>0.033</td><td>15.208</td><td>2994.172</td><td>2998.586</td><td>93.304</td><td>True</td></tr>\n",
       "<tr><td>0</td><td>0.771</td><td>-16.398</td><td>16.612</td><td>23.967</td><td>0.044</td><td>16.637</td><td>822.592</td><td>803.680</td><td>34.322</td><td>True</td><td>-17.300</td><td>15.710</td><td>33.133</td><td>0.032</td><td>15.715</td><td>1887.494</td><td>1879.095</td><td>56.967</td><td>True</td><td>-17.845</td><td>15.165</td><td>45.550</td><td>0.024</td><td>15.110</td><td>3117.515</td><td>3281.171</td><td>68.442</td><td>True</td><td>-17.785</td><td>15.225</td><td>31.852</td><td>0.034</td><td>15.236</td><td>2949.925</td><td>2921.611</td><td>92.612</td><td>True</td></tr>\n",
       "<tr><td>0</td><td>0.841</td><td>-16.182</td><td>16.828</td><td>21.696</td><td>0.049</td><td>16.823</td><td>674.093</td><td>677.168</td><td>31.070</td><td>True</td><td>-17.106</td><td>15.904</td><td>30.305</td><td>0.035</td><td>15.896</td><td>1579.036</td><td>1590.457</td><td>52.105</td><td>True</td><td>-17.743</td><td>15.268</td><td>43.454</td><td>0.025</td><td>15.258</td><td>2837.255</td><td>2862.543</td><td>65.293</td><td>True</td><td>-17.745</td><td>15.265</td><td>31.278</td><td>0.034</td><td>15.252</td><td>2844.427</td><td>2879.554</td><td>90.941</td><td>True</td></tr>\n",
       "<tr><td>0</td><td>0.917</td><td>-15.978</td><td>17.032</td><td>19.754</td><td>0.054</td><td>16.936</td><td>558.816</td><td>610.312</td><td>28.289</td><td>True</td><td>-16.929</td><td>16.082</td><td>27.925</td><td>0.038</td><td>16.065</td><td>1340.745</td><td>1361.854</td><td>48.013</td><td>True</td><td>-17.621</td><td>15.389</td><td>41.087</td><td>0.026</td><td>15.410</td><td>2536.569</td><td>2488.836</td><td>61.736</td><td>True</td><td>-17.688</td><td>15.322</td><td>30.468</td><td>0.035</td><td>15.362</td><td>2699.111</td><td>2601.213</td><td>88.588</td><td>True</td></tr>\n",
       "<tr><td>0</td><td>1.0</td><td>-15.772</td><td>17.239</td><td>17.958</td><td>0.059</td><td>17.291</td><td>461.847</td><td>440.221</td><td>25.718</td><td>True</td><td>-16.765</td><td>16.245</td><td>25.903</td><td>0.041</td><td>16.284</td><td>1153.603</td><td>1112.617</td><td>44.536</td><td>True</td><td>-17.481</td><td>15.529</td><td>38.525</td><td>0.028</td><td>15.541</td><td>2230.026</td><td>2206.153</td><td>57.886</td><td>True</td><td>-17.613</td><td>15.397</td><td>29.430</td><td>0.036</td><td>15.434</td><td>2518.318</td><td>2433.364</td><td>85.570</td><td>True</td></tr>\n",
       "<tr><td>0</td><td>1.091</td><td>-15.542</td><td>17.468</td><td>16.160</td><td>0.065</td><td>17.394</td><td>373.997</td><td>400.276</td><td>23.143</td><td>True</td><td>-16.610</td><td>16.401</td><td>24.110</td><td>0.044</td><td>16.337</td><td>999.455</td><td>1059.387</td><td>41.454</td><td>True</td><td>-17.321</td><td>15.690</td><td>35.780</td><td>0.030</td><td>15.682</td><td>1923.611</td><td>1937.073</td><td>53.762</td><td>True</td><td>-17.523</td><td>15.487</td><td>28.238</td><td>0.038</td><td>15.453</td><td>2318.369</td><td>2392.632</td><td>82.102</td><td>True</td></tr>\n",
       "<tr><td>0</td><td>1.189</td><td>-15.235</td><td>17.776</td><td>14.025</td><td>0.075</td><td>17.608</td><td>281.699</td><td>328.826</td><td>20.085</td><td>True</td><td>-16.428</td><td>16.582</td><td>22.178</td><td>0.048</td><td>16.600</td><td>845.716</td><td>832.101</td><td>38.132</td><td>True</td><td>-17.106</td><td>15.904</td><td>32.420</td><td>0.033</td><td>15.897</td><td>1579.267</td><td>1589.954</td><td>48.713</td><td>True</td><td>-17.418</td><td>15.592</td><td>26.907</td><td>0.040</td><td>15.609</td><td>2105.082</td><td>2072.989</td><td>78.234</td><td>True</td></tr>\n",
       "<tr><td>0</td><td>1.297</td><td>-14.824</td><td>18.186</td><td>11.609</td><td>0.090</td><td>18.118</td><td>192.989</td><td>205.430</td><td>16.625</td><td>True</td><td>-16.209</td><td>16.801</td><td>20.049</td><td>0.053</td><td>16.741</td><td>691.139</td><td>730.287</td><td>34.472</td><td>True</td><td>-16.821</td><td>16.189</td><td>28.426</td><td>0.038</td><td>16.167</td><td>1214.154</td><td>1239.133</td><td>42.712</td><td>True</td><td>-17.280</td><td>15.730</td><td>25.247</td><td>0.042</td><td>15.696</td><td>1853.254</td><td>1912.790</td><td>73.406</td><td>True</td></tr>\n",
       "<tr><td>0</td><td>1.414</td><td>-14.299</td><td>18.711</td><td>9.116</td><td>0.113</td><td>18.694</td><td>119.000</td><td>120.885</td><td>13.054</td><td>True</td><td>-15.916</td><td>17.095</td><td>17.515</td><td>0.060</td><td>17.193</td><td>527.428</td><td>481.683</td><td>30.114</td><td>True</td><td>-16.433</td><td>16.578</td><td>23.771</td><td>0.045</td><td>16.555</td><td>849.021</td><td>866.767</td><td>35.717</td><td>True</td><td>-17.079</td><td>15.931</td><td>23.018</td><td>0.046</td><td>15.924</td><td>1540.493</td><td>1550.945</td><td>66.926</td><td>True</td></tr>\n",
       "<tr><td>0</td><td>1.542</td><td>-13.591</td><td>19.420</td><td>6.577</td><td>0.154</td><td>19.451</td><td>61.957</td><td>60.194</td><td>9.420</td><td>True</td><td>-15.446</td><td>17.564</td><td>14.110</td><td>0.074</td><td>17.502</td><td>342.293</td><td>362.335</td><td>24.259</td><td>True</td><td>-15.888</td><td>17.122</td><td>18.501</td><td>0.057</td><td>17.127</td><td>514.296</td><td>511.704</td><td>27.799</td><td>True</td><td>-16.763</td><td>16.248</td><td>19.892</td><td>0.053</td><td>16.299</td><td>1150.548</td><td>1097.898</td><td>57.838</td><td>True</td></tr>\n",
       "</table></div>"
      ],
      "text/plain": [
       "<Table length=20>\n",
       " seed    t    magabs_B magapp_B ...  fnu_I   fnuobs_I fnuerr_I detection_I\n",
       "         d    mag(AB)  mag(AB)  ...   uJy      uJy      uJy               \n",
       "int64 float64 float64  float64  ... float64  float64  float64      bool   \n",
       "----- ------- -------- -------- ... -------- -------- -------- -----------\n",
       "    0   0.297  -18.171   14.840 ... 1976.594 2061.539   75.809        True\n",
       "    0   0.324  -18.187   14.824 ... 2079.889 1980.205   77.765        True\n",
       "    0   0.354  -18.183   14.827 ... 2176.382 2161.122   79.548        True\n",
       "    0   0.386  -18.157   14.853 ... 2257.612 2322.526   81.019        True\n",
       "    0    0.42  -18.105   14.905 ... 2330.031 2404.480   82.308        True\n",
       "    0   0.459  -18.001   15.009 ... 2418.236 2396.736   83.852        True\n",
       "    0     0.5  -17.826   15.184 ... 2532.137 2446.943   85.804        True\n",
       "    0   0.545  -17.574   15.436 ... 2683.990 2586.377   88.339        True\n",
       "    0   0.595  -17.260   15.750 ... 2847.588 2882.735   90.992        True\n",
       "    0   0.648  -16.935   16.075 ... 2963.204 2934.825   92.821        True\n",
       "    0   0.707  -16.644   16.366 ... 2994.172 2998.586   93.304        True\n",
       "    0   0.771  -16.398   16.612 ... 2949.925 2921.611   92.612        True\n",
       "    0   0.841  -16.182   16.828 ... 2844.427 2879.554   90.941        True\n",
       "    0   0.917  -15.978   17.032 ... 2699.111 2601.213   88.588        True\n",
       "    0     1.0  -15.772   17.239 ... 2518.318 2433.364   85.570        True\n",
       "    0   1.091  -15.542   17.468 ... 2318.369 2392.632   82.102        True\n",
       "    0   1.189  -15.235   17.776 ... 2105.082 2072.989   78.234        True\n",
       "    0   1.297  -14.824   18.186 ... 1853.254 1912.790   73.406        True\n",
       "    0   1.414  -14.299   18.711 ... 1540.493 1550.945   66.926        True\n",
       "    0   1.542  -13.591   19.420 ... 1150.548 1097.898   57.838        True"
      ]
     },
     "execution_count": 11,
     "metadata": {},
     "output_type": "execute_result"
    }
   ],
   "source": [
    "comtbl[10:30]\n",
    "# comtbl.meta"
   ]
  },
  {
   "cell_type": "code",
   "execution_count": 12,
   "metadata": {},
   "outputs": [
    {
     "data": {
      "text/plain": [
       "Text(0.5, 1.0, 't=0.125 days')"
      ]
     },
     "execution_count": 12,
     "metadata": {},
     "output_type": "execute_result"
    },
    {
     "data": {
      "image/png": "[encoded data removed]",
      "text/plain": [
       "<Figure size 640x480 with 1 Axes>"
      ]
     },
     "metadata": {},
     "output_type": "display_data"
    }
   ],
   "source": [
    "t = times[0]\n",
    "# seeds = np.arange(0, 99+1, 1)\n",
    "seeds = np.arange(0, 9, 1)\n",
    "nseed = len(seeds)\n",
    "# colors = makeSpecColors(nseed)\n",
    "\n",
    "for ii, nseed in enumerate(seeds):\n",
    "\tmagobslist = [comtbl[key][(comtbl['t']==t) & (comtbl['seed']==nseed)].item() for key in comtbl.keys() if 'magobs' in key]\n",
    "\tmagerrlist = [comtbl[key][(comtbl['t']==t) & (comtbl['seed']==nseed)].item() for key in comtbl.keys() if 'magerr' in key]\n",
    "\tif ii == 0:\n",
    "\t\tmagapplist = [comtbl[key][(comtbl['t']==t) & (comtbl['seed']==nseed)].item() for key in comtbl.keys() if 'magapp' in key]\n",
    "\t\tplt.errorbar(jclam, magapplist, xerr=jcbdw/2, yerr=magerrlist, marker='.', ms=10, capsize=3, elinewidth=2, c='red', label='Truth', ls='None', alpha=1.0)\n",
    "\telse:\n",
    "\t\tpass\n",
    "\n",
    "\tplt.errorbar(jclam, magobslist, xerr=jcbdw/2, yerr=magerrlist, ls='None', alpha=0.05, c='grey',)\n",
    "\n",
    "xl, xr = plt.xlim()\n",
    "yl, yu = plt.ylim()\n",
    "\n",
    "plt.errorbar(0, 0, xerr=0, yerr=0, ls='None', alpha=1.0, c='grey', label='Obs')\n",
    "\n",
    "plt.legend(loc='upper center', ncol=4, fontsize=14)\n",
    "plt.xlim([xl, xr])\n",
    "plt.ylim([yu, yl])\n",
    "plt.xlabel(r'Wavelength [$\\rm \\AA$]', fontsize=14)\n",
    "plt.ylabel('App. mag [AB]', fontsize=14)\n",
    "plt.title(f't={t:1.3f} days')"
   ]
  },
  {
   "cell_type": "markdown",
   "metadata": {},
   "source": [
    "# Iteration"
   ]
  },
  {
   "cell_type": "markdown",
   "metadata": {},
   "source": [
    "- Setting"
   ]
  },
  {
   "cell_type": "code",
   "execution_count": 13,
   "metadata": {},
   "outputs": [
    {
     "name": "stderr",
     "output_type": "stream",
     "text": [
      "mkdir: ../5.result/kn_sim_cube_obs: File exists\n"
     ]
    }
   ],
   "source": [
    "path_result = \"../5.result/kn_sim_cube_obs\"\n",
    "if ~os.path.exists(path_result): os.system(f\"mkdir {path_result}\")"
   ]
  },
  {
   "cell_type": "code",
   "execution_count": 14,
   "metadata": {},
   "outputs": [],
   "source": [
    "# niteration = int(1e2)\n",
    "niteration = int(1e0)\n",
    "d = 40*u.Mpc\n",
    "aperfrac = calc_GaussianFraction(seeing=2.0, optfactor=1.0, path_plot=None)"
   ]
  },
  {
   "cell_type": "code",
   "execution_count": 15,
   "metadata": {},
   "outputs": [
    {
     "data": {
      "text/plain": [
       "['../3.table/kn_sim_cube_synphot/Run_TP_dyn_all_lanth_wind1_all_md0.001_vd0.05_mw0.001_vw0.05_angle0_synphot_jc.ecsv',\n",
       " '../3.table/kn_sim_cube_synphot/Run_TP_dyn_all_lanth_wind1_all_md0.001_vd0.05_mw0.001_vw0.05_angle120_synphot_jc.ecsv',\n",
       " '../3.table/kn_sim_cube_synphot/Run_TP_dyn_all_lanth_wind1_all_md0.001_vd0.05_mw0.001_vw0.05_angle150_synphot_jc.ecsv',\n",
       " '../3.table/kn_sim_cube_synphot/Run_TP_dyn_all_lanth_wind1_all_md0.001_vd0.05_mw0.001_vw0.05_angle180_synphot_jc.ecsv',\n",
       " '../3.table/kn_sim_cube_synphot/Run_TP_dyn_all_lanth_wind1_all_md0.001_vd0.05_mw0.001_vw0.05_angle30_synphot_jc.ecsv']"
      ]
     },
     "execution_count": 15,
     "metadata": {},
     "output_type": "execute_result"
    }
   ],
   "source": [
    "knsplist = sorted(glob.glob(\"../3.table/kn_sim_cube_synphot/Run_*_synphot_jc.ecsv\"))\n",
    "knsplist[:5]"
   ]
  },
  {
   "cell_type": "code",
   "execution_count": 16,
   "metadata": {},
   "outputs": [],
   "source": [
    "d = 120*u.Mpc"
   ]
  },
  {
   "cell_type": "code",
   "execution_count": 17,
   "metadata": {},
   "outputs": [
    {
     "name": "stdout",
     "output_type": "stream",
     "text": [
      "Time : 317.686 sec\n"
     ]
    }
   ],
   "source": [
    "d = 40*u.Mpc\n",
    "\n",
    "import test\n",
    "\n",
    "t0 = time.time()\n",
    "ncores = 3\n",
    "# knsplist0 = knsplist[:5]\n",
    "\n",
    "if __name__ == '__main__':\n",
    "    pool = multiprocessing.Pool(processes=ncores)  # 현재 시스템에서 사용 할 프로세스 개수\n",
    "    # pool.map(test.run_table_routine, zip(knsplist0, repeat(niteration), repeat(magoffset), repeat(dptbl), repeat(slam), repeat(sbdw)))\n",
    "    pool.starmap(test.run_table_routine4kmtnet, zip(knsplist, repeat(d), repeat(niteration), repeat(aperfrac), repeat(magoffset), repeat(jclam), repeat(jcbdw)))\n",
    "\n",
    "    pool.close()\n",
    "    pool.join()\n",
    "\n",
    "delt = time.time() - t0\n",
    "print(f\"Time : {delt:1.3f} sec\")\n",
    "\n",
    "# run_table_routine(knsp, niteration, magoffset, dptbl, slam, sbdw)"
   ]
  },
  {
   "cell_type": "code",
   "execution_count": 18,
   "metadata": {},
   "outputs": [
    {
     "name": "stdout",
     "output_type": "stream",
     "text": [
      "Time : 337.903 sec\n"
     ]
    }
   ],
   "source": [
    "d = 80*u.Mpc\n",
    "\n",
    "import test\n",
    "\n",
    "t0 = time.time()\n",
    "ncores = 3\n",
    "# knsplist0 = knsplist[:5]\n",
    "\n",
    "if __name__ == '__main__':\n",
    "    pool = multiprocessing.Pool(processes=ncores)  # 현재 시스템에서 사용 할 프로세스 개수\n",
    "    # pool.map(test.run_table_routine, zip(knsplist0, repeat(niteration), repeat(magoffset), repeat(dptbl), repeat(slam), repeat(sbdw)))\n",
    "    pool.starmap(test.run_table_routine4kmtnet, zip(knsplist, repeat(d), repeat(niteration), repeat(aperfrac), repeat(magoffset), repeat(jclam), repeat(jcbdw)))\n",
    "\n",
    "    pool.close()\n",
    "    pool.join()\n",
    "\n",
    "delt = time.time() - t0\n",
    "print(f\"Time : {delt:1.3f} sec\")\n",
    "\n",
    "# run_table_routine(knsp, niteration, magoffset, dptbl, slam, sbdw)"
   ]
  },
  {
   "cell_type": "code",
   "execution_count": 19,
   "metadata": {},
   "outputs": [
    {
     "name": "stdout",
     "output_type": "stream",
     "text": [
      "Time : 353.782 sec\n"
     ]
    }
   ],
   "source": [
    "d = 120*u.Mpc\n",
    "\n",
    "import test\n",
    "\n",
    "t0 = time.time()\n",
    "ncores = 3\n",
    "# knsplist0 = knsplist[:5]\n",
    "\n",
    "if __name__ == '__main__':\n",
    "    pool = multiprocessing.Pool(processes=ncores)  # 현재 시스템에서 사용 할 프로세스 개수\n",
    "    # pool.map(test.run_table_routine, zip(knsplist0, repeat(niteration), repeat(magoffset), repeat(dptbl), repeat(slam), repeat(sbdw)))\n",
    "    pool.starmap(test.run_table_routine4kmtnet, zip(knsplist, repeat(d), repeat(niteration), repeat(aperfrac), repeat(magoffset), repeat(jclam), repeat(jcbdw)))\n",
    "\n",
    "    pool.close()\n",
    "    pool.join()\n",
    "\n",
    "delt = time.time() - t0\n",
    "print(f\"Time : {delt:1.3f} sec\")\n",
    "\n",
    "# run_table_routine(knsp, niteration, magoffset, dptbl, slam, sbdw)"
   ]
  },
  {
   "cell_type": "code",
   "execution_count": 20,
   "metadata": {},
   "outputs": [
    {
     "name": "stdout",
     "output_type": "stream",
     "text": [
      "Time : 367.154 sec\n"
     ]
    }
   ],
   "source": [
    "d = 160*u.Mpc\n",
    "\n",
    "import test\n",
    "\n",
    "t0 = time.time()\n",
    "ncores = 3\n",
    "# knsplist0 = knsplist[:5]\n",
    "\n",
    "if __name__ == '__main__':\n",
    "    pool = multiprocessing.Pool(processes=ncores)  # 현재 시스템에서 사용 할 프로세스 개수\n",
    "    # pool.map(test.run_table_routine, zip(knsplist0, repeat(niteration), repeat(magoffset), repeat(dptbl), repeat(slam), repeat(sbdw)))\n",
    "    pool.starmap(test.run_table_routine4kmtnet, zip(knsplist, repeat(d), repeat(niteration), repeat(aperfrac), repeat(magoffset), repeat(jclam), repeat(jcbdw)))\n",
    "\n",
    "    pool.close()\n",
    "    pool.join()\n",
    "\n",
    "delt = time.time() - t0\n",
    "print(f\"Time : {delt:1.3f} sec\")\n",
    "\n",
    "# run_table_routine(knsp, niteration, magoffset, dptbl, slam, sbdw)"
   ]
  },
  {
   "cell_type": "code",
   "execution_count": 21,
   "metadata": {},
   "outputs": [
    {
     "name": "stdout",
     "output_type": "stream",
     "text": [
      "Time : 369.530 sec\n"
     ]
    }
   ],
   "source": [
    "d = 200*u.Mpc\n",
    "\n",
    "import test\n",
    "\n",
    "t0 = time.time()\n",
    "ncores = 3\n",
    "# knsplist0 = knsplist[:5]\n",
    "\n",
    "if __name__ == '__main__':\n",
    "    pool = multiprocessing.Pool(processes=ncores)  # 현재 시스템에서 사용 할 프로세스 개수\n",
    "    # pool.map(test.run_table_routine, zip(knsplist0, repeat(niteration), repeat(magoffset), repeat(dptbl), repeat(slam), repeat(sbdw)))\n",
    "    pool.starmap(test.run_table_routine4kmtnet, zip(knsplist, repeat(d), repeat(niteration), repeat(aperfrac), repeat(magoffset), repeat(jclam), repeat(jcbdw)))\n",
    "\n",
    "    pool.close()\n",
    "    pool.join()\n",
    "\n",
    "delt = time.time() - t0\n",
    "print(f\"Time : {delt:1.3f} sec\")\n",
    "\n",
    "# run_table_routine(knsp, niteration, magoffset, dptbl, slam, sbdw)"
   ]
  }
 ],
 "metadata": {
  "kernelspec": {
   "display_name": "Python 3.10.6 ('kn')",
   "language": "python",
   "name": "python3"
  },
  "language_info": {
   "codemirror_mode": {
    "name": "ipython",
    "version": 3
   },
   "file_extension": ".py",
   "mimetype": "text/x-python",
   "name": "python",
   "nbconvert_exporter": "python",
   "pygments_lexer": "ipython3",
   "version": "3.10.6"
  },
  "orig_nbformat": 4,
  "vscode": {
   "interpreter": {
    "hash": "0fa65c9a91e45692839231d985ed151f2fe21fa37e863d955851b77a1cee7351"
   }
  }
 },
 "nbformat": 4,
 "nbformat_minor": 2
}
